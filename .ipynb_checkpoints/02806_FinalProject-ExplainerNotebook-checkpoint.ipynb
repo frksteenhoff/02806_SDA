{
 "cells": [
  {
   "cell_type": "markdown",
   "metadata": {},
   "source": [
    "# <span style=\"color:green\">Final Project - Explainer Notebook</span>\n",
    "---\n",
    "\n",
    "This report is written in the course 02806 Social Data Analysis, spring 2017, based on the assignment description found [here](https://github.com/suneman/socialdataanalysis2017/wiki/Final-Project) for the final exam project. "
   ]
  },
  {
   "cell_type": "markdown",
   "metadata": {},
   "source": [
    "## <span style=\"color:green\">Motivation</span>"
   ]
  },
  {
   "cell_type": "markdown",
   "metadata": {
    "collapsed": true
   },
   "source": [
    "### <span style=\"color:green\">What is your dataset?</span>\n",
    "\n",
    "The dataset chosen for this project is from the Public Safety section from the website of New York OpenData -- \"NY Traffic Collisions\""
   ]
  },
  {
   "cell_type": "markdown",
   "metadata": {
    "collapsed": true
   },
   "source": [
    "### <span style=\"color:green\">Why did you choose this/these particular dataset(s)?</span>\n",
    "\n",
    "Going through different OpenData sources such as [London OpenData](https://data.london.gov.uk/), [SF OpenData](https://data.sfgov.org/), [European OpenData](https://open-data.europa.eu) that what seemed as a lot of different opportunities in chosing data was in fact not. A lot of the publicly available data was lacking either in size (only a few years) or extremely badly formatted, only with a few features, a lot of missing values etc. What would be nice was if there were several years (5-10) and lots of different features to chose from. This way it would be possible to take some active choices on what to keep or discard and chose what was important for predictions, basic statistics and so on.\n",
    "\n",
    "Looking into [NYC OpenData](http://opendata.cityofnewyork.us/) and the Public Safety Category, the \"Traffic Collisions\" dataset was discovered. Here we get information on where in New York different traffic collisions happens, the involved parties, which type of vehicle, whether the driver was distrated/unattentive, the contributing factors, geolocations -- a great level of detail to work on and make predictions on!\n",
    "\n",
    "In all we have $29$ features and $226.051$ different incidents from 2012 until March 24th 2017 -- the data is soo fresh!"
   ]
  },
  {
   "cell_type": "markdown",
   "metadata": {},
   "source": [
    "### <span style=\"color:green\">What was your goal for the end user's experience?</span>"
   ]
  },
  {
   "cell_type": "markdown",
   "metadata": {},
   "source": [
    "## <span style=\"color:green\">Basic stats</span>"
   ]
  },
  {
   "cell_type": "markdown",
   "metadata": {},
   "source": [
    "### <span style=\"color:green\">Libraries</span>\n",
    "**Importing needed packages for entire solution**\n"
   ]
  },
  {
   "cell_type": "code",
   "execution_count": 93,
   "metadata": {
    "collapsed": true
   },
   "outputs": [],
   "source": [
    "import urllib2\n",
    "import numpy as np\n",
    "import re\n",
    "import matplotlib.pyplot as plt\n",
    "from matplotlib.colors import ListedColormap\n",
    "from mpl_toolkits.mplot3d import Axes3D\n",
    "%matplotlib inline\n",
    "from scipy import stats, linalg\n",
    "from scipy.interpolate import interp1d\n",
    "import pandas as pd\n",
    "from collections import Counter \n",
    "from operator import itemgetter\n",
    "import geoplotlib as gpl\n",
    "from geoplotlib.utils import BoundingBox\n",
    "from sklearn.preprocessing import LabelEncoder, OneHotEncoder, MinMaxScaler\n",
    "import pylab as pl\n",
    "from sklearn import neighbors, datasets\n",
    "from sklearn.neighbors import KNeighborsClassifier\n",
    "\n",
    "# Plotting with plotly\n",
    "import plotly \n",
    "from IPython.display import Image\n",
    "# Henriettes plotly API key og brugernavn -- gemmer plots i skyen\n",
    "plotly.tools.set_credentials_file(username='frksteenhoff2', api_key='duu8hsfRmuI5rF2EU8o5')\n",
    "import plotly.plotly as py\n",
    "import plotly.graph_objs as go"
   ]
  },
  {
   "cell_type": "code",
   "execution_count": 104,
   "metadata": {
    "collapsed": true
   },
   "outputs": [],
   "source": [
    "# Importing data using pandas\n",
    "traffic_data = pd.read_csv('NY_Traffic_Collisions.csv') # Updated 20th of February"
   ]
  },
  {
   "cell_type": "code",
   "execution_count": 105,
   "metadata": {
    "collapsed": false
   },
   "outputs": [
    {
     "data": {
      "text/html": [
       "<div>\n",
       "<table border=\"1\" class=\"dataframe\">\n",
       "  <thead>\n",
       "    <tr style=\"text-align: right;\">\n",
       "      <th></th>\n",
       "      <th>DATE</th>\n",
       "      <th>TIME</th>\n",
       "      <th>BOROUGH</th>\n",
       "      <th>ZIP CODE</th>\n",
       "      <th>LATITUDE</th>\n",
       "      <th>LONGITUDE</th>\n",
       "      <th>LOCATION</th>\n",
       "      <th>ON STREET NAME</th>\n",
       "      <th>CROSS STREET NAME</th>\n",
       "      <th>OFF STREET NAME</th>\n",
       "      <th>...</th>\n",
       "      <th>CONTRIBUTING FACTOR VEHICLE 2</th>\n",
       "      <th>CONTRIBUTING FACTOR VEHICLE 3</th>\n",
       "      <th>CONTRIBUTING FACTOR VEHICLE 4</th>\n",
       "      <th>CONTRIBUTING FACTOR VEHICLE 5</th>\n",
       "      <th>UNIQUE KEY</th>\n",
       "      <th>VEHICLE TYPE CODE 1</th>\n",
       "      <th>VEHICLE TYPE CODE 2</th>\n",
       "      <th>VEHICLE TYPE CODE 3</th>\n",
       "      <th>VEHICLE TYPE CODE 4</th>\n",
       "      <th>VEHICLE TYPE CODE 5</th>\n",
       "    </tr>\n",
       "  </thead>\n",
       "  <tbody>\n",
       "    <tr>\n",
       "      <th>0</th>\n",
       "      <td>03/24/2017</td>\n",
       "      <td>0:00</td>\n",
       "      <td>BROOKLYN</td>\n",
       "      <td>11220.0</td>\n",
       "      <td>40.633470</td>\n",
       "      <td>-74.021020</td>\n",
       "      <td>(40.63347, -74.02102)</td>\n",
       "      <td>BAY RIDGE AVENUE</td>\n",
       "      <td>5 AVENUE</td>\n",
       "      <td>NaN</td>\n",
       "      <td>...</td>\n",
       "      <td>Unspecified</td>\n",
       "      <td>NaN</td>\n",
       "      <td>NaN</td>\n",
       "      <td>NaN</td>\n",
       "      <td>3638505</td>\n",
       "      <td>PASSENGER VEHICLE</td>\n",
       "      <td>PICK-UP TRUCK</td>\n",
       "      <td>NaN</td>\n",
       "      <td>NaN</td>\n",
       "      <td>NaN</td>\n",
       "    </tr>\n",
       "    <tr>\n",
       "      <th>1</th>\n",
       "      <td>03/24/2017</td>\n",
       "      <td>0:00</td>\n",
       "      <td>BROOKLYN</td>\n",
       "      <td>11222.0</td>\n",
       "      <td>40.728416</td>\n",
       "      <td>-73.952415</td>\n",
       "      <td>(40.728416, -73.952415)</td>\n",
       "      <td>CALYER STREET</td>\n",
       "      <td>LEONARD STREET</td>\n",
       "      <td>NaN</td>\n",
       "      <td>...</td>\n",
       "      <td>Unspecified</td>\n",
       "      <td>NaN</td>\n",
       "      <td>NaN</td>\n",
       "      <td>NaN</td>\n",
       "      <td>3638289</td>\n",
       "      <td>PASSENGER VEHICLE</td>\n",
       "      <td>PASSENGER VEHICLE</td>\n",
       "      <td>NaN</td>\n",
       "      <td>NaN</td>\n",
       "      <td>NaN</td>\n",
       "    </tr>\n",
       "    <tr>\n",
       "      <th>2</th>\n",
       "      <td>03/24/2017</td>\n",
       "      <td>0:00</td>\n",
       "      <td>BROOKLYN</td>\n",
       "      <td>11222.0</td>\n",
       "      <td>40.725160</td>\n",
       "      <td>-73.946600</td>\n",
       "      <td>(40.72516, -73.9466)</td>\n",
       "      <td>NASSAU AVENUE</td>\n",
       "      <td>DIAMOND STREET</td>\n",
       "      <td>NaN</td>\n",
       "      <td>...</td>\n",
       "      <td>Unspecified</td>\n",
       "      <td>NaN</td>\n",
       "      <td>NaN</td>\n",
       "      <td>NaN</td>\n",
       "      <td>3639200</td>\n",
       "      <td>SPORT UTILITY / STATION WAGON</td>\n",
       "      <td>MOTORCYCLE</td>\n",
       "      <td>NaN</td>\n",
       "      <td>NaN</td>\n",
       "      <td>NaN</td>\n",
       "    </tr>\n",
       "    <tr>\n",
       "      <th>3</th>\n",
       "      <td>03/24/2017</td>\n",
       "      <td>0:00</td>\n",
       "      <td>BROOKLYN</td>\n",
       "      <td>11229.0</td>\n",
       "      <td>40.607710</td>\n",
       "      <td>-73.957150</td>\n",
       "      <td>(40.60771, -73.95715)</td>\n",
       "      <td>NaN</td>\n",
       "      <td>NaN</td>\n",
       "      <td>1716      EAST 16 STREET</td>\n",
       "      <td>...</td>\n",
       "      <td>NaN</td>\n",
       "      <td>NaN</td>\n",
       "      <td>NaN</td>\n",
       "      <td>NaN</td>\n",
       "      <td>3639489</td>\n",
       "      <td>NaN</td>\n",
       "      <td>NaN</td>\n",
       "      <td>NaN</td>\n",
       "      <td>NaN</td>\n",
       "      <td>NaN</td>\n",
       "    </tr>\n",
       "    <tr>\n",
       "      <th>4</th>\n",
       "      <td>03/24/2017</td>\n",
       "      <td>0:10</td>\n",
       "      <td>BROOKLYN</td>\n",
       "      <td>11234.0</td>\n",
       "      <td>40.614660</td>\n",
       "      <td>-73.923510</td>\n",
       "      <td>(40.61466, -73.92351)</td>\n",
       "      <td>EAST 53 STREET</td>\n",
       "      <td>FILLMORE AVENUE</td>\n",
       "      <td>NaN</td>\n",
       "      <td>...</td>\n",
       "      <td>Unspecified</td>\n",
       "      <td>NaN</td>\n",
       "      <td>NaN</td>\n",
       "      <td>NaN</td>\n",
       "      <td>3639728</td>\n",
       "      <td>PASSENGER VEHICLE</td>\n",
       "      <td>PASSENGER VEHICLE</td>\n",
       "      <td>NaN</td>\n",
       "      <td>NaN</td>\n",
       "      <td>NaN</td>\n",
       "    </tr>\n",
       "    <tr>\n",
       "      <th>5</th>\n",
       "      <td>03/24/2017</td>\n",
       "      <td>0:37</td>\n",
       "      <td>BROOKLYN</td>\n",
       "      <td>11208.0</td>\n",
       "      <td>40.674026</td>\n",
       "      <td>-73.872360</td>\n",
       "      <td>(40.674026, -73.87236)</td>\n",
       "      <td>DOSCHER STREET</td>\n",
       "      <td>BELMONT AVENUE</td>\n",
       "      <td>NaN</td>\n",
       "      <td>...</td>\n",
       "      <td>Unspecified</td>\n",
       "      <td>NaN</td>\n",
       "      <td>NaN</td>\n",
       "      <td>NaN</td>\n",
       "      <td>3638143</td>\n",
       "      <td>SPORT UTILITY / STATION WAGON</td>\n",
       "      <td>PASSENGER VEHICLE</td>\n",
       "      <td>NaN</td>\n",
       "      <td>NaN</td>\n",
       "      <td>NaN</td>\n",
       "    </tr>\n",
       "    <tr>\n",
       "      <th>6</th>\n",
       "      <td>03/24/2017</td>\n",
       "      <td>10:13</td>\n",
       "      <td>BROOKLYN</td>\n",
       "      <td>11213.0</td>\n",
       "      <td>40.672016</td>\n",
       "      <td>-73.940860</td>\n",
       "      <td>(40.672016, -73.94086)</td>\n",
       "      <td>STERLING PLACE</td>\n",
       "      <td>HAMPTON PLACE</td>\n",
       "      <td>NaN</td>\n",
       "      <td>...</td>\n",
       "      <td>Backing Unsafely</td>\n",
       "      <td>NaN</td>\n",
       "      <td>NaN</td>\n",
       "      <td>NaN</td>\n",
       "      <td>3639268</td>\n",
       "      <td>PASSENGER VEHICLE</td>\n",
       "      <td>PASSENGER VEHICLE</td>\n",
       "      <td>NaN</td>\n",
       "      <td>NaN</td>\n",
       "      <td>NaN</td>\n",
       "    </tr>\n",
       "    <tr>\n",
       "      <th>7</th>\n",
       "      <td>03/24/2017</td>\n",
       "      <td>10:15</td>\n",
       "      <td>BROOKLYN</td>\n",
       "      <td>11222.0</td>\n",
       "      <td>40.729168</td>\n",
       "      <td>-73.947900</td>\n",
       "      <td>(40.729168, -73.9479)</td>\n",
       "      <td>NaN</td>\n",
       "      <td>NaN</td>\n",
       "      <td>120       JEWEL STREET</td>\n",
       "      <td>...</td>\n",
       "      <td>Unspecified</td>\n",
       "      <td>NaN</td>\n",
       "      <td>NaN</td>\n",
       "      <td>NaN</td>\n",
       "      <td>3639194</td>\n",
       "      <td>PICK-UP TRUCK</td>\n",
       "      <td>NaN</td>\n",
       "      <td>NaN</td>\n",
       "      <td>NaN</td>\n",
       "      <td>NaN</td>\n",
       "    </tr>\n",
       "    <tr>\n",
       "      <th>8</th>\n",
       "      <td>03/24/2017</td>\n",
       "      <td>10:36</td>\n",
       "      <td>BROOKLYN</td>\n",
       "      <td>11230.0</td>\n",
       "      <td>40.629433</td>\n",
       "      <td>-73.967080</td>\n",
       "      <td>(40.629433, -73.96708)</td>\n",
       "      <td>EAST 10 STREET</td>\n",
       "      <td>AVENUE H</td>\n",
       "      <td>NaN</td>\n",
       "      <td>...</td>\n",
       "      <td>NaN</td>\n",
       "      <td>NaN</td>\n",
       "      <td>NaN</td>\n",
       "      <td>NaN</td>\n",
       "      <td>3638953</td>\n",
       "      <td>PASSENGER VEHICLE</td>\n",
       "      <td>NaN</td>\n",
       "      <td>NaN</td>\n",
       "      <td>NaN</td>\n",
       "      <td>NaN</td>\n",
       "    </tr>\n",
       "    <tr>\n",
       "      <th>9</th>\n",
       "      <td>03/24/2017</td>\n",
       "      <td>11:00</td>\n",
       "      <td>BROOKLYN</td>\n",
       "      <td>11220.0</td>\n",
       "      <td>40.645733</td>\n",
       "      <td>-74.020424</td>\n",
       "      <td>(40.645733, -74.020424)</td>\n",
       "      <td>56 STREET</td>\n",
       "      <td>2 AVENUE</td>\n",
       "      <td>NaN</td>\n",
       "      <td>...</td>\n",
       "      <td>Unspecified</td>\n",
       "      <td>NaN</td>\n",
       "      <td>NaN</td>\n",
       "      <td>NaN</td>\n",
       "      <td>3638232</td>\n",
       "      <td>PASSENGER VEHICLE</td>\n",
       "      <td>SPORT UTILITY / STATION WAGON</td>\n",
       "      <td>NaN</td>\n",
       "      <td>NaN</td>\n",
       "      <td>NaN</td>\n",
       "    </tr>\n",
       "  </tbody>\n",
       "</table>\n",
       "<p>10 rows × 29 columns</p>\n",
       "</div>"
      ],
      "text/plain": [
       "         DATE   TIME   BOROUGH  ZIP CODE   LATITUDE  LONGITUDE  \\\n",
       "0  03/24/2017   0:00  BROOKLYN   11220.0  40.633470 -74.021020   \n",
       "1  03/24/2017   0:00  BROOKLYN   11222.0  40.728416 -73.952415   \n",
       "2  03/24/2017   0:00  BROOKLYN   11222.0  40.725160 -73.946600   \n",
       "3  03/24/2017   0:00  BROOKLYN   11229.0  40.607710 -73.957150   \n",
       "4  03/24/2017   0:10  BROOKLYN   11234.0  40.614660 -73.923510   \n",
       "5  03/24/2017   0:37  BROOKLYN   11208.0  40.674026 -73.872360   \n",
       "6  03/24/2017  10:13  BROOKLYN   11213.0  40.672016 -73.940860   \n",
       "7  03/24/2017  10:15  BROOKLYN   11222.0  40.729168 -73.947900   \n",
       "8  03/24/2017  10:36  BROOKLYN   11230.0  40.629433 -73.967080   \n",
       "9  03/24/2017  11:00  BROOKLYN   11220.0  40.645733 -74.020424   \n",
       "\n",
       "                  LOCATION                    ON STREET NAME  \\\n",
       "0    (40.63347, -74.02102)  BAY RIDGE AVENUE                   \n",
       "1  (40.728416, -73.952415)  CALYER STREET                      \n",
       "2     (40.72516, -73.9466)  NASSAU AVENUE                      \n",
       "3    (40.60771, -73.95715)                               NaN   \n",
       "4    (40.61466, -73.92351)  EAST 53 STREET                     \n",
       "5   (40.674026, -73.87236)  DOSCHER STREET                     \n",
       "6   (40.672016, -73.94086)  STERLING PLACE                     \n",
       "7    (40.729168, -73.9479)                               NaN   \n",
       "8   (40.629433, -73.96708)  EAST 10 STREET                     \n",
       "9  (40.645733, -74.020424)  56 STREET                          \n",
       "\n",
       "  CROSS STREET NAME                           OFF STREET NAME  \\\n",
       "0          5 AVENUE                                       NaN   \n",
       "1    LEONARD STREET                                       NaN   \n",
       "2    DIAMOND STREET                                       NaN   \n",
       "3               NaN  1716      EAST 16 STREET                   \n",
       "4   FILLMORE AVENUE                                       NaN   \n",
       "5    BELMONT AVENUE                                       NaN   \n",
       "6     HAMPTON PLACE                                       NaN   \n",
       "7               NaN  120       JEWEL STREET                     \n",
       "8          AVENUE H                                       NaN   \n",
       "9          2 AVENUE                                       NaN   \n",
       "\n",
       "          ...          CONTRIBUTING FACTOR VEHICLE 2  \\\n",
       "0         ...                            Unspecified   \n",
       "1         ...                            Unspecified   \n",
       "2         ...                            Unspecified   \n",
       "3         ...                                    NaN   \n",
       "4         ...                            Unspecified   \n",
       "5         ...                            Unspecified   \n",
       "6         ...                       Backing Unsafely   \n",
       "7         ...                            Unspecified   \n",
       "8         ...                                    NaN   \n",
       "9         ...                            Unspecified   \n",
       "\n",
       "   CONTRIBUTING FACTOR VEHICLE 3  CONTRIBUTING FACTOR VEHICLE 4  \\\n",
       "0                            NaN                            NaN   \n",
       "1                            NaN                            NaN   \n",
       "2                            NaN                            NaN   \n",
       "3                            NaN                            NaN   \n",
       "4                            NaN                            NaN   \n",
       "5                            NaN                            NaN   \n",
       "6                            NaN                            NaN   \n",
       "7                            NaN                            NaN   \n",
       "8                            NaN                            NaN   \n",
       "9                            NaN                            NaN   \n",
       "\n",
       "   CONTRIBUTING FACTOR VEHICLE 5  UNIQUE KEY            VEHICLE TYPE CODE 1  \\\n",
       "0                            NaN     3638505              PASSENGER VEHICLE   \n",
       "1                            NaN     3638289              PASSENGER VEHICLE   \n",
       "2                            NaN     3639200  SPORT UTILITY / STATION WAGON   \n",
       "3                            NaN     3639489                            NaN   \n",
       "4                            NaN     3639728              PASSENGER VEHICLE   \n",
       "5                            NaN     3638143  SPORT UTILITY / STATION WAGON   \n",
       "6                            NaN     3639268              PASSENGER VEHICLE   \n",
       "7                            NaN     3639194                  PICK-UP TRUCK   \n",
       "8                            NaN     3638953              PASSENGER VEHICLE   \n",
       "9                            NaN     3638232              PASSENGER VEHICLE   \n",
       "\n",
       "             VEHICLE TYPE CODE 2  VEHICLE TYPE CODE 3 VEHICLE TYPE CODE 4  \\\n",
       "0                  PICK-UP TRUCK                  NaN                 NaN   \n",
       "1              PASSENGER VEHICLE                  NaN                 NaN   \n",
       "2                     MOTORCYCLE                  NaN                 NaN   \n",
       "3                            NaN                  NaN                 NaN   \n",
       "4              PASSENGER VEHICLE                  NaN                 NaN   \n",
       "5              PASSENGER VEHICLE                  NaN                 NaN   \n",
       "6              PASSENGER VEHICLE                  NaN                 NaN   \n",
       "7                            NaN                  NaN                 NaN   \n",
       "8                            NaN                  NaN                 NaN   \n",
       "9  SPORT UTILITY / STATION WAGON                  NaN                 NaN   \n",
       "\n",
       "  VEHICLE TYPE CODE 5  \n",
       "0                 NaN  \n",
       "1                 NaN  \n",
       "2                 NaN  \n",
       "3                 NaN  \n",
       "4                 NaN  \n",
       "5                 NaN  \n",
       "6                 NaN  \n",
       "7                 NaN  \n",
       "8                 NaN  \n",
       "9                 NaN  \n",
       "\n",
       "[10 rows x 29 columns]"
      ]
     },
     "execution_count": 105,
     "metadata": {},
     "output_type": "execute_result"
    }
   ],
   "source": [
    "traffic_data[:10]"
   ]
  },
  {
   "cell_type": "code",
   "execution_count": 11,
   "metadata": {
    "collapsed": true
   },
   "outputs": [],
   "source": [
    "# Inflicted boroughs\n",
    "\n",
    "# Total number of collisions\n",
    "\n",
    "# Collision per year\n",
    "\n",
    "# Per vehicle type\n",
    "\n",
    "# Per reason (was the driver distracted/unattentive)?"
   ]
  },
  {
   "cell_type": "markdown",
   "metadata": {},
   "source": [
    "### <span style=\"color:green\">Write about your choices in data cleaning and preprocessing</span>\n",
    "\n",
    "#### Finding relevant features\n",
    "\n",
    "#### Reason for excluding/including features"
   ]
  },
  {
   "cell_type": "markdown",
   "metadata": {
    "collapsed": true
   },
   "source": [
    "### <span style=\"color:green\">Write a short section that discusses the dataset stats (here you can recycle the work you did for Project Assignment A)</span>"
   ]
  },
  {
   "cell_type": "code",
   "execution_count": 109,
   "metadata": {
    "collapsed": false
   },
   "outputs": [
    {
     "data": {
      "image/png": "[encoded data removed]",
      "text/plain": [
       "<IPython.core.display.Image object>"
      ]
     },
     "execution_count": 109,
     "metadata": {},
     "output_type": "execute_result"
    }
   ],
   "source": [
    "# Replace NaN with 'unknown'\n",
    "vehicle_types = traffic_data['VEHICLE TYPE CODE 1'].replace(np.NaN, 'UNKNOWN')\n",
    "\n",
    "# Count number of occurences of the different categories\n",
    "collision_count = Counter()\n",
    "for collision in vehicle_types:\n",
    "    collision_count[collision] += 1\n",
    "collision_count\n",
    "\n",
    "# Plot bar chart of vehicle types involved in collisions\n",
    "labels, values = zip(*collision_count.most_common())\n",
    "\n",
    "# Plotting color\n",
    "bgBorder  = 'rgba(255, 255, 255, 0)'\n",
    "ticksAxes = 'rgb(107, 107, 107)'\n",
    "\n",
    "data = [go.Bar(\n",
    "          x = labels,\n",
    "          y = values\n",
    ")]\n",
    "\n",
    "# Setting layout details for plot\n",
    "layout = go.Layout(\n",
    "    title='Primary vehicle in collison, NY 2012-2017',\n",
    "    autosize=False,\n",
    "    width=900,\n",
    "    height=500,\n",
    "\n",
    "    xaxis=dict(\n",
    "        title='Vehicle type',\n",
    "        tickfont=dict(\n",
    "            size=14,\n",
    "            color=ticksAxes\n",
    "        )\n",
    "    ),\n",
    "    \n",
    "    yaxis=dict(\n",
    "        range=[min(values)-1,max(values)+1],\n",
    "        title='Number of incidents',\n",
    "        titlefont=dict(\n",
    "            size=16,\n",
    "            color=ticksAxes\n",
    "        ),\n",
    "        tickfont=dict(\n",
    "            size=16,\n",
    "            color=ticksAxes\n",
    "        )\n",
    "    ),\n",
    "    \n",
    "    legend=dict(\n",
    "        x=0,\n",
    "        y=1.0,\n",
    "        bgcolor=bgBorder,\n",
    "        bordercolor=bgBorder\n",
    "    )\n",
    ")\n",
    "\n",
    "fig = go.Figure(data=data, layout=layout)\n",
    "py.image.save_as(fig, filename='vehicles.png')\n",
    "Image('vehicles.png') # Display a static image"
   ]
  },
  {
   "cell_type": "code",
   "execution_count": 110,
   "metadata": {
    "collapsed": false
   },
   "outputs": [
    {
     "data": {
      "text/html": [
       "<iframe id=\"igraph\" scrolling=\"no\" style=\"border:none;\" seamless=\"seamless\" src=\"https://plot.ly/~frksteenhoff2/46.embed\" height=\"500px\" width=\"900px\"></iframe>"
      ],
      "text/plain": [
       "<plotly.tools.PlotlyDisplay object>"
      ]
     },
     "execution_count": 110,
     "metadata": {},
     "output_type": "execute_result"
    }
   ],
   "source": [
    "# Replace NaN with 'Unspecified'\n",
    "factor_types = traffic_data['CONTRIBUTING FACTOR VEHICLE 1'].replace(np.NaN, 'Unspecified')\n",
    "\n",
    "# Count number of occurences of the different categories\n",
    "factor_count = Counter()\n",
    "for factor in factor_types:\n",
    "    factor_count[factor] += 1\n",
    "    \n",
    "# Remove unspecified in order to get a better picture of remaining entries\n",
    "del factor_count['Unspecified']\n",
    "\n",
    "# Plot bar chart of vehicle types involved in collisions\n",
    "labels, values = zip(*factor_count.most_common())\n",
    "\n",
    "# Plotting color\n",
    "bgBorder  = 'rgba(255, 255, 255, 0)'\n",
    "ticksAxes = 'rgb(107, 107, 107)'\n",
    "\n",
    "data = [go.Bar(\n",
    "          x = labels,\n",
    "          y = values\n",
    ")]\n",
    "\n",
    "# Setting layout details for plot\n",
    "layout = go.Layout(\n",
    "    title='Contributing factors for collisions, NY 2012-2017',\n",
    "    autosize=False,\n",
    "    width=900,\n",
    "    height=500,\n",
    "\n",
    "    xaxis=dict(\n",
    "        title='Reason/factor',\n",
    "        tickfont=dict(\n",
    "            size=14,\n",
    "            color=ticksAxes\n",
    "        )\n",
    "    ),\n",
    "    \n",
    "    yaxis=dict(\n",
    "        range=[min(values)-1,max(values)+1],\n",
    "        title='Number of incidents',\n",
    "        titlefont=dict(\n",
    "            size=16,\n",
    "            color=ticksAxes\n",
    "        ),\n",
    "        tickfont=dict(\n",
    "            size=16,\n",
    "            color=ticksAxes\n",
    "        )\n",
    "    ),\n",
    "    \n",
    "    legend=dict(\n",
    "        x=0,\n",
    "        y=1.0,\n",
    "        bgcolor=bgBorder,\n",
    "        bordercolor=bgBorder\n",
    "    )\n",
    ")\n",
    "\n",
    "fig = go.Figure(data=data, layout=layout)\n",
    "py.iplot(fig, filename='style-bar')\n",
    "#py.image.save_as(fig, filename='factors.png')\n",
    "#image('factors.png') # Display a static image"
   ]
  },
  {
   "cell_type": "code",
   "execution_count": 91,
   "metadata": {
    "collapsed": false
   },
   "outputs": [
    {
     "name": "stdout",
     "output_type": "stream",
     "text": [
      "Most common vehicles involved in collisions:\n",
      "[('Driver Inattention/Distraction', 22698), ('Failure to Yield Right-of-Way', 11492), ('Fatigued/Drowsy', 7825), ('Backing Unsafely', 6747), ('Lost Consciousness', 4982), ('Other Vehicular', 3981), ('Prescription Medication', 3784), ('Turning Improperly', 3207), ('Traffic Control Disregarded', 2806), ('Physical Disability', 2645)]\n",
      "Most common contributing factors for collisions:\n",
      "[('Driver Inattention/Distraction', 22698), ('Failure to Yield Right-of-Way', 11492), ('Fatigued/Drowsy', 7825), ('Backing Unsafely', 6747), ('Lost Consciousness', 4982), ('Other Vehicular', 3981), ('Prescription Medication', 3784), ('Turning Improperly', 3207), ('Traffic Control Disregarded', 2806), ('Physical Disability', 2645)]\n"
     ]
    }
   ],
   "source": [
    "# Most common vehicles in collision\n",
    "print \"Most common vehicles involved in collisions:\\n\", collision_count.most_common(10)\n",
    "print \"Most common contributing factors for collisions:\\n\", factor_count.most_common(10)"
   ]
  },
  {
   "cell_type": "code",
   "execution_count": null,
   "metadata": {
    "collapsed": true
   },
   "outputs": [],
   "source": []
  },
  {
   "cell_type": "code",
   "execution_count": null,
   "metadata": {
    "collapsed": false
   },
   "outputs": [],
   "source": []
  },
  {
   "cell_type": "code",
   "execution_count": null,
   "metadata": {
    "collapsed": false
   },
   "outputs": [],
   "source": []
  },
  {
   "cell_type": "markdown",
   "metadata": {},
   "source": [
    "## <span style=\"color:green\">Theory - theoretical tools</span>"
   ]
  },
  {
   "cell_type": "markdown",
   "metadata": {},
   "source": [
    "### <span style=\"color:green\">Describe which machine learning tools you use and why the tools you've chosen are right for the problem you're solving.</span>\n"
   ]
  },
  {
   "cell_type": "markdown",
   "metadata": {},
   "source": [
    "### <span style=\"color:green\">Talk about your model selection. How did you split the data in to test/training. Did you use cross validation?</span>"
   ]
  },
  {
   "cell_type": "markdown",
   "metadata": {
    "collapsed": true
   },
   "source": [
    "### <span style=\"color:green\">Explain the model performance. How did you measure it? Are your results what you expected?</span>"
   ]
  },
  {
   "cell_type": "markdown",
   "metadata": {},
   "source": [
    "## <span style=\"color:green\">Visualizations</span>"
   ]
  },
  {
   "cell_type": "markdown",
   "metadata": {},
   "source": [
    "### <span style=\"color:green\">Explain the visualizations you've chosen.</span>"
   ]
  },
  {
   "cell_type": "markdown",
   "metadata": {
    "collapsed": true
   },
   "source": [
    "### <span style=\"color:green\">Why are they right for the story you want to tell?</span>"
   ]
  },
  {
   "cell_type": "markdown",
   "metadata": {},
   "source": [
    "## <span style=\"color:green\">Discussion - critical thinking</span>\n"
   ]
  },
  {
   "cell_type": "markdown",
   "metadata": {
    "collapsed": true
   },
   "source": [
    "### <span style=\"color:green\">What went well?</span>\n"
   ]
  },
  {
   "cell_type": "markdown",
   "metadata": {
    "collapsed": true
   },
   "source": [
    "### <span style=\"color:green\">What is still missing? What could be improved?, Why?</span>"
   ]
  },
  {
   "cell_type": "code",
   "execution_count": null,
   "metadata": {
    "collapsed": true
   },
   "outputs": [],
   "source": []
  },
  {
   "cell_type": "code",
   "execution_count": null,
   "metadata": {
    "collapsed": true
   },
   "outputs": [],
   "source": []
  }
 ],
 "metadata": {
  "kernelspec": {
   "display_name": "Python [Root]",
   "language": "python",
   "name": "Python [Root]"
  },
  "language_info": {
   "codemirror_mode": {
    "name": "ipython",
    "version": 2
   },
   "file_extension": ".py",
   "mimetype": "text/x-python",
   "name": "python",
   "nbconvert_exporter": "python",
   "pygments_lexer": "ipython2",
   "version": "2.7.12"
  }
 },
 "nbformat": 4,
 "nbformat_minor": 0
}
