{
 "cells": [
  {
   "cell_type": "markdown",
   "metadata": {},
   "source": [
    "# <span style=\"color:darkred\">Motor Vehicle Collisions in New York City</span>\n",
    "### <span style=\"color:darkred\">Final Project - Explainer Notebook</span>\n",
    "---\n",
    "\n",
    "This report is written in the course 02806 Social Data Analysis, spring 2017, based on the assignment description for the final exam project found on [GitHub](https://github.com/suneman/socialdataanalysis2017/wiki/Final-Project). \n",
    "\n",
    "![Why New York City looks like it does](traffic.png)\n",
    "\n",
    "Source: [Business Insider, fetched April 2017](http://www.businessinsider.com/why-new-york-city-looks-like-it-does-2015-9?r=US&IR=T&IR=T)"
   ]
  },
  {
   "cell_type": "markdown",
   "metadata": {},
   "source": [
    "## <span style=\"color:darkred\">Motivation</span>"
   ]
  },
  {
   "cell_type": "markdown",
   "metadata": {
    "collapsed": true
   },
   "source": [
    "### <span style=\"color:darkred\">What is your dataset?</span>\n",
    "\n",
    "The dataset chosen for this project is the  **\"NYC Motor Vehicle Traffic Collisions\"** dataset from the Public Safety section from the website of [New York City OpenData](http://opendata.cityofnewyork.us/). This contains traffic collision data for boroughs: Manhattan, Staten Island, Bronx, Queens and Brooklyn.\n",
    "\n",
    "Looking into where accidents happen and cross-referencing this information with the traffic density to find the areas most commonly exposed to accidents, could be used in order to *improve the safety of pedestrians* and to *take proper precautions* for the vehicles in the area whether this concerns either more mirror, traffic regulations etc."
   ]
  },
  {
   "cell_type": "markdown",
   "metadata": {
    "collapsed": true
   },
   "source": [
    "### <span style=\"color:darkred\">Why did you choose this/these particular dataset(s)?</span>\n",
    "\n",
    "We knew that we wanted to work with some sort of OpenData from a large city in the world. Going through different OpenData sources such as [London OpenData](https://data.london.gov.uk/), [SF OpenData](https://data.sfgov.org/), [European OpenData](https://open-data.europa.eu) that what seemed as a lot of different opportunities in chosing data, was in fact not. A lot of the publicly available data was lacking either in size (only a few years) or extremely badly formatted, only with a few features, a lot of missing values etc. What would be nice was if there were several years (5-10) and lots of different features to chose from. This way it would be possible to take some active choices on what to keep or discard and chose what was important for predictions, basic statistics and so on.\n",
    "\n",
    "Looking into [NYC OpenData](http://opendata.cityofnewyork.us/) and the Public Safety Category, the \"Traffic Collisions\" dataset was discovered. Here we get information on where in New York different traffic collisions happens, a timestamp for the accident, the involved parties (pedestrian, motorist biker..), whether any involved parties were killed, which type of vehicle, whether the driver was distrated/unattentive -- the contributing factors, geolocations -- a great level of detail to work on and make predictions on!\n",
    "\n",
    "In all we have $29$ features and $1.007.310$ different incidents from July 2012 until March 24th 2017 -- the data is soo fresh!"
   ]
  },
  {
   "cell_type": "markdown",
   "metadata": {},
   "source": [
    "### <span style=\"color:darkred\">What was your goal for the end user's experience?</span>\n",
    "\n",
    "<span style=\"color:red\">Should we write this more as text -- and probably focus more on the death part?</span>\n",
    "\n",
    "* Explore the data that is freely available to everyone\n",
    "* Getting to know something new about the traffic in New York\n",
    "* Learning from the patterns that can be found in the data\n",
    "* Prevent accident in the future by localizing exposed areas that need saftey improvements.\n",
    "\n",
    "From this notebook, we will try to extract some of the most informative summary staatistics and the results of our machine learning methods to try and give a better insight into the traffic in New York and when accidents happen. \n",
    "\n",
    "### <span style=\"color:darkred\">What data to look into</span>\n",
    "#### <span style=\"color:darkred\">Deaths</span>\n",
    "* Where do they happen\n",
    "* what is the underlying cause\n",
    "* can this be prevented? \n",
    "* What is being done in NYC now? - Read more about [*Vision Zero*](http://www1.nyc.gov/nyc-resources/service/3860/nyc-vision-zero-action-plan)\n",
    "* Wordcloud of different addresses?\n",
    "\n"
   ]
  },
  {
   "cell_type": "markdown",
   "metadata": {},
   "source": [
    "## <span style=\"color:darkred\">Initial data</span>\n",
    "The original dataset has 29 columns. For ease of access to data, and to minimize computing time when working on the data, it was decided to extend the dataset with the features ``time, hour, weekDay, month, year`` from the given timestamps of each incident.\n",
    "\n",
    "### <span style=\"color:darkred\">Libraries</span>\n",
    "**Importing needed packages for entire solution**\n"
   ]
  },
  {
   "cell_type": "code",
   "execution_count": 1,
   "metadata": {
    "collapsed": false
   },
   "outputs": [],
   "source": [
    "#import urllib2\n",
    "import numpy as np\n",
    "import re\n",
    "import csv\n",
    "import io\n",
    "import pandas as pd\n",
    "pd.set_option(\"display.max_rows\",5) # show a maximum of 10 rows\n",
    "import geoplotlib as gpl\n",
    "from geoplotlib.utils import BoundingBox\n",
    "import calendar\n",
    "import pylab as pl\n",
    "import geopy\n",
    "import json\n",
    "from collections import Counter \n",
    "from operator import itemgetter\n",
    "from scipy import stats, linalg\n",
    "from sklearn.model_selection import train_test_split\n",
    "from sklearn import tree, datasets, svm\n",
    "from sklearn.cluster import KMeans\n",
    "\n",
    "# Plotting with plotly\n",
    "import plotly \n",
    "from IPython.display import Image\n",
    "# Henriettes plotly API key og brugernavn -- saves plot in cloud\n",
    "plotly.tools.set_credentials_file(username='frksteenhoff2', api_key='duu8hsfRmuI5rF2EU8o5')\n",
    "import plotly.plotly as py\n",
    "import plotly.graph_objs as go\n",
    "from plotly import tools\n",
    "\n",
    "# Functions tailored for this project to minimize code in notebook \n",
    "import externalFunctions as ex\n",
    "\n",
    "# Plotting color variables\n",
    "bgBorder  = 'rgba(255, 255, 255, 0)'\n",
    "ticksAxes = 'rgb(107, 107, 107)'\n",
    "years_of_interest = [2013, 2014, 2015, 2016]\n",
    "pd.options.mode.chained_assignment = None  # default='warn'\n",
    "\n",
    "try:\n",
    "    to_unicode = unicode\n",
    "except NameError:\n",
    "    to_unicode = str"
   ]
  },
  {
   "cell_type": "markdown",
   "metadata": {},
   "source": [
    "#### Lookng at the raw data\n",
    "In order to discuss the data, some of the rows from the dataset are visualized below such that it is easier to understand some of the decisions made by the group when it comes to preprocessing and cleaning. "
   ]
  },
  {
   "cell_type": "code",
   "execution_count": 3,
   "metadata": {
    "collapsed": false
   },
   "outputs": [
    {
     "data": {
      "text/html": [
       "<div>\n",
       "<table border=\"1\" class=\"dataframe\">\n",
       "  <thead>\n",
       "    <tr style=\"text-align: right;\">\n",
       "      <th></th>\n",
       "      <th>DATE</th>\n",
       "      <th>TIME</th>\n",
       "      <th>BOROUGH</th>\n",
       "      <th>LATITUDE</th>\n",
       "      <th>LONGITUDE</th>\n",
       "      <th>LOCATION</th>\n",
       "      <th>ON STREET NAME</th>\n",
       "      <th>NUMBER OF PERSONS KILLED</th>\n",
       "      <th>NUMBER OF PEDESTRIANS KILLED</th>\n",
       "      <th>NUMBER OF CYCLIST KILLED</th>\n",
       "      <th>NUMBER OF MOTORIST KILLED</th>\n",
       "      <th>CONTRIBUTING FACTOR VEHICLE 1</th>\n",
       "      <th>VEHICLE TYPE CODE 1</th>\n",
       "      <th>VEHICLE TYPE CODE 2</th>\n",
       "      <th>YEAR</th>\n",
       "      <th>MONTH</th>\n",
       "      <th>HOUR</th>\n",
       "      <th>WEEKDAY</th>\n",
       "    </tr>\n",
       "  </thead>\n",
       "  <tbody>\n",
       "    <tr>\n",
       "      <th>0</th>\n",
       "      <td>03/31/2017</td>\n",
       "      <td>0:00</td>\n",
       "      <td>NaN</td>\n",
       "      <td>40.645615</td>\n",
       "      <td>-73.90990</td>\n",
       "      <td>(40.645615, -73.9099)</td>\n",
       "      <td>FOSTER AVENUE</td>\n",
       "      <td>0</td>\n",
       "      <td>0</td>\n",
       "      <td>0</td>\n",
       "      <td>0</td>\n",
       "      <td>Driver Inattention/Distraction</td>\n",
       "      <td>PASSENGER VEHICLE</td>\n",
       "      <td>PASSENGER VEHICLE</td>\n",
       "      <td>2017</td>\n",
       "      <td>3</td>\n",
       "      <td>0</td>\n",
       "      <td>4</td>\n",
       "    </tr>\n",
       "    <tr>\n",
       "      <th>1</th>\n",
       "      <td>03/31/2017</td>\n",
       "      <td>0:00</td>\n",
       "      <td>NaN</td>\n",
       "      <td>40.762737</td>\n",
       "      <td>-73.83951</td>\n",
       "      <td>(40.762737, -73.83951)</td>\n",
       "      <td>NaN</td>\n",
       "      <td>0</td>\n",
       "      <td>0</td>\n",
       "      <td>0</td>\n",
       "      <td>0</td>\n",
       "      <td>Driver Inattention/Distraction</td>\n",
       "      <td>SPORT UTILITY / STATION WAGON</td>\n",
       "      <td>PASSENGER VEHICLE</td>\n",
       "      <td>2017</td>\n",
       "      <td>3</td>\n",
       "      <td>0</td>\n",
       "      <td>4</td>\n",
       "    </tr>\n",
       "    <tr>\n",
       "      <th>2</th>\n",
       "      <td>03/31/2017</td>\n",
       "      <td>0:00</td>\n",
       "      <td>BROOKLYN</td>\n",
       "      <td>40.658478</td>\n",
       "      <td>-73.92818</td>\n",
       "      <td>(40.658478, -73.92818)</td>\n",
       "      <td>EAST 53 STREET</td>\n",
       "      <td>0</td>\n",
       "      <td>0</td>\n",
       "      <td>0</td>\n",
       "      <td>0</td>\n",
       "      <td>Failure to Yield Right-of-Way</td>\n",
       "      <td>SPORT UTILITY / STATION WAGON</td>\n",
       "      <td>NaN</td>\n",
       "      <td>2017</td>\n",
       "      <td>3</td>\n",
       "      <td>0</td>\n",
       "      <td>4</td>\n",
       "    </tr>\n",
       "    <tr>\n",
       "      <th>3</th>\n",
       "      <td>03/31/2017</td>\n",
       "      <td>0:00</td>\n",
       "      <td>BROOKLYN</td>\n",
       "      <td>40.580360</td>\n",
       "      <td>-73.96761</td>\n",
       "      <td>(40.58036, -73.96761)</td>\n",
       "      <td>NEPTUNE AVENUE</td>\n",
       "      <td>0</td>\n",
       "      <td>0</td>\n",
       "      <td>0</td>\n",
       "      <td>0</td>\n",
       "      <td>NaN</td>\n",
       "      <td>NaN</td>\n",
       "      <td>NaN</td>\n",
       "      <td>2017</td>\n",
       "      <td>3</td>\n",
       "      <td>0</td>\n",
       "      <td>4</td>\n",
       "    </tr>\n",
       "    <tr>\n",
       "      <th>4</th>\n",
       "      <td>03/31/2017</td>\n",
       "      <td>0:00</td>\n",
       "      <td>NaN</td>\n",
       "      <td>40.845180</td>\n",
       "      <td>-73.91417</td>\n",
       "      <td>(40.84518, -73.91417)</td>\n",
       "      <td>JEROME AVENUE</td>\n",
       "      <td>0</td>\n",
       "      <td>0</td>\n",
       "      <td>0</td>\n",
       "      <td>0</td>\n",
       "      <td>Following Too Closely</td>\n",
       "      <td>PASSENGER VEHICLE</td>\n",
       "      <td>SPORT UTILITY / STATION WAGON</td>\n",
       "      <td>2017</td>\n",
       "      <td>3</td>\n",
       "      <td>0</td>\n",
       "      <td>4</td>\n",
       "    </tr>\n",
       "  </tbody>\n",
       "</table>\n",
       "</div>"
      ],
      "text/plain": [
       "         DATE  TIME   BOROUGH   LATITUDE  LONGITUDE                LOCATION  \\\n",
       "0  03/31/2017  0:00       NaN  40.645615  -73.90990   (40.645615, -73.9099)   \n",
       "1  03/31/2017  0:00       NaN  40.762737  -73.83951  (40.762737, -73.83951)   \n",
       "2  03/31/2017  0:00  BROOKLYN  40.658478  -73.92818  (40.658478, -73.92818)   \n",
       "3  03/31/2017  0:00  BROOKLYN  40.580360  -73.96761   (40.58036, -73.96761)   \n",
       "4  03/31/2017  0:00       NaN  40.845180  -73.91417   (40.84518, -73.91417)   \n",
       "\n",
       "                     ON STREET NAME  NUMBER OF PERSONS KILLED  \\\n",
       "0  FOSTER AVENUE                                            0   \n",
       "1                               NaN                         0   \n",
       "2  EAST 53 STREET                                           0   \n",
       "3  NEPTUNE AVENUE                                           0   \n",
       "4  JEROME AVENUE                                            0   \n",
       "\n",
       "   NUMBER OF PEDESTRIANS KILLED  NUMBER OF CYCLIST KILLED  \\\n",
       "0                             0                         0   \n",
       "1                             0                         0   \n",
       "2                             0                         0   \n",
       "3                             0                         0   \n",
       "4                             0                         0   \n",
       "\n",
       "   NUMBER OF MOTORIST KILLED   CONTRIBUTING FACTOR VEHICLE 1  \\\n",
       "0                          0  Driver Inattention/Distraction   \n",
       "1                          0  Driver Inattention/Distraction   \n",
       "2                          0   Failure to Yield Right-of-Way   \n",
       "3                          0                             NaN   \n",
       "4                          0           Following Too Closely   \n",
       "\n",
       "             VEHICLE TYPE CODE 1            VEHICLE TYPE CODE 2  YEAR  MONTH  \\\n",
       "0              PASSENGER VEHICLE              PASSENGER VEHICLE  2017      3   \n",
       "1  SPORT UTILITY / STATION WAGON              PASSENGER VEHICLE  2017      3   \n",
       "2  SPORT UTILITY / STATION WAGON                            NaN  2017      3   \n",
       "3                            NaN                            NaN  2017      3   \n",
       "4              PASSENGER VEHICLE  SPORT UTILITY / STATION WAGON  2017      3   \n",
       "\n",
       "   HOUR  WEEKDAY  \n",
       "0     0        4  \n",
       "1     0        4  \n",
       "2     0        4  \n",
       "3     0        4  \n",
       "4     0        4  "
      ]
     },
     "execution_count": 3,
     "metadata": {},
     "output_type": "execute_result"
    }
   ],
   "source": [
    "# Importing data using pandas\n",
    "traffic_data = pd.read_csv('Traffic_data.csv', low_memory=False, usecols=['DATE', 'TIME', 'YEAR', 'MONTH', 'HOUR', 'WEEKDAY', 'VEHICLE TYPE CODE 1', 'VEHICLE TYPE CODE 2', 'ON STREET NAME', 'LOCATION', 'LONGITUDE', 'LATITUDE', 'BOROUGH', 'CONTRIBUTING FACTOR VEHICLE 1', 'NUMBER OF PERSONS KILLED', 'NUMBER OF PEDESTRIANS KILLED', 'NUMBER OF CYCLIST KILLED', 'NUMBER OF MOTORIST KILLED']) # Data fetched April\n",
    "\n",
    "# Giving an example of how the data is structured (features etc.)\n",
    "traffic_data[:5]"
   ]
  },
  {
   "cell_type": "code",
   "execution_count": 4,
   "metadata": {
    "collapsed": false
   },
   "outputs": [
    {
     "name": "stdout",
     "output_type": "stream",
     "text": [
      "-------------- BASIC NYC COLLISION INFORMATIOM --------------\n",
      "\n",
      "Year range:     [2012, 2013, 2014, 2015, 2016, 2017]\n",
      "\n",
      "Dataset size:   1007130 incidents\n",
      "\n",
      "List of areas:  [nan 'BROOKLYN' 'BRONX' 'MANHATTAN' 'QUEENS' 'STATEN ISLAND']\n",
      "\n",
      "Features:       ['DATE', 'TIME', 'BOROUGH', 'LATITUDE', 'LONGITUDE', 'LOCATION', 'ON STREET NAME', 'NUMBER OF PERSONS KILLED', 'NUMBER OF PEDESTRIANS KILLED', 'NUMBER OF CYCLIST KILLED', 'NUMBER OF MOTORIST KILLED', 'CONTRIBUTING FACTOR VEHICLE 1', 'VEHICLE TYPE CODE 1', 'VEHICLE TYPE CODE 2', 'YEAR', 'MONTH', 'HOUR', 'WEEKDAY']\n",
      "-------------------------------------------------------------\n"
     ]
    }
   ],
   "source": [
    "print \"-------------- BASIC NYC COLLISION INFORMATIOM --------------\\n\" \n",
    "print \"Year range:    \", sorted(traffic_data['YEAR'].unique())\n",
    "print \"\\nDataset size:  \", len(traffic_data), \"incidents\"\n",
    "print \"\\nList of areas: \", traffic_data['BOROUGH'].unique()\n",
    "print \"\\nFeatures:      \", list(traffic_data.columns)\n",
    "print \"-------------------------------------------------------------\""
   ]
  },
  {
   "cell_type": "markdown",
   "metadata": {},
   "source": [
    "As can be seen from the initial look at the data we are working with a total of $1.007.310$ observations (incidents) from the last six years. In some of our work with the data, we will be excluding year 2012 and 2017, since we only have the first Quarter of 2017 and the first two Quarters of 2012. This will be stated explicitly. \n",
    "\n",
    "The features ``YEAR``, ``MONTH``, ``HOUR`` and ``WEEKDAY`` were calculated once and saved to the original dataset for further use. The calculations take a substantial amount of time and the group found that this was an easier solution than having to run this upon every new session.\n",
    "\n",
    "### <span style=\"color:darkred\">Choices in data cleaning and preprocessing</span> \n",
    "#### <span style=\"color:darkred\">Finding relevant features</span>\n",
    "We have removed the features ..... since they will be oof no use for our work. <span style=\"color:red\">Need to write some more here, Jonas?</span>\n",
    "* Why include/exclude a feature\n",
    "* What is relevant/irrelevant\n",
    "* Plotting different boroughs at different times, years per different vehicles etc.\n",
    "\n",
    "#### <span style=\"color:darkred\">Handling missing values</span>\n",
    "\n",
    "#### Are missing values a problem in the dataset?\n",
    "For us to be able to answer the question of  missing values. We need some basis to do this on. Therefore we start by giving an example of a feature with a missing value. Here we assume that a missing ``LONGITUDE`` also means a missing ``LATITUDE`` -- both are assumend calculated on the basis of the feature ``LOCATION``."
   ]
  },
  {
   "cell_type": "code",
   "execution_count": 100,
   "metadata": {
    "collapsed": false
   },
   "outputs": [
    {
     "name": "stdout",
     "output_type": "stream",
     "text": [
      "Accidents in all in NYC, 2016:   227,658\n",
      "Accidents with geolocations:     145,529\n",
      "% of accidents missing location: 36.08 %\n",
      "\n",
      "Month:    All values: Complete obs:   Missing location (%):\n",
      "JANUARY   18,099      15,395          14.94%\n",
      "FEBRUARY  15,983      13,557          15.18%\n",
      "MARCH     18,520      15,300          17.39%\n",
      "APRIL     18,331      15,062          17.83%\n",
      "MAY       20,052      15,311          23.64%\n",
      "JUNE      19,435      13,974          28.1%\n",
      "JULY      19,867      12,527          36.95%\n",
      "AUGUST    19,678      2,496           87.32%\n",
      "SEPTEMBER 19,491      3,039           84.41%\n",
      "OCTOBER   19,667      12,367          37.12%\n",
      "NOVEMBER  19,317      13,226          31.53%\n",
      "DECEMBER  19,218      13,275          30.92%\n"
     ]
    }
   ],
   "source": [
    "allData = pd.DataFrame()\n",
    "misData = pd.DataFrame()\n",
    "# Extract data to look at (year 2016)\n",
    "allData = traffic_data.loc[traffic_data['YEAR'].isin([2016])]\n",
    "# Find all missing values in column (\"LONGITUDE\")\n",
    "allData['LONGITUDE'] = allData['LONGITUDE'].replace(np.NaN, 'UNKNOWN')\n",
    "misData = allData.loc[allData['LONGITUDE'] != 'UNKNOWN']\n",
    "\n",
    "# Print results (more or less) neatly\n",
    "print \"Accidents in all in NYC, 2016:  \", '{0:,}'.format(len(allData))\n",
    "print \"Accidents with geolocations:    \", '{0:,}'.format(len(misData))\n",
    "print \"% of accidents missing location:\", round(100.0-float(len(misData))/float(len(allData))*100, 2), \"%\\n\" \n",
    "print \"Month:    All values: Complete obs:   Missing location (%):\"\n",
    "# For each month in given year\n",
    "for numb in sorted(allData['MONTH'].unique()):\n",
    "    all_vals   = len(allData.loc[allData['MONTH'].isin([numb])])\n",
    "    nonan_vals = len(misData.loc[misData['MONTH'].isin([numb])])\n",
    "    print calendar.month_name[numb].upper().ljust(9), str('{0:,}'.format(all_vals)).ljust(10) + \"  \" + str('{0:,}'.format(nonan_vals)).ljust(12), \"   \" + str(round(100-float(nonan_vals) / float(all_vals) * 100, 2)) + \"%\"\n"
   ]
  },
  {
   "cell_type": "markdown",
   "metadata": {},
   "source": [
    "Trust us when we say that these missing valeus are a general trend -- and if not, feel free to change the year/columns used for extracting the data and look at it yourselves.\n",
    "\n",
    "The above analysis of the missing values for location (``lon/lat``) show that the number of observations with missing values is really high. Here we are only looking into 2016, but from this alone we can see that for each month more than $14\\%$ of the values are missing. The $15\\%$ itself is not alarming, but $50\\%$ of the months, more than $\\frac{1}{4}$ of the values are missing! Especially the summer months are lacking information -- here $15\\%$ is actually what is registered correctly.   \n",
    "\n",
    "##### Contributing factors\n",
    "Contributing factors is hard to infer from nothing and therefore, we cannot to much about these values.\n",
    "\n",
    "##### Location information\n",
    "*Location (geo-location), address (street name), borough*\n",
    "\n",
    "In all of the columns, there are several missing values. From the preliminary data analysis it was found that features such as ``contributing factor`` and ``borough`` along with ``location (lon, lat)/address`` would need some work in order to present the proper picture. \n",
    "\n",
    "Since we have infromation about the different addresses of the incidents, this can be used with ``geopy`` to extract information about geolocations. However, the ``geopy`` API has a lot of restrictions on the number of requests which makes it hard to collect all the data, even when adding sleeps between each fetch. \n",
    "\n",
    "#### <span style=\"color:darkred\">Reason for excluding/including features</span>\n",
    "Need to be discussed in group."
   ]
  },
  {
   "cell_type": "markdown",
   "metadata": {},
   "source": [
    "### <span style=\"color:darkred\">Imputing/working with missing values</span>\n"
   ]
  },
  {
   "cell_type": "markdown",
   "metadata": {},
   "source": [
    "In order to do some machine learning using the data, especially regarding the locations/street names it would be nice if we could impute the missing street names/boroughs/locations. All of these informations can be gathered using the module ``geopy``. The module matches, ``lon/lat``-pairs to find a street name or street names and city to ``lon/lat``-pairs, which is exactly what we need! Below we have tried to map the number of observations missing the different featured mentioned."
   ]
  },
  {
   "cell_type": "code",
   "execution_count": 104,
   "metadata": {
    "collapsed": false
   },
   "outputs": [
    {
     "data": {
      "text/plain": [
       "(266674, 202343, 168104)"
      ]
     },
     "execution_count": 104,
     "metadata": {},
     "output_type": "execute_result"
    }
   ],
   "source": [
    "# Replce missing borough values with \"unspecified\"\n",
    "traffic_data['BOROUGH']        = traffic_data['BOROUGH'].replace(np.NaN, 'Unspecified')\n",
    "traffic_data['LOCATION']       = traffic_data['LOCATION'].replace(np.NaN, 'Unspecified')\n",
    "traffic_data['ON STREET NAME'] = traffic_data['ON STREET NAME'].replace(np.NaN, 'Unspecified')\n",
    "\n",
    "# Extract the unspecified values\n",
    "missing_bor = traffic_data.loc[traffic_data['BOROUGH']        == 'Unspecified']\n",
    "missing_loc = traffic_data.loc[traffic_data['LOCATION']       == 'Unspecified']\n",
    "missing_st  = traffic_data.loc[traffic_data['ON STREET NAME'] == 'Unspecified']\n",
    "# Number of missing values in dataset \n",
    "len(missing_bor), len(missing_loc), len(missing_st)"
   ]
  },
  {
   "cell_type": "code",
   "execution_count": 103,
   "metadata": {
    "collapsed": false
   },
   "outputs": [
    {
     "data": {
      "text/plain": [
       "49852"
      ]
     },
     "execution_count": 103,
     "metadata": {},
     "output_type": "execute_result"
    }
   ],
   "source": [
    "# Find all observations missing borough, location AND street name\n",
    "missing_bl = missing_bor.loc[missing_bor['LOCATION'] == 'Unspecified']\n",
    "all_3      = missing_bl.loc[missing_bl['ON STREET NAME'] == 'Unspecified']\n",
    "len(all_3)"
   ]
  },
  {
   "cell_type": "markdown",
   "metadata": {},
   "source": [
    "Almost $50,000$ rows are missing both ``location``, ``on street name`` and ``borough``. This is not that much considering that we are working $20$ times as much data.\n",
    "\n",
    "Since we now have some information on the location, we can use this in order to impute the values missing.  "
   ]
  },
  {
   "cell_type": "markdown",
   "metadata": {},
   "source": [
    "## <span style=\"color:darkred\">Summary statistics and basic plotting</span>\n",
    "### <span style=\"color:darkred\">Write a short section that discusses the dataset stats (here you can recycle the work you did for Project Assignment A)</span>\n",
    "\n",
    "To get an idea of how the situation is in New York, what types of incidents, their outcome, what is the most common places for accidents to happen etc. we have done some different plotting of all collision historically, per year, per borough and for specific vehicle types, times of day etc. Thus we hope to give you a better idea of traffic scene in NYC.\n",
    "\n",
    "The plots will start by describing basic summary statistic but will increase in complexity throughout the notebook. The plots will all be rendered using ``plotly`` and it's API in order to minimize the length of the notebook by exhibiting more information as mouse-over visuals in the plot itself.\n",
    "\n",
    "The description associated with each plot will be positioned underneath the plots such that the reader can get a chance to make his/her own thoughts about the data before we bring our comments.\n",
    "\n",
    "### <span style=\"color:darkred\"> Inflicted boroughs</span>"
   ]
  },
  {
   "cell_type": "code",
   "execution_count": 5,
   "metadata": {
    "collapsed": false
   },
   "outputs": [
    {
     "data": {
      "text/html": [
       "<iframe id=\"igraph\" scrolling=\"no\" style=\"border:none;\" seamless=\"seamless\" src=\"https://plot.ly/~frksteenhoff2/58.embed\" height=\"700px\" width=\"900px\"></iframe>"
      ],
      "text/plain": [
       "<plotly.tools.PlotlyDisplay object>"
      ]
     },
     "execution_count": 5,
     "metadata": {},
     "output_type": "execute_result"
    }
   ],
   "source": [
    "# Count incidents in each borough\n",
    "borough_cnt = ex.countSamples(traffic_data['BOROUGH'].replace(np.NaN, 'Unspecified'))\n",
    "\n",
    "# Plot them\n",
    "ex.createBarPlot(borough_cnt, 'Collisions per borough in all', 'Borough', 'Number of collisions', 'collisions_all', bgBorder, ticksAxes, 250)"
   ]
  },
  {
   "cell_type": "code",
   "execution_count": null,
   "metadata": {
    "collapsed": true
   },
   "outputs": [],
   "source": []
  },
  {
   "cell_type": "code",
   "execution_count": 70,
   "metadata": {
    "collapsed": false
   },
   "outputs": [],
   "source": [
    "# Saving number of accidents per borough per year to json object for website\n",
    "year_dict = {}\n",
    "for year in [2013, 2014, 2015, 2016]:\n",
    "    wrk = traffic_data.loc[traffic_data['YEAR'].isin([np.int64(year)])]\n",
    "    # Count incidents in each borough\n",
    "    borough_tmp = wrk.loc[wrk['BOROUGH'].isin([\"MANHATTAN\", \"QUEENS\", \"BRONX\", \"BROOKLYN\", \"STATEN ISLAND\"])]\n",
    "    borough_cnt = ex.countSamples(borough_tmp['BOROUGH'])\n",
    "    year_dict[year] = dict(borough_cnt.most_common())\n",
    "\n",
    "# Save data structure to json object\n",
    "with open('year_data.json', 'w') as fp:\n",
    "    json.dump(dict(year_dict), fp)"
   ]
  },
  {
   "cell_type": "markdown",
   "metadata": {},
   "source": [
    "### <span style=\"color:darkred\">Primary vehicle in collision - per vehicle type</span>"
   ]
  },
  {
   "cell_type": "code",
   "execution_count": 6,
   "metadata": {
    "collapsed": false
   },
   "outputs": [
    {
     "data": {
      "text/html": [
       "<iframe id=\"igraph\" scrolling=\"no\" style=\"border:none;\" seamless=\"seamless\" src=\"https://plot.ly/~frksteenhoff2/60.embed\" height=\"700px\" width=\"900px\"></iframe>"
      ],
      "text/plain": [
       "<plotly.tools.PlotlyDisplay object>"
      ]
     },
     "execution_count": 6,
     "metadata": {},
     "output_type": "execute_result"
    }
   ],
   "source": [
    "# Replace NaN with 'unknown'\n",
    "vehicle_types = traffic_data['VEHICLE TYPE CODE 1'].replace(np.NaN, 'OTHER')\n",
    "\n",
    "# Count key/value pairs\n",
    "collision_count = ex.countSamples(vehicle_types)\n",
    "\n",
    "# createBarPlot(valueDict, plotTitle, xtitle, ytitle, saveName, bgBorder, ticksAxes, marginValue):\n",
    "vehicles = ex.createBarPlot(collision_count, 'Primary vehicle in collison, NY 2012-2017', 'Vehicle type', 'Number of incidents', 'vechicle2', bgBorder, ticksAxes, 200)\n",
    "vehicles"
   ]
  },
  {
   "cell_type": "markdown",
   "metadata": {},
   "source": [
    "Passenger vehicles and sport/utility wagons are by far the two vehicle types that are most commonly involved in accidents. Out of the total of $1.007.130$ accidents, passenger vehicles are involved in more than $50\\%$ of the accidents while the sport/utility wagon only account less than half of that."
   ]
  },
  {
   "cell_type": "code",
   "execution_count": 45,
   "metadata": {
    "collapsed": false
   },
   "outputs": [],
   "source": [
    "# Save as json object for website\n",
    "with open('primary_vehicle.json', 'w') as fp:\n",
    "    json.dump(collision_count.most_common(), fp)"
   ]
  },
  {
   "cell_type": "markdown",
   "metadata": {},
   "source": [
    "### <span style=\"color:darkred\">Vehicle collisions - per contributing factor</span>"
   ]
  },
  {
   "cell_type": "code",
   "execution_count": 110,
   "metadata": {
    "collapsed": false
   },
   "outputs": [
    {
     "data": {
      "text/html": [
       "<iframe id=\"igraph\" scrolling=\"no\" style=\"border:none;\" seamless=\"seamless\" src=\"https://plot.ly/~frksteenhoff2/80.embed\" height=\"700px\" width=\"900px\"></iframe>"
      ],
      "text/plain": [
       "<plotly.tools.PlotlyDisplay object>"
      ]
     },
     "execution_count": 110,
     "metadata": {},
     "output_type": "execute_result"
    }
   ],
   "source": [
    "# Replace NaN with 'Unspecified'\n",
    "factor_types = traffic_data['CONTRIBUTING FACTOR VEHICLE 1'].replace(np.NaN, 'Unspecified')\n",
    "\n",
    "# Count number of occurences of the different categories\n",
    "factor_count = ex.countSamples(factor_types)\n",
    "\n",
    "# Remove unspecified in order to get a better picture of remaining entries\n",
    "del factor_count['Unspecified']\n",
    "\n",
    "# Save as json object for website\n",
    "with open('factor_data.json', 'w') as fp:\n",
    "    json.dump(factor_count.most_common(25), fp)\n",
    "\n",
    "# createBarPlot(valueDict, plotTitle, xtitle, ytitle, saveName, bgBorder, ticksAxes, marginValue):\n",
    "factors = ex.createBarPlot(factor_count, 'Contributing factors for collisions, NY 2012-2017', 'Reason/factor', 'Number of incidents', 'factors', bgBorder, ticksAxes, 250)\n",
    "factors"
   ]
  },
  {
   "cell_type": "markdown",
   "metadata": {},
   "source": [
    "It is without a doubt \"Driver inattention/Distraction\" that is the most common contributing factor in collisions in New York. As can be seen in the plot above, more than $\\frac{1}{4}$ of all accidents are due to inattention.. And the second most common reason is drowziness -- sure doesn't seem like the city that never sleeps!\n",
    "\n",
    "Both the primary vehicle in collison and the contributiog factors are included as visualization on the final webpage. These two summary statistics show some of the basic facts about the different traffic accidents in New York and gives us a chance to show how to work with switching between different datasets in the same visualization, how to create the initial bar chart and update it with completely new values for both axes. We think this is a good way to show that we have understood the basic functionalities within the d3 visualization techniques when creating bar chart while it also gives the reader some intial information about the traffic in NYC.\n"
   ]
  },
  {
   "cell_type": "markdown",
   "metadata": {},
   "source": [
    "### <span style=\"color:darkred\"> Plotting the collisions per year</span>\n",
    "Consider removing data from 2017, since the data is not complete."
   ]
  },
  {
   "cell_type": "code",
   "execution_count": 50,
   "metadata": {
    "collapsed": false,
    "scrolled": true
   },
   "outputs": [
    {
     "name": "stdout",
     "output_type": "stream",
     "text": [
      "This is the format of your plot grid:\n",
      "[ (1,1) x1,y1 ]    [ (1,2) x2,y2 ]  \n",
      "[ (2,1) x3,y3 ]    [ (2,2) x4,y4 ]  \n",
      "[ (3,1) x5,y5 ]    [ (3,2) x6,y6 ]  \n",
      "[ (4,1) x7,y7 ]    [ (4,2) x8,y8 ]  \n",
      "[ (5,1) x9,y9 ]    [ (5,2) x10,y10 ]\n",
      "\n"
     ]
    },
    {
     "data": {
      "text/html": [
       "<iframe id=\"igraph\" scrolling=\"no\" style=\"border:none;\" seamless=\"seamless\" src=\"https://plot.ly/~frksteenhoff2/56.embed\" height=\"1200px\" width=\"1000px\"></iframe>"
      ],
      "text/plain": [
       "<plotly.tools.PlotlyDisplay object>"
      ]
     },
     "execution_count": 50,
     "metadata": {},
     "output_type": "execute_result"
    }
   ],
   "source": [
    "# Create 2 X 5 grid for the 10 collision subplots\n",
    "# Initialize variables\n",
    "vehicle_types = ['PASSENGER VEHICLE', 'SPORT UTILITY / STATION WAGON',\n",
    "                'VAN','BUS','SMALL COM VEH(4 TIRES)', 'LIVERY VEHICLE', 'MOTORCYCLE',\n",
    "                 'PICK-UP TRUCK', 'LARGE COM VEH(6 OR MORE TIRES)', 'TAXI']\n",
    "y_cnt = Counter()\n",
    "i = 1 # plotting variable keeping track of column\n",
    "k = 1 # plotting variable keeping track of row\n",
    "j = 1 # plotting variable keeping track of axis number\n",
    "\n",
    "fig = tools.make_subplots(rows=5, cols=2, subplot_titles=(vehicle_types))\n",
    "\n",
    "# Run through each vehicle type\n",
    "for vehicle in vehicle_types:\n",
    "    # Make data structure with one collision category at a time\n",
    "    temp_values = traffic_data.loc[traffic_data['VEHICLE TYPE CODE 1'].isin([vehicle])]\n",
    "    # Add column with year\n",
    "    for year in [2013, 2014, 2015, 2016]:\n",
    "            y_cnt[year] = len(temp_values.loc[temp_values['YEAR'].isin([year])])\n",
    "    \n",
    "    trace = go.Bar(\n",
    "    x=y_cnt.keys(),\n",
    "    y=y_cnt.values()\n",
    "    )\n",
    "    fig.append_trace(trace, k, i)\n",
    "    fig['layout']['yaxis'+str(j)].update(title='Number of incidents', range=[0, max(y_cnt.values())])\n",
    "    \n",
    "    if(i < 2):\n",
    "        i += 1\n",
    "    else:\n",
    "        i = 1\n",
    "        k += 1\n",
    "    j += 1\n",
    "    \n",
    "fig['layout'].update(height=1200, width=1000, showlegend=False, title=\"Accidents per vehicle type 2013-2016\", margin=dict(b=200))\n",
    "py.iplot(fig, filename='subplot_vehicles')"
   ]
  },
  {
   "cell_type": "markdown",
   "metadata": {
    "collapsed": true
   },
   "source": [
    "There are several patterns in the vehicle specific development of accidents from $2013-2016$."
   ]
  },
  {
   "cell_type": "markdown",
   "metadata": {},
   "source": [
    "### <span style=\"color:darkred\"> Number of traffic deaths</span>"
   ]
  },
  {
   "cell_type": "code",
   "execution_count": 8,
   "metadata": {
    "collapsed": false
   },
   "outputs": [
    {
     "data": {
      "text/html": [
       "<iframe id=\"igraph\" scrolling=\"no\" style=\"border:none;\" seamless=\"seamless\" src=\"https://plot.ly/~frksteenhoff2/64.embed\" height=\"500px\" width=\"700px\"></iframe>"
      ],
      "text/plain": [
       "<plotly.tools.PlotlyDisplay object>"
      ]
     },
     "execution_count": 8,
     "metadata": {},
     "output_type": "execute_result"
    }
   ],
   "source": [
    "persons_killed = traffic_data['NUMBER OF PERSONS KILLED'].replace(np.NaN, 'OTHER')\n",
    "kill_count = {}\n",
    "for val in traffic_data['YEAR'].unique():\n",
    "    if val != np.int64(2017) and val != np.int64(2012):\n",
    "        temp = traffic_data.loc[traffic_data['YEAR'].isin([val])]\n",
    "        kill_count[val] = int(temp['NUMBER OF PERSONS KILLED'].sum(axis=0))\n",
    "\n",
    "#killed = ex.createBarPlot(kill_count, 'Number of persons killed per year, 2012-2017', 'Year', 'Number of deaths', 'deaths_all', bgBorder, ticksAxes, 150)\n",
    "#killed\n",
    "killed = ex.createXYBarPlot(kill_count.keys(), kill_count.values(), 'Number of persons killed per year in NYC, 2012-2017', 'Year', 'Number of deaths', 'deaths_all', bgBorder, ticksAxes, 150)\n",
    "killed"
   ]
  },
  {
   "cell_type": "markdown",
   "metadata": {},
   "source": [
    "### <span style=\"color:darkred\">Involved parties</span>\n",
    "* [Subplot documentation for Plotly](https://plot.ly/python/subplots/)\n",
    "\n",
    "#### A slowly decreasing trend"
   ]
  },
  {
   "cell_type": "code",
   "execution_count": 20,
   "metadata": {
    "collapsed": false
   },
   "outputs": [
    {
     "name": "stdout",
     "output_type": "stream",
     "text": [
      "This is the format of your plot grid:\n",
      "[ (1,1) x1,y1 ]  [ (1,2) x2,y2 ]  [ (1,3) x3,y3 ]  [ (1,4) x4,y4 ]\n",
      "\n"
     ]
    },
    {
     "data": {
      "text/html": [
       "<iframe id=\"igraph\" scrolling=\"no\" style=\"border:none;\" seamless=\"seamless\" src=\"https://plot.ly/~frksteenhoff2/48.embed\" height=\"600px\" width=\"1100px\"></iframe>"
      ],
      "text/plain": [
       "<plotly.tools.PlotlyDisplay object>"
      ]
     },
     "execution_count": 20,
     "metadata": {},
     "output_type": "execute_result"
    }
   ],
   "source": [
    "# Extracting needed information\n",
    "focus_group = ['NUMBER OF PEDESTRIANS KILLED', 'NUMBER OF CYCLIST KILLED', 'NUMBER OF MOTORIST KILLED']\n",
    "focus = {}\n",
    "\n",
    "# Creating initial figure for subplots\n",
    "fig = tools.make_subplots(rows=1, cols=4, subplot_titles=(\"2013\", \"2014\", \"2015\", \"2016\"))\n",
    "\n",
    "i = 1 # Keeping track of plot grid columns\n",
    "k = 1 # Setting axis range for all y axes \n",
    "    \n",
    "for year in years_of_interest:\n",
    "    for group in focus_group:\n",
    "        yearly_data = traffic_data.loc[traffic_data['YEAR'].isin([year])]\n",
    "        focus[group] = yearly_data[group].sum()\n",
    "    \n",
    "    trace = go.Bar(\n",
    "    x=focus.keys(),\n",
    "    y=focus.values(),\n",
    "    name=year\n",
    "    )\n",
    "    # Add plot to figure\n",
    "    fig.append_trace(trace, 1, i)\n",
    "    fig['layout']['yaxis'+str(k)].update(title='Year', range=[0, 180])\n",
    "    \n",
    "    i += 1 \n",
    "    k += 1\n",
    "\n",
    "# Plot result\n",
    "fig['layout'].update(height=600, width=1100, showlegend=False, title='Casualties per year in NYC traffic accidents', margin=dict(b=200))\n",
    "py.image.save_as(fig, filename='subplots-deaths.png')\n",
    "py.iplot(fig, filename='simple-subplot')"
   ]
  },
  {
   "cell_type": "markdown",
   "metadata": {},
   "source": [
    "Number of people killed in traffic accidents in New York is slowly decreasing.\n",
    "\n",
    "### <span style=\"color:darkred\">Borough with most deaths?</span>\n",
    "Data and geoplot"
   ]
  },
  {
   "cell_type": "code",
   "execution_count": 13,
   "metadata": {
    "collapsed": false
   },
   "outputs": [
    {
     "data": {
      "text/html": [
       "<iframe id=\"igraph\" scrolling=\"no\" style=\"border:none;\" seamless=\"seamless\" src=\"https://plot.ly/~frksteenhoff2/68.embed\" height=\"700px\" width=\"900px\"></iframe>"
      ],
      "text/plain": [
       "<plotly.tools.PlotlyDisplay object>"
      ]
     },
     "execution_count": 13,
     "metadata": {},
     "output_type": "execute_result"
    }
   ],
   "source": [
    "# Finding all incidents were people got killed as a result of the collisions\n",
    "killed_inc = traffic_data.loc[traffic_data['NUMBER OF PERSONS KILLED'] != 0]\n",
    "killed_per_borough = killed_inc['BOROUGH'].replace(np.NaN, 'UNKNOWN')\n",
    "borough_cnt = ex.countSamples(killed_per_borough)\n",
    "\n",
    "# Plot count per borough\n",
    "borough = ex.createBarPlot(borough_cnt, \"Persons killed per borough 2012-2017\", 'Borough', 'Number of person killed', 'killed_per_borough_all', bgBorder, ticksAxes, 200)\n",
    "borough"
   ]
  },
  {
   "cell_type": "markdown",
   "metadata": {},
   "source": [
    "So, of the traffic accidents identified, from 2012-2017, the most of them happens in Brooklyn. If we do not account for all the unknown locations."
   ]
  },
  {
   "cell_type": "markdown",
   "metadata": {},
   "source": [
    "### <span style=\"color:darkred\">Are the incidents prone to happen at a specific time of day?</span>"
   ]
  },
  {
   "cell_type": "code",
   "execution_count": 86,
   "metadata": {
    "collapsed": false
   },
   "outputs": [
    {
     "name": "stdout",
     "output_type": "stream",
     "text": [
      "This is the format of your plot grid:\n",
      "[ (1,1) x1,y1 ]  [ (1,2) x2,y2 ]  [ (1,3) x3,y3 ]\n",
      "[ (2,1) x4,y4 ]  [ (2,2) x5,y5 ]  [ (2,3) x6,y6 ]\n",
      "\n"
     ]
    },
    {
     "data": {
      "text/html": [
       "<iframe id=\"igraph\" scrolling=\"no\" style=\"border:none;\" seamless=\"seamless\" src=\"https://plot.ly/~frksteenhoff2/52.embed\" height=\"1200px\" width=\"1000px\"></iframe>"
      ],
      "text/plain": [
       "<plotly.tools.PlotlyDisplay object>"
      ]
     },
     "execution_count": 86,
     "metadata": {},
     "output_type": "execute_result"
    }
   ],
   "source": [
    "bor = [\"Unknown\", 'BROOKLYN', 'BRONX', 'MANHATTAN', 'QUEENS', 'STATEN ISLAND']\n",
    "n = ex.plotBarInSubplotGrid(2, 3, bor, \"Incidents in NYC per hour\", traffic_data, 'BOROUGH', 'HOUR', 'hourly', 21000, 1000, 1200)\n",
    "n"
   ]
  },
  {
   "cell_type": "markdown",
   "metadata": {},
   "source": [
    "It looks like New York acutally sleeps -- for an hour! Of course, this is an overall picture and we cannot draw many conclusions based on this. Yes, most accidents happens between 8AM and 8PM, but, it would be better to look at the individual boroughs, wouldn't it?\n",
    "\n",
    "Lets check that out!\n",
    "From looking at this we cannot say more about the trend. We can see that most accidents happens in Queens and Brooklyn, but besides this, the times in which the majority of the accidents happen are the same, except from the fact that Manhatten, unlike the others do not have the \"morning peak\" from $8-9$."
   ]
  },
  {
   "cell_type": "markdown",
   "metadata": {},
   "source": [
    "### <span style=\"color:darkred\">Accidents according to time of year -- does it have any impact?</span>\n",
    "<span style=\"color:red\">Should we include this?</span>\n",
    "We have actively chosen to remove all incidents without any geolocation in order to plot the results more correctly."
   ]
  },
  {
   "cell_type": "code",
   "execution_count": 7,
   "metadata": {
    "collapsed": false
   },
   "outputs": [
    {
     "data": {
      "text/html": [
       "<iframe id=\"igraph\" scrolling=\"no\" style=\"border:none;\" seamless=\"seamless\" src=\"https://plot.ly/~frksteenhoff2/82.embed\" height=\"500px\" width=\"700px\"></iframe>"
      ],
      "text/plain": [
       "<plotly.tools.PlotlyDisplay object>"
      ]
     },
     "execution_count": 7,
     "metadata": {},
     "output_type": "execute_result"
    }
   ],
   "source": [
    "# Finding all incidents were people got killed as a result of the collisions\n",
    "bor2016 = traffic_data.loc[traffic_data['YEAR'].isin([2016])]\n",
    "borough_cnt = ex.countSamples(bor2016['BOROUGH'])\n",
    "\n",
    "# Plot count per borough\n",
    "bor = ex.createXYBarPlot(borough_cnt.keys(), borough_cnt.values(), \"Accidents per borough in 2016\", 'Borough', 'Number of person killed', 'accidents_per_borough_2016', bgBorder, ticksAxes, 200)\n",
    "bor"
   ]
  },
  {
   "cell_type": "markdown",
   "metadata": {},
   "source": [
    "### <span style=\"color:darkred\">What can we use this for?</span>\n",
    "Looking at the geodata, we can see that the areas most commonly exposed to traffic accidents are Midtown (around Times Square),  East Village and Lower Manhattan along with Brooklyn Heights and around Flushing Meadows Corona Park. Which in fact changes the picture of where there are most accidents. From looking solely at the number of accidents in each borough, we had a lot of missing data, but it seems as though a lot of the missing data belongs to Manhattan, which can also be seen from the heatmap that clearly shows Manhattan as the area most exposed to traffic accidents!\n",
    "\n",
    "Is this because it would be better (imagewise) for NYC that one of the lesser visited boroughs had the highest number of crimes?\n",
    "\n",
    "#### <span style=\"color:darkred\">So the funny thing is..</span>\n",
    "Looking at the plots, somehow, we get the feeling that in August and September there are less traffic accidents, but **this is wrong** actually, there are just as many but for both months more than $84\\%$ of the traffic accidents **are not properly reported** -- at least all the geodata info is missing! Is this because a lot of accidents attract less tourists in the summer? \n",
    "\n",
    "Take a look below:"
   ]
  },
  {
   "cell_type": "markdown",
   "metadata": {
    "collapsed": false
   },
   "source": [
    "----\n",
    "## <span style=\"color:darkred\">The Demographics of New York</span>"
   ]
  },
  {
   "cell_type": "code",
   "execution_count": 16,
   "metadata": {
    "collapsed": false
   },
   "outputs": [
    {
     "data": {
      "text/html": [
       "<div>\n",
       "<table border=\"1\" class=\"dataframe\">\n",
       "  <thead>\n",
       "    <tr style=\"text-align: right;\">\n",
       "      <th></th>\n",
       "      <th>borough</th>\n",
       "      <th>population</th>\n",
       "      <th>sqMi</th>\n",
       "      <th>sqKm</th>\n",
       "      <th>personsPerSqMi</th>\n",
       "      <th>personsPrSqKm</th>\n",
       "    </tr>\n",
       "  </thead>\n",
       "  <tbody>\n",
       "    <tr>\n",
       "      <th>0</th>\n",
       "      <td>Manhattan</td>\n",
       "      <td>1644518</td>\n",
       "      <td>22.83</td>\n",
       "      <td>59.1</td>\n",
       "      <td>72033.00</td>\n",
       "      <td>27826</td>\n",
       "    </tr>\n",
       "    <tr>\n",
       "      <th>1</th>\n",
       "      <td>Bronx</td>\n",
       "      <td>1455444</td>\n",
       "      <td>42.00</td>\n",
       "      <td>110.0</td>\n",
       "      <td>34653.00</td>\n",
       "      <td>13231</td>\n",
       "    </tr>\n",
       "    <tr>\n",
       "      <th>2</th>\n",
       "      <td>Brooklyn</td>\n",
       "      <td>2636735</td>\n",
       "      <td>71.00</td>\n",
       "      <td>180.0</td>\n",
       "      <td>37137.00</td>\n",
       "      <td>14649</td>\n",
       "    </tr>\n",
       "    <tr>\n",
       "      <th>3</th>\n",
       "      <td>Queens</td>\n",
       "      <td>2339150</td>\n",
       "      <td>109.00</td>\n",
       "      <td>280.0</td>\n",
       "      <td>21.46</td>\n",
       "      <td>8354</td>\n",
       "    </tr>\n",
       "    <tr>\n",
       "      <th>4</th>\n",
       "      <td>Staten Island</td>\n",
       "      <td>474558</td>\n",
       "      <td>58.50</td>\n",
       "      <td>152.0</td>\n",
       "      <td>8112.00</td>\n",
       "      <td>3132</td>\n",
       "    </tr>\n",
       "  </tbody>\n",
       "</table>\n",
       "</div>"
      ],
      "text/plain": [
       "         borough  population    sqMi   sqKm  personsPerSqMi  personsPrSqKm\n",
       "0      Manhattan     1644518   22.83   59.1        72033.00          27826\n",
       "1          Bronx     1455444   42.00  110.0        34653.00          13231\n",
       "2       Brooklyn     2636735   71.00  180.0        37137.00          14649\n",
       "3         Queens     2339150  109.00  280.0           21.46           8354\n",
       "4  Staten Island      474558   58.50  152.0         8112.00           3132"
      ]
     },
     "execution_count": 16,
     "metadata": {},
     "output_type": "execute_result"
    }
   ],
   "source": [
    "# Demographics of New York \n",
    "ny_demographics = pd.read_excel('NY_demographics.xlsx')\n",
    "ny_demographics"
   ]
  },
  {
   "cell_type": "markdown",
   "metadata": {},
   "source": [
    "Source: [Demographics of new York - Wikipedia](https://en.wikipedia.org/wiki/Demographics_of_New_York_City)\n",
    "\n",
    "* Number of fatalities/population\n",
    "* Basic plotting/statistics\n",
    "\n",
    "<span style=\"color:red\">Can we do some more with this? - I was thinking using it as underlying choropleth layer on shapefile?</span>"
   ]
  },
  {
   "cell_type": "code",
   "execution_count": 17,
   "metadata": {
    "collapsed": false
   },
   "outputs": [
    {
     "name": "stdout",
     "output_type": "stream",
     "text": [
      "BRONX 0.0131850183458\n",
      "BROOKLYN 0.0148978593474\n",
      "MANHATTAN 0.00822342783784\n",
      "QUEENS 0.00926960648099\n",
      "STATEN ISLAND 0.0456909376725\n"
     ]
    }
   ],
   "source": [
    "# Find number of people per square kilometer for each borough in NYC\n",
    "i = 0\n",
    "for values in ['BRONX', 'BROOKLYN', 'MANHATTAN', 'QUEENS', 'STATEN ISLAND']:\n",
    "    print values, float(borough_cnt['BRONX'])/ny_demographics.iloc[i,1]\n",
    "    i += 1"
   ]
  },
  {
   "cell_type": "code",
   "execution_count": 18,
   "metadata": {
    "collapsed": false
   },
   "outputs": [
    {
     "data": {
      "text/html": [
       "<iframe id=\"igraph\" scrolling=\"no\" style=\"border:none;\" seamless=\"seamless\" src=\"https://plot.ly/~frksteenhoff2/72.embed\" height=\"500px\" width=\"700px\"></iframe>"
      ],
      "text/plain": [
       "<plotly.tools.PlotlyDisplay object>"
      ]
     },
     "execution_count": 18,
     "metadata": {},
     "output_type": "execute_result"
    }
   ],
   "source": [
    "# Plot person per square kilometer\n",
    "ppl_pr_sqkm = ex.createXYBarPlot(ny_demographics['borough'], ny_demographics['personsPrSqKm'], \"Number of people per square kilometer\", 'Borough', 'Number of people', 'ppl_pr_sqkm', bgBorder, ticksAxes, 100)\n",
    "ppl_pr_sqkm"
   ]
  },
  {
   "cell_type": "markdown",
   "metadata": {},
   "source": [
    "From the above plot it is made clear that indeed Manhattan has a great deal of people per square kilometer. **Manhattan has in fact more than double the amount of people compared any of the neighbouring boroughs**. Naturally one should expect more incidents here, since more people makes for a more activity both on the sidewalks and in the streets. One thing one also have to take into account is the high number of people visitng Manhattan which without a doubt will make the number of people per square kilometer even higher."
   ]
  },
  {
   "cell_type": "markdown",
   "metadata": {},
   "source": [
    "----\n",
    "## <span style=\"color:darkred\">Theory - theoretical tools</span>\n",
    "\n",
    "<span style=\"color:red\">I Need you, Jonas!</span>"
   ]
  },
  {
   "cell_type": "markdown",
   "metadata": {},
   "source": [
    "### <span style=\"color:darkred\">Describe which machine learning tools you use and why the tools you've chosen are right for the problem you're solving.</span>\n",
    "* **K-means**\n",
    "* **Decision tree** - form location can we predict whether someone will die or not?\n"
   ]
  },
  {
   "cell_type": "markdown",
   "metadata": {},
   "source": [
    "### <span style=\"color:darkred\">Talk about your model selection. How did you split the data in to test/training. Did you use cross validation?</span>\n",
    "\n"
   ]
  },
  {
   "cell_type": "markdown",
   "metadata": {
    "collapsed": true
   },
   "source": [
    "### <span style=\"color:darkred\">Explain the model performance. How did you measure it? Are your results what you expected?</span>"
   ]
  },
  {
   "cell_type": "markdown",
   "metadata": {},
   "source": [
    "## <span style=\"color:darkred\">Solutions for the machine learning methods</span>"
   ]
  },
  {
   "cell_type": "markdown",
   "metadata": {},
   "source": [
    "### <span style=\"color:darkred\">K-means clustering</span>"
   ]
  },
  {
   "cell_type": "code",
   "execution_count": 2,
   "metadata": {
    "collapsed": false
   },
   "outputs": [
    {
     "data": {
      "text/html": [
       "<div>\n",
       "<table border=\"1\" class=\"dataframe\">\n",
       "  <thead>\n",
       "    <tr style=\"text-align: right;\">\n",
       "      <th></th>\n",
       "      <th>Unnamed: 0</th>\n",
       "      <th>DATE</th>\n",
       "      <th>TIME</th>\n",
       "      <th>BOROUGH</th>\n",
       "      <th>ZIP CODE</th>\n",
       "      <th>LATITUDE</th>\n",
       "      <th>LONGITUDE</th>\n",
       "      <th>LOCATION</th>\n",
       "      <th>ON STREET NAME</th>\n",
       "      <th>CROSS STREET NAME</th>\n",
       "      <th>...</th>\n",
       "      <th>UNIQUE KEY</th>\n",
       "      <th>VEHICLE TYPE CODE 1</th>\n",
       "      <th>VEHICLE TYPE CODE 2</th>\n",
       "      <th>VEHICLE TYPE CODE 3</th>\n",
       "      <th>VEHICLE TYPE CODE 4</th>\n",
       "      <th>VEHICLE TYPE CODE 5</th>\n",
       "      <th>YEAR</th>\n",
       "      <th>MONTH</th>\n",
       "      <th>HOUR</th>\n",
       "      <th>WEEKDAY</th>\n",
       "    </tr>\n",
       "  </thead>\n",
       "  <tbody>\n",
       "    <tr>\n",
       "      <th>0</th>\n",
       "      <td>0</td>\n",
       "      <td>03/31/2017</td>\n",
       "      <td>0:00</td>\n",
       "      <td>NaN</td>\n",
       "      <td>NaN</td>\n",
       "      <td>40.645615</td>\n",
       "      <td>-73.909900</td>\n",
       "      <td>(40.645615, -73.9099)</td>\n",
       "      <td>FOSTER AVENUE</td>\n",
       "      <td>NaN</td>\n",
       "      <td>...</td>\n",
       "      <td>3643404</td>\n",
       "      <td>PASSENGER VEHICLE</td>\n",
       "      <td>PASSENGER VEHICLE</td>\n",
       "      <td>NaN</td>\n",
       "      <td>NaN</td>\n",
       "      <td>NaN</td>\n",
       "      <td>2017</td>\n",
       "      <td>3</td>\n",
       "      <td>0</td>\n",
       "      <td>4</td>\n",
       "    </tr>\n",
       "    <tr>\n",
       "      <th>1</th>\n",
       "      <td>1</td>\n",
       "      <td>03/31/2017</td>\n",
       "      <td>0:00</td>\n",
       "      <td>NaN</td>\n",
       "      <td>NaN</td>\n",
       "      <td>40.762737</td>\n",
       "      <td>-73.839510</td>\n",
       "      <td>(40.762737, -73.83951)</td>\n",
       "      <td>NaN</td>\n",
       "      <td>NaN</td>\n",
       "      <td>...</td>\n",
       "      <td>3643942</td>\n",
       "      <td>SPORT UTILITY / STATION WAGON</td>\n",
       "      <td>PASSENGER VEHICLE</td>\n",
       "      <td>NaN</td>\n",
       "      <td>NaN</td>\n",
       "      <td>NaN</td>\n",
       "      <td>2017</td>\n",
       "      <td>3</td>\n",
       "      <td>0</td>\n",
       "      <td>4</td>\n",
       "    </tr>\n",
       "    <tr>\n",
       "      <th>...</th>\n",
       "      <td>...</td>\n",
       "      <td>...</td>\n",
       "      <td>...</td>\n",
       "      <td>...</td>\n",
       "      <td>...</td>\n",
       "      <td>...</td>\n",
       "      <td>...</td>\n",
       "      <td>...</td>\n",
       "      <td>...</td>\n",
       "      <td>...</td>\n",
       "      <td>...</td>\n",
       "      <td>...</td>\n",
       "      <td>...</td>\n",
       "      <td>...</td>\n",
       "      <td>...</td>\n",
       "      <td>...</td>\n",
       "      <td>...</td>\n",
       "      <td>...</td>\n",
       "      <td>...</td>\n",
       "      <td>...</td>\n",
       "      <td>...</td>\n",
       "    </tr>\n",
       "    <tr>\n",
       "      <th>1007128</th>\n",
       "      <td>1007128</td>\n",
       "      <td>07/01/2012</td>\n",
       "      <td>9:57</td>\n",
       "      <td>MANHATTAN</td>\n",
       "      <td>10065</td>\n",
       "      <td>40.765242</td>\n",
       "      <td>-73.957868</td>\n",
       "      <td>(40.7652424, -73.9578679)</td>\n",
       "      <td>1 AVENUE</td>\n",
       "      <td>EAST 68 STREET</td>\n",
       "      <td>...</td>\n",
       "      <td>44907</td>\n",
       "      <td>PASSENGER VEHICLE</td>\n",
       "      <td>TAXI</td>\n",
       "      <td>NaN</td>\n",
       "      <td>NaN</td>\n",
       "      <td>NaN</td>\n",
       "      <td>2012</td>\n",
       "      <td>7</td>\n",
       "      <td>9</td>\n",
       "      <td>6</td>\n",
       "    </tr>\n",
       "    <tr>\n",
       "      <th>1007129</th>\n",
       "      <td>1007129</td>\n",
       "      <td>07/01/2012</td>\n",
       "      <td>9:59</td>\n",
       "      <td>BRONX</td>\n",
       "      <td>10452</td>\n",
       "      <td>40.835397</td>\n",
       "      <td>-73.920305</td>\n",
       "      <td>(40.835397, -73.920305)</td>\n",
       "      <td>EAST 167 STREET</td>\n",
       "      <td>GERARD AVENUE</td>\n",
       "      <td>...</td>\n",
       "      <td>85154</td>\n",
       "      <td>PASSENGER VEHICLE</td>\n",
       "      <td>SPORT UTILITY / STATION WAGON</td>\n",
       "      <td>NaN</td>\n",
       "      <td>NaN</td>\n",
       "      <td>NaN</td>\n",
       "      <td>2012</td>\n",
       "      <td>7</td>\n",
       "      <td>9</td>\n",
       "      <td>6</td>\n",
       "    </tr>\n",
       "  </tbody>\n",
       "</table>\n",
       "<p>1007130 rows × 34 columns</p>\n",
       "</div>"
      ],
      "text/plain": [
       "         Unnamed: 0        DATE  TIME    BOROUGH ZIP CODE   LATITUDE  \\\n",
       "0                 0  03/31/2017  0:00        NaN      NaN  40.645615   \n",
       "1                 1  03/31/2017  0:00        NaN      NaN  40.762737   \n",
       "...             ...         ...   ...        ...      ...        ...   \n",
       "1007128     1007128  07/01/2012  9:57  MANHATTAN    10065  40.765242   \n",
       "1007129     1007129  07/01/2012  9:59      BRONX    10452  40.835397   \n",
       "\n",
       "         LONGITUDE                   LOCATION  \\\n",
       "0       -73.909900      (40.645615, -73.9099)   \n",
       "1       -73.839510     (40.762737, -73.83951)   \n",
       "...            ...                        ...   \n",
       "1007128 -73.957868  (40.7652424, -73.9578679)   \n",
       "1007129 -73.920305    (40.835397, -73.920305)   \n",
       "\n",
       "                           ON STREET NAME                 CROSS STREET NAME  \\\n",
       "0        FOSTER AVENUE                                                  NaN   \n",
       "1                                     NaN                               NaN   \n",
       "...                                   ...                               ...   \n",
       "1007128  1 AVENUE                          EAST 68 STREET                     \n",
       "1007129  EAST 167 STREET                   GERARD AVENUE                      \n",
       "\n",
       "          ...   UNIQUE KEY            VEHICLE TYPE CODE 1  \\\n",
       "0         ...      3643404              PASSENGER VEHICLE   \n",
       "1         ...      3643942  SPORT UTILITY / STATION WAGON   \n",
       "...       ...          ...                            ...   \n",
       "1007128   ...        44907              PASSENGER VEHICLE   \n",
       "1007129   ...        85154              PASSENGER VEHICLE   \n",
       "\n",
       "                   VEHICLE TYPE CODE 2  VEHICLE TYPE CODE 3  \\\n",
       "0                    PASSENGER VEHICLE                  NaN   \n",
       "1                    PASSENGER VEHICLE                  NaN   \n",
       "...                                ...                  ...   \n",
       "1007128                           TAXI                  NaN   \n",
       "1007129  SPORT UTILITY / STATION WAGON                  NaN   \n",
       "\n",
       "         VEHICLE TYPE CODE 4  VEHICLE TYPE CODE 5  YEAR  MONTH  HOUR WEEKDAY  \n",
       "0                        NaN                  NaN  2017      3     0       4  \n",
       "1                        NaN                  NaN  2017      3     0       4  \n",
       "...                      ...                  ...   ...    ...   ...     ...  \n",
       "1007128                  NaN                  NaN  2012      7     9       6  \n",
       "1007129                  NaN                  NaN  2012      7     9       6  \n",
       "\n",
       "[1007130 rows x 34 columns]"
      ]
     },
     "execution_count": 2,
     "metadata": {},
     "output_type": "execute_result"
    }
   ],
   "source": [
    "# Importing data set (used for both machine learning methods)\n",
    "filename = 'Traffic_data.csv'\n",
    "traffic_data = pd.read_csv(filename, low_memory=False)\n",
    "traffic_data"
   ]
  },
  {
   "cell_type": "code",
   "execution_count": 118,
   "metadata": {
    "collapsed": false
   },
   "outputs": [],
   "source": [
    "# Extracting coordinate data\n",
    "coordinates  = traffic_data[['LATITUDE','LONGITUDE','YEAR']].dropna(axis = 0, how = 'any')\n",
    "focus_years  = [2013,2014,2015,2016]\n",
    "\n",
    "# Number of clusters to use\n",
    "n_clusters   = 4\n",
    "\n",
    "# Initializing dictionaries to store data\n",
    "cluster_data = {}\n",
    "centroids    = {}\n",
    "\n",
    "for year in focus_years:\n",
    "    data = coordinates.loc[coordinates['YEAR'].isin([year])]\n",
    "    \n",
    "    # Train KMeans on data\n",
    "    kmeans = KMeans(n_clusters=n_clusters, random_state=0).fit(data[['LATITUDE','LONGITUDE']])\n",
    "    \n",
    "    # Save the centroids to an array\n",
    "    centroid = kmeans.cluster_centers_\n",
    "    centroid_array = []\n",
    "    \n",
    "    for j in range(0,n_clusters):\n",
    "        centroid_cord = {}\n",
    "        centroid_cord['LATITUDE'] = centroid[j][0]\n",
    "        centroid_cord['LONGITUDE'] = centroid[j][1]\n",
    "        centroid_array.append(centroid_cord)\n",
    "    centroids[str(year)] = centroid_array\n",
    "    \n",
    "    data['CLUSTER'] = kmeans.predict(data[['LATITUDE','LONGITUDE']])\n",
    "    \n",
    "    cluster_data[str(year)] = data[['LATITUDE','LONGITUDE','CLUSTER']].to_dict('list')\n",
    "\n",
    "model_data = {}\n",
    "model_data['centroids'] = centroids\n",
    "model_data['datapoints'] = cluster_data"
   ]
  },
  {
   "cell_type": "code",
   "execution_count": 119,
   "metadata": {
    "collapsed": true
   },
   "outputs": [],
   "source": [
    "# Write JSON file with datapoints\n",
    "with io.open('model_data.json', 'w', encoding='utf8') as outfile:\n",
    "    str_ = json.dumps(model_data,\n",
    "                      indent=4, sort_keys=True,\n",
    "                      separators=(',', ':'), ensure_ascii=False)\n",
    "    outfile.write(to_unicode(str_))"
   ]
  },
  {
   "cell_type": "markdown",
   "metadata": {},
   "source": [
    "### <span style=\"color:darkred\">Decision Tree</span>"
   ]
  },
  {
   "cell_type": "code",
   "execution_count": 3,
   "metadata": {
    "collapsed": false
   },
   "outputs": [
    {
     "name": "stdout",
     "output_type": "stream",
     "text": [
      "334947\n",
      "264187\n"
     ]
    }
   ],
   "source": [
    "# Duplicating data \n",
    "features  = ['CONTRIBUTING FACTOR VEHICLE 1','BOROUGH','NUMBER OF PERSONS KILLED','VEHICLE TYPE CODE 1',\n",
    "            'HOUR','WEEKDAY']\n",
    "tree_data = traffic_data[features]\n",
    "\n",
    "# Replacing NA's with 'OTHER' for vehicle type\n",
    "tree_data['VEHICLE TYPE CODE 1'].fillna('OTHER', inplace=True)\n",
    "\n",
    "tree_data = tree_data[tree_data['CONTRIBUTING FACTOR VEHICLE 1'] != 'Unspecified']\n",
    "tree_data = tree_data[tree_data['BOROUGH'] != 'UNKNOWN']\n",
    "tree_data = tree_data.dropna(axis = 0, how = 'any')\n",
    "\n",
    "# Remove uncommon contributing factors (as shown in plot of factors)\n",
    "common_factors = ['Driver Inattention/Distraction','Fatigued/Drowsy','Failure to Yield Right-of-Way',\n",
    "                  'Other Vehicular','Backing Unsafely','Turning Improperly','Lost Consciousness','Prescription Medication',\n",
    "                  'Traffic Control Disregarded','Driver Inexperience']\n",
    "\n",
    "print len(tree_data)\n",
    "tree_data = tree_data.loc[tree_data['CONTRIBUTING FACTOR VEHICLE 1'].isin(common_factors)]\n",
    "print len(tree_data)"
   ]
  },
  {
   "cell_type": "code",
   "execution_count": 4,
   "metadata": {
    "collapsed": false
   },
   "outputs": [],
   "source": [
    "X = tree_data[features[1:]]\n",
    "# Encode input values as an enumerated type or categorical variable\n",
    "X.loc[:,'BOROUGH']                  = pd.factorize(X['BOROUGH'])[0]\n",
    "#X.loc[:,'ON STREET NAME']          = pd.factorize(X['ON STREET NAME'])[0]\n",
    "X.loc[:,'NUMBER OF PERSONS KILLED'] = pd.factorize(X['NUMBER OF PERSONS KILLED'])[0]\n",
    "X.loc[:,'VEHICLE TYPE CODE 1']      = pd.factorize(X['VEHICLE TYPE CODE 1'])[0]\n",
    "X.loc[:,'HOUR']                     = pd.factorize(X['HOUR'])[0]\n",
    "X.loc[:,'WEEKDAY']                  = pd.factorize(X['WEEKDAY'])[0]\n",
    "\n",
    "y = pd.factorize(tree_data[features[0]])[0]\n",
    "\n",
    "# Splitting testing and training data\n",
    "X_train, X_test, y_train, y_test = train_test_split(X, y, test_size=0.1, random_state=1)"
   ]
  },
  {
   "cell_type": "code",
   "execution_count": 5,
   "metadata": {
    "collapsed": false
   },
   "outputs": [
    {
     "name": "stdout",
     "output_type": "stream",
     "text": [
      "The test score is:     0.341307392407\n",
      "The training score is: 0.371113858888\n"
     ]
    }
   ],
   "source": [
    "# Model training and prediction\n",
    "clf = tree.DecisionTreeClassifier()\n",
    "clf = clf.fit(X_train, y_train)\n",
    "test_pred = clf.predict(X_test)\n",
    "train_pred = clf.predict(X_train)\n",
    "\n",
    "print 'The test score is:    ', ex.score(test_pred,y_test)\n",
    "print 'The training score is:', ex.score(train_pred,y_train)"
   ]
  },
  {
   "cell_type": "markdown",
   "metadata": {},
   "source": [
    "----\n",
    "## <span style=\"color:darkred\">Visualizations</span>\n",
    "\n",
    "<span style=\"color:red\"> Should we chose something different on the webpage?</span>"
   ]
  },
  {
   "cell_type": "markdown",
   "metadata": {},
   "source": [
    "### <span style=\"color:darkred\">Explain the visualizations you've chosen.</span>\n"
   ]
  },
  {
   "cell_type": "markdown",
   "metadata": {
    "collapsed": true
   },
   "source": [
    "### <span style=\"color:darkred\">Why are they right for the story you want to tell?</span>"
   ]
  },
  {
   "cell_type": "markdown",
   "metadata": {},
   "source": [
    "----\n",
    "## <span style=\"color:darkred\">Discussion - critical thinking</span>\n"
   ]
  },
  {
   "cell_type": "markdown",
   "metadata": {
    "collapsed": true
   },
   "source": [
    "### <span style=\"color:darkred\">What went well?</span>\n",
    "* <span style=\"color:red\">Model selection and prediction, right?</span>\n",
    "* Set-up/design of webpage "
   ]
  },
  {
   "cell_type": "markdown",
   "metadata": {
    "collapsed": true
   },
   "source": [
    "### <span style=\"color:darkred\">What is still missing? What could be improved?, Why?</span>\n",
    "#### <span style=\"color:darkred\">Data-wise</span>\n",
    "Need to write more about\n",
    "\n",
    "* <span style=\"color:red\">Combining different datasets</span>\n",
    "* <span style=\"color:red\">Adding information about traffic density</span>\n",
    "* <span style=\"color:red\">Size of cluster file (but do include a lot of data</span>\n",
    "\n",
    "We really wanted to do some more work on the missing values in the dataset. We found the module ``geopy`` which lets you write an address and get corresponding geo location or the other way around, write geo location and get street information such as Street name, number, state, country etc. an example of both is given below.\n",
    "\n",
    "The problem however is that the API that is called to get the geo locations/address values only allow a minimum of calls per day and with a total of $32.396$ values for just location, this has been impossible to acheive. However we still wanted to mention it as this was our intention and probably would have been easy to do had we had a developer account. \n",
    "\n",
    "#### <span style=\"color:darkred\">Machine Learning</span>\n",
    "\n",
    "\n",
    "#### <span style=\"color:darkred\"> Visualizations</span>\n",
    "\n",
    "#### <span style=\"color:darkred\"> Overall in the solution</span>"
   ]
  },
  {
   "cell_type": "code",
   "execution_count": null,
   "metadata": {
    "collapsed": true
   },
   "outputs": [],
   "source": []
  },
  {
   "cell_type": "markdown",
   "metadata": {},
   "source": [
    "## <span style=\"color:darkred\">References</span>\n",
    "In relation to traffic in New York City, we have found a few sources describing the traffic in New York and some previous visualizations:\n",
    "#### <span style=\"color:darkred\">Related articles and inspiration</span>\n",
    "\n",
    "<span style=\"color:red\">Need to write these more academically correct!</span>\n",
    "\n",
    "* Decreasing number of [Traffic deaths in NYC](https://www.nytimes.com/2016/01/02/nyregion/number-of-traffic-deaths-in-new-york-falls-for-a-second-year-in-a-row.html?_r=0)\n",
    "* [**Viewing.nyc's**](https://viewing.nyc/) really got it!\n",
    "  * [Visualization of NYC traffic data](https://viewing.nyc/see-wazes-hypnotic-visualization-of-new-york-city-traffic-patterns/)\n",
    "  * [Distracted driving in New York](https://viewing.nyc/heres-a-scary-map-of-all-distracted-driving-collisions-in-new-york-city/)\n",
    "* [ArcGIS Population/Traffic](https://www.arcgis.com/home/webmap/viewer.html?webmap=df41300d3d4344baa080c86349bfd59b)\n",
    "* [YouTube-inspiration](https://www.youtube.com/watch?v=QFv7AFRmmTs)\n",
    "* [Blocks.org - Bar charts](http://bl.ocks.org/juan-cb/faf62e91e3c70a99a306)\n",
    "\n",
    "* [Vision Zero - basic information](nyc.gov/visionzero)\n",
    "* [Vision Zero - accident map](nyc.gov/visionzero)\n",
    "This map has been created in relation to Vision Zero and has a lot of information about speed limits, where accidents happen (year-by-year), risk areas, number of accidents per precinct etc.\n",
    "* [Scrolling as opposed to clicking!](https://bost.ocks.org/mike/scroll/)\n",
    "* [Shapefile](http://www1.nyc.gov/site/planning/data-maps/open-data/districts-download-metadata.page)\n",
    "* [Choropleth map](https://bl.ocks.org/mbostock/4060606)"
   ]
  },
  {
   "cell_type": "code",
   "execution_count": null,
   "metadata": {
    "collapsed": true
   },
   "outputs": [],
   "source": []
  }
 ],
 "metadata": {
  "anaconda-cloud": {},
  "kernelspec": {
   "display_name": "Python [Root]",
   "language": "python",
   "name": "Python [Root]"
  },
  "language_info": {
   "codemirror_mode": {
    "name": "ipython",
    "version": 2
   },
   "file_extension": ".py",
   "mimetype": "text/x-python",
   "name": "python",
   "nbconvert_exporter": "python",
   "pygments_lexer": "ipython2",
   "version": "2.7.12"
  }
 },
 "nbformat": 4,
 "nbformat_minor": 0
}
