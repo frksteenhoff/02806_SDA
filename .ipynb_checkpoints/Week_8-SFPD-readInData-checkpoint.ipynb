{
 "cells": [
  {
   "cell_type": "markdown",
   "metadata": {},
   "source": [
    "# Work for data extraction to webpage"
   ]
  },
  {
   "cell_type": "code",
   "execution_count": 1,
   "metadata": {
    "collapsed": true
   },
   "outputs": [],
   "source": [
    "# Getting relevant packages\n",
    "import pandas as pd\n",
    "import matplotlib.pyplot as plt\n",
    "%matplotlib inline\n",
    "import urllib2\n",
    "from collections import Counter \n",
    "import numpy as np\n",
    "from operator import itemgetter\n",
    "from scipy import linalg\n",
    "import geoplotlib as gpl\n",
    "from sklearn.neighbors import KNeighborsClassifier"
   ]
  },
  {
   "cell_type": "code",
   "execution_count": 24,
   "metadata": {
    "collapsed": false
   },
   "outputs": [],
   "source": [
    "# Importing data using pandas - only needed columns\n",
    "crime_data = pd.read_csv('SFPD_Incidents_January_2003.csv', usecols=['Category','Date','PdDistrict']) # Updated 21st of March"
   ]
  },
  {
   "cell_type": "code",
   "execution_count": 25,
   "metadata": {
    "collapsed": false
   },
   "outputs": [
    {
     "data": {
      "text/html": [
       "<div>\n",
       "<table border=\"1\" class=\"dataframe\">\n",
       "  <thead>\n",
       "    <tr style=\"text-align: right;\">\n",
       "      <th></th>\n",
       "      <th>Category</th>\n",
       "      <th>Date</th>\n",
       "      <th>PdDistrict</th>\n",
       "      <th>Year</th>\n",
       "    </tr>\n",
       "  </thead>\n",
       "  <tbody>\n",
       "    <tr>\n",
       "      <th>778030</th>\n",
       "      <td>LARCENY/THEFT</td>\n",
       "      <td>04/08/2003</td>\n",
       "      <td>TARAVAL</td>\n",
       "      <td>2003</td>\n",
       "    </tr>\n",
       "    <tr>\n",
       "      <th>855466</th>\n",
       "      <td>DRUG/NARCOTIC</td>\n",
       "      <td>02/10/2003</td>\n",
       "      <td>MISSION</td>\n",
       "      <td>2003</td>\n",
       "    </tr>\n",
       "    <tr>\n",
       "      <th>1516828</th>\n",
       "      <td>OTHER OFFENSES</td>\n",
       "      <td>02/18/2003</td>\n",
       "      <td>SOUTHERN</td>\n",
       "      <td>2003</td>\n",
       "    </tr>\n",
       "    <tr>\n",
       "      <th>855462</th>\n",
       "      <td>FRAUD</td>\n",
       "      <td>03/12/2003</td>\n",
       "      <td>NORTHERN</td>\n",
       "      <td>2003</td>\n",
       "    </tr>\n",
       "    <tr>\n",
       "      <th>421771</th>\n",
       "      <td>DRUG/NARCOTIC</td>\n",
       "      <td>09/30/2003</td>\n",
       "      <td>MISSION</td>\n",
       "      <td>2003</td>\n",
       "    </tr>\n",
       "    <tr>\n",
       "      <th>855455</th>\n",
       "      <td>VANDALISM</td>\n",
       "      <td>03/21/2003</td>\n",
       "      <td>TARAVAL</td>\n",
       "      <td>2003</td>\n",
       "    </tr>\n",
       "    <tr>\n",
       "      <th>855450</th>\n",
       "      <td>VANDALISM</td>\n",
       "      <td>10/25/2003</td>\n",
       "      <td>MISSION</td>\n",
       "      <td>2003</td>\n",
       "    </tr>\n",
       "    <tr>\n",
       "      <th>605231</th>\n",
       "      <td>KIDNAPPING</td>\n",
       "      <td>11/07/2003</td>\n",
       "      <td>RICHMOND</td>\n",
       "      <td>2003</td>\n",
       "    </tr>\n",
       "    <tr>\n",
       "      <th>1157907</th>\n",
       "      <td>FRAUD</td>\n",
       "      <td>05/27/2003</td>\n",
       "      <td>CENTRAL</td>\n",
       "      <td>2003</td>\n",
       "    </tr>\n",
       "    <tr>\n",
       "      <th>1157909</th>\n",
       "      <td>OTHER OFFENSES</td>\n",
       "      <td>05/13/2003</td>\n",
       "      <td>MISSION</td>\n",
       "      <td>2003</td>\n",
       "    </tr>\n",
       "  </tbody>\n",
       "</table>\n",
       "</div>"
      ],
      "text/plain": [
       "               Category        Date PdDistrict  Year\n",
       "778030    LARCENY/THEFT  04/08/2003    TARAVAL  2003\n",
       "855466    DRUG/NARCOTIC  02/10/2003    MISSION  2003\n",
       "1516828  OTHER OFFENSES  02/18/2003   SOUTHERN  2003\n",
       "855462            FRAUD  03/12/2003   NORTHERN  2003\n",
       "421771    DRUG/NARCOTIC  09/30/2003    MISSION  2003\n",
       "855455        VANDALISM  03/21/2003    TARAVAL  2003\n",
       "855450        VANDALISM  10/25/2003    MISSION  2003\n",
       "605231       KIDNAPPING  11/07/2003   RICHMOND  2003\n",
       "1157907           FRAUD  05/27/2003    CENTRAL  2003\n",
       "1157909  OTHER OFFENSES  05/13/2003    MISSION  2003"
      ]
     },
     "execution_count": 25,
     "metadata": {},
     "output_type": "execute_result"
    }
   ],
   "source": [
    "# Extraxt year\n",
    "crimePerYear = []\n",
    "for date in crime_data.Date:\n",
    "    crimePerYear.append(int(date.split(\"/\")[-1]))\n",
    "\n",
    "# Append to existing dataframe\n",
    "crime_data['Year'] = crimePerYear \n",
    "crime_data = crime_data.sort_values(by='Year')\n",
    "crime_data[:10]"
   ]
  },
  {
   "cell_type": "code",
   "execution_count": 45,
   "metadata": {
    "collapsed": false
   },
   "outputs": [
    {
     "data": {
      "text/html": [
       "<div>\n",
       "<table border=\"1\" class=\"dataframe\">\n",
       "  <thead>\n",
       "    <tr style=\"text-align: right;\">\n",
       "      <th></th>\n",
       "      <th>Category</th>\n",
       "      <th>Date</th>\n",
       "      <th>PdDistrict</th>\n",
       "      <th>Year</th>\n",
       "    </tr>\n",
       "  </thead>\n",
       "  <tbody>\n",
       "    <tr>\n",
       "      <th>855427</th>\n",
       "      <td>VEHICLE THEFT</td>\n",
       "      <td>07/25/2003</td>\n",
       "      <td>SOUTHERN</td>\n",
       "      <td>2003</td>\n",
       "    </tr>\n",
       "    <tr>\n",
       "      <th>1516770</th>\n",
       "      <td>VEHICLE THEFT</td>\n",
       "      <td>07/14/2003</td>\n",
       "      <td>NORTHERN</td>\n",
       "      <td>2003</td>\n",
       "    </tr>\n",
       "    <tr>\n",
       "      <th>1157850</th>\n",
       "      <td>PROSTITUTION</td>\n",
       "      <td>08/27/2003</td>\n",
       "      <td>NORTHERN</td>\n",
       "      <td>2003</td>\n",
       "    </tr>\n",
       "    <tr>\n",
       "      <th>1281719</th>\n",
       "      <td>PROSTITUTION</td>\n",
       "      <td>09/26/2003</td>\n",
       "      <td>NORTHERN</td>\n",
       "      <td>2003</td>\n",
       "    </tr>\n",
       "    <tr>\n",
       "      <th>1281684</th>\n",
       "      <td>VEHICLE THEFT</td>\n",
       "      <td>06/23/2003</td>\n",
       "      <td>CENTRAL</td>\n",
       "      <td>2003</td>\n",
       "    </tr>\n",
       "    <tr>\n",
       "      <th>855339</th>\n",
       "      <td>VEHICLE THEFT</td>\n",
       "      <td>10/12/2003</td>\n",
       "      <td>INGLESIDE</td>\n",
       "      <td>2003</td>\n",
       "    </tr>\n",
       "    <tr>\n",
       "      <th>855299</th>\n",
       "      <td>VEHICLE THEFT</td>\n",
       "      <td>09/20/2003</td>\n",
       "      <td>INGLESIDE</td>\n",
       "      <td>2003</td>\n",
       "    </tr>\n",
       "    <tr>\n",
       "      <th>605262</th>\n",
       "      <td>VEHICLE THEFT</td>\n",
       "      <td>06/05/2003</td>\n",
       "      <td>CENTRAL</td>\n",
       "      <td>2003</td>\n",
       "    </tr>\n",
       "    <tr>\n",
       "      <th>855396</th>\n",
       "      <td>VEHICLE THEFT</td>\n",
       "      <td>03/24/2003</td>\n",
       "      <td>BAYVIEW</td>\n",
       "      <td>2003</td>\n",
       "    </tr>\n",
       "    <tr>\n",
       "      <th>1516739</th>\n",
       "      <td>VEHICLE THEFT</td>\n",
       "      <td>01/08/2003</td>\n",
       "      <td>INGLESIDE</td>\n",
       "      <td>2003</td>\n",
       "    </tr>\n",
       "  </tbody>\n",
       "</table>\n",
       "</div>"
      ],
      "text/plain": [
       "              Category        Date PdDistrict  Year\n",
       "855427   VEHICLE THEFT  07/25/2003   SOUTHERN  2003\n",
       "1516770  VEHICLE THEFT  07/14/2003   NORTHERN  2003\n",
       "1157850   PROSTITUTION  08/27/2003   NORTHERN  2003\n",
       "1281719   PROSTITUTION  09/26/2003   NORTHERN  2003\n",
       "1281684  VEHICLE THEFT  06/23/2003    CENTRAL  2003\n",
       "855339   VEHICLE THEFT  10/12/2003  INGLESIDE  2003\n",
       "855299   VEHICLE THEFT  09/20/2003  INGLESIDE  2003\n",
       "605262   VEHICLE THEFT  06/05/2003    CENTRAL  2003\n",
       "855396   VEHICLE THEFT  03/24/2003    BAYVIEW  2003\n",
       "1516739  VEHICLE THEFT  01/08/2003  INGLESIDE  2003"
      ]
     },
     "execution_count": 45,
     "metadata": {},
     "output_type": "execute_result"
    }
   ],
   "source": [
    "crime_data_crime[:10]"
   ]
  },
  {
   "cell_type": "code",
   "execution_count": 43,
   "metadata": {
    "collapsed": false
   },
   "outputs": [],
   "source": [
    "# Important data\n",
    "crimes = [\"VEHICLE THEFT\", \"PROSTITUTION\"]\n",
    "years  = [2003, 2015]\n",
    "crime_info = {}\n",
    "crime_info['2003'] = {}\n",
    "crime_info['2015'] = {}\n",
    "\n",
    "# Keep only values in years 2003 and 2015\n",
    "crime_data_year = crime_data.loc[crime_data['Year'].isin(years)]\n",
    "\n",
    "# Keep only crime categories \"Vehicle theft\" and \"prostitution\" \n",
    "crime_data_crime = crime_data_year.loc[crime_data_year['Category'].isin(crimes)]"
   ]
  },
  {
   "cell_type": "code",
   "execution_count": 47,
   "metadata": {
    "collapsed": false
   },
   "outputs": [
    {
     "data": {
      "text/plain": [
       "{'2003': {'BAYVIEW': (2121, 11),\n",
       "  'CENTRAL': (1193, 70),\n",
       "  'INGLESIDE': (2319, 5),\n",
       "  'MISSION': (2063, 713),\n",
       "  'NORTHERN': (1879, 581),\n",
       "  'PARK': (1207, 2),\n",
       "  'RICHMOND': (1081, 15),\n",
       "  'SOUTHERN': (1426, 18),\n",
       "  'TARAVAL': (1665, 10),\n",
       "  'TENDERLOIN': (371, 527)},\n",
       " '2015': {'BAYVIEW': (985, 7),\n",
       "  'CENTRAL': (552, 44),\n",
       "  'INGLESIDE': (1368, 5),\n",
       "  'MISSION': (1198, 66),\n",
       "  'NORTHERN': (945, 42),\n",
       "  'PARK': (640, 1),\n",
       "  'RICHMOND': (559, 9),\n",
       "  'SOUTHERN': (795, 96),\n",
       "  'TARAVAL': (789, 81),\n",
       "  'TENDERLOIN': (113, 23)}}"
      ]
     },
     "execution_count": 47,
     "metadata": {},
     "output_type": "execute_result"
    }
   ],
   "source": [
    "# Number of crimes per crime for the two years\n",
    "for year in years:\n",
    "    # Get yearly data\n",
    "    data = crime_data_crime.loc[crime_data_crime['Year'].isin([year])]\n",
    "    for district in list(set(crime_data_crime.PdDistrict)):\n",
    "        # Get tuple of number of vehicle thefts, prostitution\n",
    "        crime_dist = data.loc[data['PdDistrict'].isin([district])]\n",
    "        crime_info[str(year)][district] = (len(crime_dist.loc[crime_dist['Category'].isin(['VEHICLE THEFT'])]),\n",
    "                                           len(crime_dist.loc[crime_dist['Category'].isin(['PROSTITUTION'])]))\n",
    "crime_info"
   ]
  },
  {
   "cell_type": "code",
   "execution_count": 52,
   "metadata": {
    "collapsed": false
   },
   "outputs": [
    {
     "data": {
      "text/plain": [
       "{'BAYVIEW': (2121, 11),\n",
       " 'CENTRAL': (1193, 70),\n",
       " 'INGLESIDE': (2319, 5),\n",
       " 'MISSION': (2063, 713),\n",
       " 'NORTHERN': (1879, 581),\n",
       " 'PARK': (1207, 2),\n",
       " 'RICHMOND': (1081, 15),\n",
       " 'SOUTHERN': (1426, 18),\n",
       " 'TARAVAL': (1665, 10),\n",
       " 'TENDERLOIN': (371, 527)}"
      ]
     },
     "execution_count": 52,
     "metadata": {},
     "output_type": "execute_result"
    }
   ],
   "source": [
    "crime_info['2003']"
   ]
  },
  {
   "cell_type": "code",
   "execution_count": null,
   "metadata": {
    "collapsed": true
   },
   "outputs": [],
   "source": []
  }
 ],
 "metadata": {
  "anaconda-cloud": {},
  "kernelspec": {
   "display_name": "Python [Root]",
   "language": "python",
   "name": "Python [Root]"
  },
  "language_info": {
   "codemirror_mode": {
    "name": "ipython",
    "version": 2
   },
   "file_extension": ".py",
   "mimetype": "text/x-python",
   "name": "python",
   "nbconvert_exporter": "python",
   "pygments_lexer": "ipython2",
   "version": "2.7.12"
  }
 },
 "nbformat": 4,
 "nbformat_minor": 0
}
