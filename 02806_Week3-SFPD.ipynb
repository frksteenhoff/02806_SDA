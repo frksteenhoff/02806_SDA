{
 "cells": [
  {
   "cell_type": "markdown",
   "metadata": {},
   "source": [
    "# Getting started with the SFPD data"
   ]
  },
  {
   "cell_type": "code",
   "execution_count": 7,
   "metadata": {
    "collapsed": false
   },
   "outputs": [],
   "source": [
    "# Getting relevant packages\n",
    "import pandas as pd\n",
    "import matplotlib.pyplot as plt\n",
    "%matplotlib inline\n",
    "import urllib2\n",
    "from collections import Counter \n",
    "import numpy as np\n",
    "from operator import itemgetter\n",
    "from scipy import linalg\n",
    "import geoplotlib as gpl"
   ]
  },
  {
   "cell_type": "code",
   "execution_count": 2,
   "metadata": {
    "collapsed": false
   },
   "outputs": [],
   "source": [
    "# Importing data using pandas\n",
    "#crime_data = pd.read_csv('SFPD-Incidents_Jan2003.csv')"
   ]
  },
  {
   "cell_type": "markdown",
   "metadata": {},
   "source": [
    "### Initial work on data"
   ]
  },
  {
   "cell_type": "code",
   "execution_count": 1,
   "metadata": {
    "collapsed": false
   },
   "outputs": [],
   "source": [
    "# Show the resulting crime data\n",
    "#crime_data"
   ]
  },
  {
   "cell_type": "code",
   "execution_count": null,
   "metadata": {
    "collapsed": false
   },
   "outputs": [],
   "source": [
    "print \"Crimes in all:\", len(crime_data)"
   ]
  },
  {
   "cell_type": "code",
   "execution_count": null,
   "metadata": {
    "collapsed": false
   },
   "outputs": [],
   "source": [
    "# Extract set of crime categories\n",
    "crime_categories = set(crime_data.Category)\n",
    "print \"No. of crime categories:\", len(crime_categories), \"\\n\", crime_categories"
   ]
  },
  {
   "cell_type": "code",
   "execution_count": null,
   "metadata": {
    "collapsed": false
   },
   "outputs": [],
   "source": [
    "# Count number of occurences of the different categories\n",
    "crime_count = Counter()\n",
    "for cat in crime_data.Category:\n",
    "    crime_count[cat] += 1\n",
    "crime_count"
   ]
  },
  {
   "cell_type": "code",
   "execution_count": null,
   "metadata": {
    "collapsed": false
   },
   "outputs": [],
   "source": [
    "# Find most common crime\n",
    "crime_count.most_common(1)"
   ]
  },
  {
   "cell_type": "code",
   "execution_count": null,
   "metadata": {
    "collapsed": false
   },
   "outputs": [],
   "source": [
    "# Find least common crime\n",
    "least_common = crime_count.most_common()[-1][0]\n",
    "print least_common + \":\", crime_count[crime_count.most_common()[-1][0]]  "
   ]
  },
  {
   "cell_type": "markdown",
   "metadata": {},
   "source": [
    "### Plot of crimes"
   ]
  },
  {
   "cell_type": "code",
   "execution_count": null,
   "metadata": {
    "collapsed": false
   },
   "outputs": [],
   "source": [
    "# Plot bar chart of crimes\n",
    "labels, values = zip(*crime_count.most_common())\n",
    "indexes = np.arange(len(labels))\n",
    "\n",
    "fig = plt.figure(figsize=(16,8))\n",
    "plt.bar(indexes, values, align='center', alpha=0.5, color='grey')\n",
    "plt.xticks(indexes, labels)\n",
    "plt.ylabel('Number of incidents')\n",
    "plt.xlabel('Crime Category')\n",
    "plt.title('Bar chart of crimes committed since 2003')\n",
    "_, labels = plt.xticks()\n",
    "plt.setp(labels, rotation=90)\n",
    "plt.show()\n"
   ]
  },
  {
   "cell_type": "markdown",
   "metadata": {},
   "source": [
    "### Change over time - crimes committed per year 2003-2016"
   ]
  },
  {
   "cell_type": "code",
   "execution_count": null,
   "metadata": {
    "collapsed": false
   },
   "outputs": [],
   "source": [
    "# get crimes per year\n",
    "crimePerYear = []\n",
    "for date in crime_data.Date:\n",
    "    crimePerYear.append(int(date.split(\"/\")[-1]))\n",
    "\n",
    "# Append to existing dataframe\n",
    "crime_data['Year'] = crimePerYear \n",
    "crime_data = crime_data.sort_values(by='Year')\n",
    "crime_data"
   ]
  },
  {
   "cell_type": "code",
   "execution_count": null,
   "metadata": {
    "collapsed": false
   },
   "outputs": [],
   "source": [
    "# Count number of crimes per year\n",
    "year_count = Counter()\n",
    "for year in crimePerYear:\n",
    "    year_count[year] += 1\n",
    "\n",
    "# Find avg number of crimes per year\n",
    "print \"Average number of crimes per year:\", len(crime_data)/(2017-2003)"
   ]
  },
  {
   "cell_type": "code",
   "execution_count": null,
   "metadata": {
    "collapsed": false
   },
   "outputs": [],
   "source": [
    "focuscrimes = set(['WEAPON LAWS', 'PROSTITUTION', 'DRIVING UNDER THE INFLUENCE', 'ROBBERY', 'BURGLARY', 'ASSAULT', 'DRUNKENNESS', 'DRUG/NARCOTIC', 'TRESPASS', 'LARCENY/THEFT', 'VANDALISM', 'VEHICLE THEFT', 'STOLEN PROPERTY', 'DISORDERLY CONDUCT'])"
   ]
  },
  {
   "cell_type": "markdown",
   "metadata": {},
   "source": [
    "### Plotting for the focus crimes on a yearly basis"
   ]
  },
  {
   "cell_type": "code",
   "execution_count": null,
   "metadata": {
    "collapsed": false
   },
   "outputs": [],
   "source": [
    "# Create 2 X 7 grid for the 14 crime subplots\n",
    "# Run through each focus crime, aggregate data and plot on-the-fly\n",
    "\n",
    "# Initialize variables\n",
    "y_cnt = Counter()\n",
    "temp_crime_y = []\n",
    "plotVar = 1 # plotting variable, keeps track of subplot\n",
    "\n",
    "# Run through each focus crime category\n",
    "for crime in focuscrimes:\n",
    "    # Make data structure with one crime category at a time\n",
    "    temp_values = crime_data.loc[crime_data['Category'].isin([crime])]\n",
    "    # Extract year per crime, add to list\n",
    "    temp_crime_y = temp_values.Year.tolist()\n",
    "    # Count no of crimes for each year\n",
    "    for y in temp_crime_y:\n",
    "        y_cnt[y] += 1\n",
    "    \n",
    "    # Sort plot values\n",
    "    labels, values = zip(*sorted(y_cnt.items()))\n",
    "    indexes = np.arange(len(labels))\n",
    "    \n",
    "    # Add plot variables\n",
    "    plt.subplot(7, 2, plotVar)\n",
    "    plt.annotate(crime, xy=(1, 0), xycoords='axes fraction',\n",
    "                 xytext=(-200, 80), textcoords='offset pixels',\n",
    "                 horizontalalignment='right',verticalalignment='bottom') # Labels on each plot\n",
    "    plt.bar(indexes, values, align='center', alpha=0.5, color='grey')\n",
    "    \n",
    "    # Plot the results\n",
    "    plt.xticks(indexes, labels)\n",
    "    plt.ylabel('Crime count')\n",
    "    plt.xlabel('Year')\n",
    "    plt.subplots_adjust(bottom=.01, left=.01, right=2.5, top=4.0, hspace=.75)\n",
    "    plotVar += 1\n",
    "    \n",
    "plt.show()\n"
   ]
  },
  {
   "cell_type": "markdown",
   "metadata": {
    "collapsed": true
   },
   "source": [
    "#### Comment on the plots\n",
    ">*Note!* 2017 have been included but since we're only in February 2017, this data of course is inconsistent.\n",
    "\n",
    "* For all categories within the focus crimes, it seems as if the years 2003-2005 had increased numbers of crimes. Why this is is hard to tell only from this data. Maybe, as an effect of the 'engine immobilizer technology' driving under the influence and vandalism can have been positiely effected, but this is a long shot.\n",
    "* 2010-2011 is definately an all time low for most crimes, why I cannot say.\n",
    "* Vehicle theft, disorderly conduct and vandalism seem to have peaked in 2015."
   ]
  },
  {
   "cell_type": "markdown",
   "metadata": {},
   "source": [
    "### Plotting the number of crimes per hour"
   ]
  },
  {
   "cell_type": "code",
   "execution_count": null,
   "metadata": {
    "collapsed": false
   },
   "outputs": [],
   "source": [
    "# Getting the hour from the crime data\n",
    "crimePerHour = []\n",
    "for hour in crime_data.Time:\n",
    "    crimePerHour.append(int(hour.split(\":\")[0]))\n",
    "\n",
    "# Append to existing dataframe\n",
    "crime_data['Hour'] = crimePerHour \n",
    "crime_data"
   ]
  },
  {
   "cell_type": "code",
   "execution_count": null,
   "metadata": {
    "collapsed": true
   },
   "outputs": [],
   "source": [
    "# Count crimes per hour\n",
    "hour_count = Counter()\n",
    "for hour in crimePerHour:\n",
    "    hour_count[hour] += 1"
   ]
  },
  {
   "cell_type": "code",
   "execution_count": null,
   "metadata": {
    "collapsed": false
   },
   "outputs": [],
   "source": [
    "# Plot bar chart of crimes\n",
    "labels, values = zip(*hour_count.items())\n",
    "indexes = np.arange(len(labels))\n",
    "\n",
    "fig = plt.figure(figsize=(16,8))\n",
    "plt.bar(indexes, values, align='center', alpha=0.5, color='grey')\n",
    "plt.xticks(indexes, labels)\n",
    "plt.ylabel('Number of incidents')\n",
    "plt.xlabel('Crime Category')\n",
    "plt.title('Bar chart of the hour of crimes committed in San Fran since 2003')\n",
    "_, labels = plt.xticks()\n",
    "plt.setp(labels, rotation=90)\n",
    "plt.show()\n"
   ]
  },
  {
   "cell_type": "markdown",
   "metadata": {},
   "source": [
    "#### Comment on the plot\n",
    "\n",
    "* Considering the peak at 12 I first thought it was just because it was part of the time where most people are away from home, maybe out for lunch, but I don't feel that this is reason enough to conclude that this is why, especially not since the number of crimes keep rising all the way until 6PM! Are people eating out a lot? *Or maybe they first realize that they have been robbed when they get home (from work etc.)?*\n",
    "* The quite low number of crimes from 2-7 makes sense since most people are at home, sleeping, and the \"crime riders\" might even sleep themselves. At least that's what my naïve brain thinks.\n",
    "* I found [this article](https://www.fastcodesign.com/1664491/infographic-of-the-day-when-do-criminals-prowl-the-streets) describing different theories on when and why different crimes occur at the time they to for some states in the US, an easy read.."
   ]
  },
  {
   "cell_type": "code",
   "execution_count": null,
   "metadata": {
    "collapsed": false
   },
   "outputs": [],
   "source": [
    "# Create 2 X 7 grid for the 14 crime subplots\n",
    "# Run through each focus crime, aggregate data and plot on-the-fly\n",
    "\n",
    "# Initialize variables\n",
    "h_cnt = Counter()\n",
    "temp_crime_h = []\n",
    "plotVar = 1 # plotting variable, keeps track of subplot\n",
    "\n",
    "# Run through each focus crime category\n",
    "for crime in focuscrimes:\n",
    "    # Make data structure with one crime category at a time\n",
    "    temp_values = crime_data.loc[crime_data['Category'].isin([crime])]\n",
    "    # Extract year per crime, add to list\n",
    "    temp_crime_h = temp_values.Hour.tolist()\n",
    "    #print len(temp_crime_h)\n",
    "    # Count no of crimes for each year\n",
    "    for h in temp_crime_h:\n",
    "        h_cnt[h] += 1\n",
    "    \n",
    "    # Sort plot values\n",
    "    labels, values = zip(*sorted(h_cnt.items()))\n",
    "    indexes = np.arange(len(labels))\n",
    "    \n",
    "    # Add plot variables\n",
    "    plt.subplot(7, 2, plotVar)\n",
    "    plt.annotate(crime, xy=(1, 0), xycoords='axes fraction',\n",
    "                 xytext=(-250, 80), textcoords='offset pixels',\n",
    "                 horizontalalignment='right',verticalalignment='bottom') # Labels on each plot\n",
    "    plt.bar(indexes, values, align='center', alpha=0.5, color='grey')\n",
    "    \n",
    "    # Plot the results\n",
    "    plt.xticks(indexes, labels)\n",
    "    plt.ylabel('Crime count')\n",
    "    plt.xlabel('Hour of day')\n",
    "    plt.subplots_adjust(bottom=.01, left=.01, right=2.5, top=4.0, hspace=.75)\n",
    "    \n",
    "    # Increment plot variable and reset counter\n",
    "    plotVar += 1\n",
    "    h_cnt.clear()\n",
    "    \n",
    "plt.show()\n"
   ]
  },
  {
   "cell_type": "markdown",
   "metadata": {},
   "source": [
    "#### Comment on plot\n",
    "\n",
    "**Quick 'facts'**\n",
    "* Disorderly conduct is high in the morning\n",
    "* Vehicle theft happens in the evening\n",
    "* Narcotics peaks in the afternoon\n",
    "* Driving under the influence is a night-time-thing\n",
    "* Prostitution most commonly happen between 6PM and 12PM\n",
    "* People are most ofen disturbed by disorderly conduct in the morning hours 6AM-9AM.\n",
    "* Number of robbery increases throughout the day.  \n",
    "\n",
    "**Theories**\n",
    "* Stealing cars happens at night when it is darker and you will be less easy to recognize.\n",
    "* Prostitution is for when you get home from work.\n",
    "\n",
    "The peak of burglary, larceny/theft and vehicle theft, prostitution etc. around noon, I cannot explain."
   ]
  },
  {
   "cell_type": "markdown",
   "metadata": {},
   "source": [
    "### Crime per district"
   ]
  },
  {
   "cell_type": "code",
   "execution_count": null,
   "metadata": {
    "collapsed": false
   },
   "outputs": [],
   "source": [
    "# List the 10 districts\n",
    "crime_district = set(crime_data.PdDistrict)\n",
    "crime_district"
   ]
  },
  {
   "cell_type": "code",
   "execution_count": null,
   "metadata": {
    "collapsed": false
   },
   "outputs": [],
   "source": [
    "# Initialize crime counters\n",
    "dist_cnt_c = Counter()\n",
    "dist_cnt_fc = Counter()\n",
    "noOfCrimes = []\n",
    "focuscrimes = ['WEAPON LAWS', 'PROSTITUTION', 'DRIVING UNDER THE INFLUENCE', 'ROBBERY', 'BURGLARY', 'ASSAULT', 'DRUNKENNESS', 'DRUG/NARCOTIC', 'TRESPASS', 'LARCENY/THEFT', 'VANDALISM', 'VEHICLE THEFT', 'STOLEN PROPERTY', 'DISORDERLY CONDUCT']\n",
    "\n",
    "# Crimes per district\n",
    "for dist in crime_district:\n",
    "    # Extracting district crimes\n",
    "    crimes  = crime_data.loc[crime_data['PdDistrict'].isin([dist])]\n",
    "    \n",
    "    # Using the district crimes to extract the focus crimes\n",
    "    fcrimes = crimes.loc[crimes['Category'].isin(focuscrimes)]  \n",
    "\n",
    "    # Count no of crimes for each year\n",
    "    dist_cnt_c[dist]  = len(crimes.Category.tolist())\n",
    "    dist_cnt_fc[dist] = len(fcrimes.Category.tolist())\n",
    "\n",
    "# Printing relevant information about district crime\n",
    "print \"Number of crimes: \\n\",             dist_cnt_c.items()\n",
    "print \"\\nNumber of focus crimes:\\n\",      dist_cnt_fc.items()\n",
    "print \"\\nMost number of crimes:\\n\",       dist_cnt_c.most_common(1)\n",
    "print \"\\nMost number of focus crimes:\\n\", dist_cnt_fc.most_common(1)"
   ]
  },
  {
   "cell_type": "markdown",
   "metadata": {},
   "source": [
    "### Frequency of crimes in certain neigborhoods"
   ]
  },
  {
   "cell_type": "markdown",
   "metadata": {},
   "source": [
    "Getting the normalized version of the first histogram"
   ]
  },
  {
   "cell_type": "code",
   "execution_count": null,
   "metadata": {
    "collapsed": false
   },
   "outputs": [],
   "source": [
    "# Get only crime values\n",
    "p_crime = np.array(crime_count.values())\n",
    "\n",
    "# Normalize values\n",
    "allCrimesNormalized = [number/linalg.norm(p_crime) for number in p_crime]"
   ]
  },
  {
   "cell_type": "code",
   "execution_count": null,
   "metadata": {
    "collapsed": false
   },
   "outputs": [],
   "source": [
    "allCrimesNormalized\n",
    "for val in crime_count.keys():\n",
    "    if val not in focuscrimes:\n",
    "        allCrimesNormalized.pop()\n",
    "allCrimesNormalized"
   ]
  },
  {
   "cell_type": "code",
   "execution_count": null,
   "metadata": {
    "collapsed": false
   },
   "outputs": [],
   "source": [
    "p_crime_d = np.array(dist_cnt_c.values())\n",
    "# Normalize values\n",
    "districtCrimesNormalized = [number/linalg.norm(p_crime_d) for number in p_crime_d]\n",
    "districtCrimesNormalized"
   ]
  },
  {
   "cell_type": "markdown",
   "metadata": {},
   "source": [
    "## Geo-plotting the coordinate data!"
   ]
  },
  {
   "cell_type": "markdown",
   "metadata": {},
   "source": [
    "I will be using the pandas dataframe as this is what I have been working with through all exercises."
   ]
  },
  {
   "cell_type": "code",
   "execution_count": null,
   "metadata": {
    "collapsed": false
   },
   "outputs": [],
   "source": [
    "# Extract geo coordinates dataframe\n",
    "geo_locations = crime_data[['X','Y']]\n",
    "geo_locations.columns = ['lon','lat']\n",
    "#geo_locations2 = geo_locations[:len(geo_locations)/2] # Working on a smaller dataset"
   ]
  },
  {
   "cell_type": "code",
   "execution_count": null,
   "metadata": {
    "collapsed": false
   },
   "outputs": [],
   "source": [
    "# Saving to CSV to check if it works better to load\n",
    "geo_locations.to_csv('geo_data.csv', sep=',', encoding='utf-8')"
   ]
  },
  {
   "cell_type": "code",
   "execution_count": null,
   "metadata": {
    "collapsed": false
   },
   "outputs": [],
   "source": [
    "# Get values in dict form\n",
    "geo_dict = geo_locations.to_dict()\n",
    "#geo_dict.keys()"
   ]
  },
  {
   "cell_type": "code",
   "execution_count": null,
   "metadata": {
    "collapsed": false
   },
   "outputs": [],
   "source": [
    "# Plotting the data w. geoplotlib\n",
    "gpl.dot(geo_dict,color='b',point_size=1)\n",
    "#gpl.dot(geo_locations2,color='b',point_size=1)\n",
    "#bbox = BoundingBox(north=max(location_dict['lat']), west=min(location_dict['lon']), south=max(location_dict['lat']), east=min(location_dict['lon']))\n",
    "#gpl.set_bbox(bbox)\n",
    "gpl.show()"
   ]
  },
  {
   "cell_type": "code",
   "execution_count": null,
   "metadata": {
    "collapsed": false
   },
   "outputs": [],
   "source": [
    "from geoplotlib.utils import read_csv\n",
    "\n",
    "# Reading in entire file and changing names of relevant columns\n",
    "data2 = read_csv('geo_data.csv')\n",
    "#data = read_csv('bus.csv')\n",
    "gpl.dot(data2)\n",
    "gpl.show()"
   ]
  },
  {
   "cell_type": "code",
   "execution_count": null,
   "metadata": {
    "collapsed": false
   },
   "outputs": [],
   "source": []
  },
  {
   "cell_type": "code",
   "execution_count": null,
   "metadata": {
    "collapsed": true
   },
   "outputs": [],
   "source": []
  }
 ],
 "metadata": {
  "anaconda-cloud": {},
  "kernelspec": {
   "display_name": "Python [Root]",
   "language": "python",
   "name": "Python [Root]"
  },
  "language_info": {
   "codemirror_mode": {
    "name": "ipython",
    "version": 2
   },
   "file_extension": ".py",
   "mimetype": "text/x-python",
   "name": "python",
   "nbconvert_exporter": "python",
   "pygments_lexer": "ipython2",
   "version": "2.7.12"
  }
 },
 "nbformat": 4,
 "nbformat_minor": 0
}
