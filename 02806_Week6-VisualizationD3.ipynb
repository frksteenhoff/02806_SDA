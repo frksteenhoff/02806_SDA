{
 "cells": [
  {
   "cell_type": "markdown",
   "metadata": {},
   "source": [
    "# Data Visualization\n",
    "Chaper 1-4 in *Interactive Data Visualization for the Web*"
   ]
  },
  {
   "cell_type": "markdown",
   "metadata": {},
   "source": [
    "### Questions chapter 3\n",
    "* Name 7 common HTML elements.\n",
    "\n",
    "* What's the difference between the class and the id HTML attributes.\n",
    "\n",
    "``classes`` can be reused for several elements. ``ID``'s can only be used once within a single DOM - Document Object Model.\n",
    "\n",
    "* What does \"DOM\" stand for? Explain in your own word what it refers to.\n",
    "\n",
    "Document Object Model. It is the standard on how to get, change, add HTML elements \n",
    "\n",
    "* What Python structure does the array correspond to?\n",
    "\n",
    "A list.\n",
    "\n",
    "* Which Python container does object correspond to?\n",
    "\n",
    "A dictionary.\n",
    "\n",
    "* Consider the 5 SVG squares in example 3-22. Think about how you'd\n",
    " * Add a gray boundary of width 2.\n",
    " * Make the squares increasingly transparant from left to right.\n",
    " * Make the squares 80 by 80 instead of 30 by 30.\n",
    " * Make the squares go from bottom of the SVG element to the top instead of the other way around."
   ]
  },
  {
   "cell_type": "markdown",
   "metadata": {},
   "source": [
    "### [Visit my webpage here]()"
   ]
  },
  {
   "cell_type": "markdown",
   "metadata": {
    "collapsed": true
   },
   "source": [
    "### Questions chapter 5\n",
    "\n",
    "Only exercises on webpage\n",
    "\n",
    "* [D3 tutorial webpage](https://website.education.wisc.edu/~swu28/d3t/concept.html)\n",
    "* "
   ]
  },
  {
   "cell_type": "code",
   "execution_count": null,
   "metadata": {
    "collapsed": true
   },
   "outputs": [],
   "source": []
  },
  {
   "cell_type": "code",
   "execution_count": null,
   "metadata": {
    "collapsed": true
   },
   "outputs": [],
   "source": []
  },
  {
   "cell_type": "code",
   "execution_count": null,
   "metadata": {
    "collapsed": true
   },
   "outputs": [],
   "source": []
  }
 ],
 "metadata": {
  "anaconda-cloud": {}
 },
 "nbformat": 4,
 "nbformat_minor": 0
}
