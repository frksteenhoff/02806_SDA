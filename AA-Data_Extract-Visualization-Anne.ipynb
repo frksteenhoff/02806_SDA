{
 "cells": [
  {
   "cell_type": "markdown",
   "metadata": {},
   "source": [
    "#  <span style=\"color:darkred\">Data extraction and visualization</span>\n",
    "The below scripts are made by Henriette Steenhoff, s134869, to help visualize the sampling of different indoor climate measures for the master thesis of Anne Sloth Bidstrup, s112862 at The Technical University of Denmark (DTU) anno 2017.\n",
    "\n",
    "----"
   ]
  },
  {
   "cell_type": "markdown",
   "metadata": {},
   "source": [
    "##  <span style=\"color:darkred\">Information about the different data sources</span>\n",
    "### The different data sources\n",
    "* CO2 + heat + humidity from netatmo - 3 different room types, in different sheets\n",
    " * Humidity - for each room - use all data, division as in feedback letter\n",
    " * CO2 -- important in regards to ``PIR`` and ``reed``- for living room/kitchen and bedroom\n",
    "* Temp from Bygweb - rows will be discarded\n",
    "\n",
    "### Different measures, what to use\n",
    "``Pir`` and ``reed`` -- merge tables!\n",
    "\n",
    "#### ``PIR`` - movement censor\n",
    "* The exciting part, indicates someone at home if between ``close`` and ``open``\n",
    "* ``Timed out`` - no more move, **rows will be discarded**\n",
    "\n",
    "#### ``Reed`` - door\n",
    "* Present/home values ``open/close``\n",
    "\n",
    "#### ``Compas/Acc`` \n",
    "* ONLY ``moved``\n",
    "* Sorted by room\n",
    "* *Number of entities*\n",
    "* % of time one has been at home\n",
    "\n",
    "Heat consumption - average\n",
    "\n",
    "``Hedelyngen`` - avg of all homes - in ``have`` file"
   ]
  },
  {
   "cell_type": "markdown",
   "metadata": {},
   "source": [
    "----\n",
    "### Documentation\n",
    "Some references for help on different coding solutions\n",
    "\n",
    "* [Panda Docs](http://pandaproject.net/docs/importing-access-files.html)\n",
    "* [Plotly Docs](https://plot.ly/python/ipython-notebook-tutorial/)\n",
    "\n",
    "### To-do:\n",
    "- Look into possibilities for making transparent background on plots to save $\\checkmark$ - *given as argument in plot* [see here](http://stackoverflow.com/questions/29968152/python-setting-background-color-to-transparent-in-plotly-plots)\n",
    "- Find target group in need of feedback $\\checkmark$ - Anne has list\n",
    "- Separate processed datasets from raw data (in folders) $\\checkmark$ - done ultimo March\n",
    "- Make system to distinguish between weeks and different users $\\checkmark$ - *weekly folders, alias and room identifiers*\n",
    "\n",
    "----"
   ]
  },
  {
   "cell_type": "markdown",
   "metadata": {},
   "source": [
    "## <span style=\"color:darkred\">Structure of data output</span>"
   ]
  },
  {
   "cell_type": "markdown",
   "metadata": {},
   "source": [
    "This section will give a brief introduction on how to\n",
    " * name the different files to be read\n",
    " * structure the raw data in order to be loaded into the program\n",
    " * find the different plots and output files\n",
    " \n",
    "### I/O description\n",
    "All input files must be put in the root of the directory. As this is done, the files used the week before (if any) needs to be moved to the weekly folder associated with the data. I.e. data from week 10 is still in root directory, move this to the folder ``Week_10`` - otherwise the data will not be read correctly.\n",
    "\n",
    "### Folder structure\n",
    "This information is used for organizing files into right folders in the working directory.\n",
    "\n",
    "* For each week there will be a folder named ``Week_x``, where ``x`` denotes the week. \n",
    " * In the weekly folder there are two subfolders: ``Visualizations`` and ``ProcessedData``.\n",
    "   * ``Visualizations`` contains bar charts, pie chart and plots for each week generated with the code below. Each home is uniquely identified by it's ``ID``.\n",
    "   * ``ProcessedData`` contains all data used in that week sorted into files for each room in the house, this is the data extracted below. The different homes can be identified by the aliases made by Anne and a room identifier $\\{stue, værelse\\}$ etc. \n",
    "\n",
    "Since the data from Netatmo and Wireless will be interdependent, there will be no separate folder for the data sources. *Some data (unused fields and observations) has been removed to improve performance.*\n",
    "\n",
    "### Naming convention\n",
    "### Data files\n",
    "Can all be found on dropbox in weekly folders in '``Program - filudtræk og arbejde``' in folder '``ProcessedData``' and subfolder '``AccCompas``' or '``PIRReed``'. There will be one file for each room.\n",
    "\n",
    "**PIR/Reed**\n",
    "\n",
    "Name: '``alias``-**PIRReed**``_room``.xlsx'\n",
    "\n",
    "i.e ``he117-PIRReed_livingroom.xlsx``\n",
    "\n",
    "**AccCompas**\n",
    "\n",
    "Name: '``alias``-**AccCompas**``_room``.xlsx'\n",
    "\n",
    "i.e ``he117-AccCompas_kitchen.xlsx``\n",
    "### PLOTS\n",
    "All the visualizations are found in folder ``ProcessedData`` in subfolder ``Visualizations``. Filenames will start with the ``alias`` for the home at hand and be followed by an indication of which output we have $\\{temp, co2, AccCompas, HR\\}$ and what room the measurements belong to: $\\{stue, værelse, entrance\\}$.\n",
    "\n",
    "\n",
    "**CO2 plot** \n",
    "\n",
    "Name: '``alias``-**co2**-``room``.png'\n",
    "\n",
    "**Temperature plot** \n",
    "\n",
    "Name: '``alias``-**temp**-``room``.png'\n",
    "\n",
    "**Movement** \n",
    "\n",
    "Name: '``alias``-**AccCompas**-``room``.png'\n",
    "\n",
    "**Humidity rate** \n",
    "\n",
    "Name: '``alias``-**HR**-``room``.png'\n",
    "\n",
    "----"
   ]
  },
  {
   "cell_type": "markdown",
   "metadata": {},
   "source": [
    "\n",
    "## <span style=\"color:darkred\">Explanation of how to run the code</span>\n",
    "<span style=\"color:darkred\">Description will be added shortly</span>\n",
    "\n",
    "Depending on what data you need, you can run different parts of the code. This section will give a brief introduction on how to:\n",
    "* access data from different weeks\n",
    "* toggle between different weeks\n",
    "* change path/data source\n",
    "* weekly plots\n",
    "  * generate humidity plots \n",
    "  * generate co2 plots\n",
    "  * generate temperature graphs\n",
    "  \n",
    "----"
   ]
  },
  {
   "cell_type": "markdown",
   "metadata": {},
   "source": [
    "\n",
    "## <span style=\"color:darkred\">Data Preprocessing</span>\n",
    "* Importing needed Python libraries\n",
    "* Adding global plotting color values"
   ]
  },
  {
   "cell_type": "code",
   "execution_count": 201,
   "metadata": {
    "collapsed": false
   },
   "outputs": [],
   "source": [
    "# Imports - getting relevant libraries\n",
    "import pandas as pd\n",
    "import matplotlib.pyplot as plt\n",
    "%matplotlib inline\n",
    "import urllib2\n",
    "from collections import Counter \n",
    "import numpy as np\n",
    "from operator import itemgetter\n",
    "from scipy import linalg\n",
    "from os import *\n",
    "from os.path import isfile, join\n",
    "import time\n",
    "from datetime import date, timedelta\n",
    "import datetime\n",
    "from pylab import *\n",
    "\n",
    "import plotly \n",
    "from IPython.display import Image \n",
    "# API access to plotting tools\n",
    "plotly.tools.set_credentials_file(username='frksteenhoff2', api_key ='duu8hsfRmuI5rF2EU8o5')\n",
    "import plotly.plotly as py\n",
    "import plotly.plotly as py\n",
    "from plotly.graph_objs import *\n",
    "import plotly.graph_objs as go\n",
    "import re\n",
    "from fractions import Fraction\n",
    "\n",
    "# Setting the colors for the different plots, \n",
    "# such that all plots get the same colors\n",
    "homeGreen = 'rgb(0, 204, 0)'         # bright green \n",
    "hedeBlue  = 'rgb(0, 0, 255)'         # blue\n",
    "pieGreen  = homeGreen                # bright green\n",
    "pieOrange = 'rgb(246, 214, 56)'      # orange\n",
    "pieRed    = 'rgb(204, 0, 0)'         # red\n",
    "ticksAxes = 'rgb(107, 107, 107)'     # axes color - grey\n",
    "bgBorder  = 'rgba(255, 255, 255, 0)' # white"
   ]
  },
  {
   "cell_type": "markdown",
   "metadata": {},
   "source": [
    "### Extracting basic information for the data"
   ]
  },
  {
   "cell_type": "markdown",
   "metadata": {},
   "source": [
    "**Get currect week of year ($weekOfYear - 1$)**\n",
    "* Create folder for weekly data\n",
    "* setting a <span style=\"color:red\">**week variable**, ``weekNumber``, used throughout as data source identifier</span> \n",
    "* Setting names for different data source paths"
   ]
  },
  {
   "cell_type": "code",
   "execution_count": 124,
   "metadata": {
    "collapsed": false
   },
   "outputs": [
    {
     "name": "stdout",
     "output_type": "stream",
     "text": [
      "Week number: 13\n"
     ]
    }
   ],
   "source": [
    "# Get week of year\n",
    "# Minus one to indicate work on last week's data\n",
    "weekNumber = date.today().isocalendar()[1]-1\n",
    "print 'Week number:', weekNumber\n",
    "\n",
    "# Adding new folder Week_'x' to directory \n",
    "dir_name = \"Week_\"+str(weekNumber)\n",
    "if not path.exists(dir_name):\n",
    "    makedirs(dir_name)\n",
    "    print \"A new folder named '%s' have been created for data from week %d.\" % (dir_name, weekNumber)\n",
    "else:\n",
    "    print \"An existing folder named '%s' was used\" % dir_name\n",
    "    \n",
    "# Folder structure for different data\n",
    "# Using Anne's folder structure from Dropbox\n",
    "datapath    = \"C:/Users/frksteenhoff/Dropbox/Data eksempel til Henriette/Data week \" + str(weekNumber) + \"/Netatmo\"\n",
    "sourcepath  = \"C:/Users/frksteenhoff/Dropbox/Data eksempel til Henriette/Data week \" + str(weekNumber)\n",
    "\n",
    "# Change back known folder structure\n",
    "savepath = \"C:/Users/frksteenhoff/Dropbox/Data eksempel til Henriette/Program - extractWork/\"\n",
    "viz_path = \"C:/Users/frksteenhoff/Dropbox/Data eksempel til Henriette/Data week \" + str(weekNumber) + \"/Netatmo/Visualization\"\n",
    "chdir(sourcepath)"
   ]
  },
  {
   "cell_type": "markdown",
   "metadata": {},
   "source": [
    "### Functions \n",
    "#### Methods for saving files correctly\n",
    "This function is used when saving files to a certain directory. It is used when the data has been processed such that only the needed data is left. This is being done when merging **Acc/Compas** and **PIR/Reed**. "
   ]
  },
  {
   "cell_type": "code",
   "execution_count": 63,
   "metadata": {
    "collapsed": false
   },
   "outputs": [],
   "source": [
    "def saveDataToFile(alias, string, df, dfcol, pattern): # string: concatenation of: censortype, room and file format (xlsx)\n",
    "    # Taking care of aaaaall the different spellings of the rooms... adding to different files\n",
    "    temp = df.loc[df[dfcol].str.contains(pattern)]\n",
    "    \n",
    "    # Only save file if it actually contains something\n",
    "    if not temp.empty:\n",
    "        full_path_filename = (alias+string).strip(' ') \n",
    "        writer = pd.ExcelWriter(full_path_filename, engine='xlsxwriter')\n",
    "        print \"Saving values for '%s', in all: %d\" % (alias, len(temp))\n",
    "        temp.to_excel(writer)\n",
    "        writer.save()        "
   ]
  },
  {
   "cell_type": "markdown",
   "metadata": {},
   "source": [
    "### Patterns\n",
    "#### Taking care of different spellings and (lacking) naming conventions for the different rooms\n",
    "\n",
    "*Can be optimised but is not a priority right now*"
   ]
  },
  {
   "cell_type": "code",
   "execution_count": 5,
   "metadata": {
    "collapsed": false
   },
   "outputs": [],
   "source": [
    "# LISTS OF DIFFERENT NAMES GIVEN FOR EACH ROOM.....\n",
    "# Entrance\n",
    "entre_pattern = '|'.join(['Entre PIR', 'EntrÃ© PIR', 'upstairs', \n",
    "                          'entrance/kitchen', 'hallway', 'PIR entrance',\n",
    "                          'entrance','PIR gang', 'PIR stairs',\n",
    "                          'Reed main enterance', 'reed main enterance',\n",
    "                          'Reed main entrance', 'PIR Entre', 'Reed Main door',\n",
    "                          'PIR trapper', 'Pir stairs', 'main entrance reed north',\n",
    "                          'pir entrance', 'pir stairs', 'main enterance', 'Reed entrance', 'Main door Reed',\n",
    "                          'entrance', 'entre', 'main entrance reed', 'Reed'])\n",
    "# Living room\n",
    "livingroom_pattern = '|'.join(['Stue PIR', 'PIR stue', 'PIR livingroom','PIR upstairs office/livingroom',\n",
    "                               'PIR 1st floor living room', 'PIR uostairs living room', '1st', 'living',\n",
    "                               'living room', 'livingroom', 'stue', 'Stue', 'K\\xf8kken', 'Living', 'Kitchen',\n",
    "                               'kitchen south', 'kitchen', 'kitchen South', 'livingroom/bedroom/kitchen', 'kken'])\n",
    "\n",
    "bedroom_pattern = '|'.join(['Bedroom', 'bedroom', 'bed room', 'sove', 'Sove', 'uptairs', 'Uptairs'])"
   ]
  },
  {
   "cell_type": "markdown",
   "metadata": {},
   "source": [
    "----\n",
    "\n",
    "## <span style=\"color:darkred\">Wireless work</span>"
   ]
  },
  {
   "cell_type": "markdown",
   "metadata": {
    "collapsed": true
   },
   "source": [
    "### Merge ``PIR`` and ``Reed``"
   ]
  },
  {
   "cell_type": "code",
   "execution_count": 125,
   "metadata": {
    "collapsed": false
   },
   "outputs": [],
   "source": [
    "# TABLE WITH ALL HOMES (for current week)\n",
    "# Initialize dataframe\n",
    "pir_reed_merge = pd.DataFrame()\n",
    "fileNames = ['PIR', 'Reed']\n",
    "\n",
    "# Read in files for PIR and Reed and merge to one \n",
    "for name in fileNames:\n",
    "    data = pd.read_excel(name+\".xlsx\", name)\n",
    "    pir_reed_merge = pir_reed_merge.append(data)"
   ]
  },
  {
   "cell_type": "code",
   "execution_count": 7,
   "metadata": {
    "collapsed": false
   },
   "outputs": [],
   "source": [
    "#pir_reed_merge"
   ]
  },
  {
   "cell_type": "markdown",
   "metadata": {},
   "source": [
    "#### Remove all rows where code values $\\in \\{tempUpdate, TimeOut, ReEstablishedLink, LostLink\\}$"
   ]
  },
  {
   "cell_type": "code",
   "execution_count": 126,
   "metadata": {
    "collapsed": false
   },
   "outputs": [
    {
     "name": "stdout",
     "output_type": "stream",
     "text": [
      "Number of observations (temperature included): 26220\n",
      "Number of observations (temperature excluded): 14318\n"
     ]
    }
   ],
   "source": [
    "# Remove unwanted temperature measuresold_obs = len(pir_reed_merge)\n",
    "old_obs = len(pir_reed_merge)\n",
    "pir_reed_merge = pir_reed_merge.loc[pir_reed_merge['code'].isin(['movement','open','closed'])]\n",
    "\n",
    "# Remove unnecessary features (duration, lastContact, threshold, batVoltage, ID, time)\n",
    "pir_reed_merge.drop(['duration','lastContact','threshold','battVoltage','ID','time_', 'rh', 'temp'], axis=1)\n",
    "\n",
    "new_obs = len(pir_reed_merge)\n",
    "print \"Number of observations (temperature included):\", old_obs\n",
    "print \"Number of observations (temperature excluded):\", new_obs"
   ]
  },
  {
   "cell_type": "markdown",
   "metadata": {},
   "source": [
    "### Saving Wireless data to files\n",
    "\n",
    "The different naming conventions are handled by the different patterns in the preprocessing section.\n",
    "\n",
    "Be advised! Due to lacking consistency in naming convention **some devices may not be included here**. Please make sure that running the code in section *Merging files containing same type of information* include the same room names as the ones  commented out below. -- otherwise contact Henriette."
   ]
  },
  {
   "cell_type": "markdown",
   "metadata": {},
   "source": [
    "#### Create and save individual files for each home\n",
    "Containing merged PIR/Reed samples sorted by timestamp"
   ]
  },
  {
   "cell_type": "code",
   "execution_count": 127,
   "metadata": {
    "collapsed": false
   },
   "outputs": [
    {
     "name": "stdout",
     "output_type": "stream",
     "text": [
      "Saving values for 'Ho46', in all: 25\n",
      "Saving values for 'He145', in all: 105\n",
      "Saving values for 'Aalbrovej21He59', in all: 100\n",
      "Saving values for 'He183', in all: 261\n",
      "Saving values for 'He183', in all: 136\n",
      "Saving values for 'He99', in all: 131\n",
      "Saving values for 'He213', in all: 146\n",
      "Saving values for 'He211', in all: 99\n",
      "Saving values for 'Ho48', in all: 56\n",
      "Saving values for 'He107', in all: 84\n",
      "Saving values for 'He107', in all: 23\n",
      "Saving values for 'ho24', in all: 115\n",
      "Saving values for 'ho24', in all: 47\n",
      "Saving values for 'He104', in all: 183\n",
      "Saving values for 'He104', in all: 61\n",
      "Saving values for 'He87', in all: 226\n",
      "Saving values for 'he147', in all: 32\n",
      "Saving values for 'Ho92', in all: 84\n",
      "Saving values for 'he143', in all: 389\n",
      "Saving values for 'Klakkebjerg-Tasnim', in all: 10\n",
      "Saving values for 'He27', in all: 72\n",
      "Saving values for 'He27', in all: 14\n",
      "Saving values for 'he213', in all: 64\n",
      "Saving values for 'ho48', in all: 76\n",
      "Saving values for 'he103', in all: 114\n",
      "Saving values for 'he103', in all: 100\n",
      "Saving values for 'He197', in all: 58\n",
      "Saving values for 'He197', in all: 125\n",
      "Saving values for 'He61', in all: 144\n",
      "Saving values for 'He61', in all: 78\n",
      "Saving values for 'he109', in all: 182\n",
      "Saving values for 'he109', in all: 52\n",
      "Saving values for 'He175', in all: 524\n",
      "Saving values for 'He41', in all: 306\n",
      "Saving values for 'He41', in all: 168\n",
      "Saving values for 'He69', in all: 171\n",
      "Saving values for 'He69', in all: 91\n",
      "Saving values for 'He57', in all: 172\n",
      "Saving values for 'Ho70', in all: 50\n",
      "Saving values for 'He221', in all: 4\n",
      "Saving values for 'ho98', in all: 199\n",
      "Saving values for 'ho98', in all: 77\n",
      "Saving values for 'he139', in all: 136\n",
      "Saving values for 'Ho102', in all: 303\n",
      "Saving values for 'Ho102', in all: 153\n",
      "Saving values for 'Aalbrovej21', in all: 239\n",
      "Saving values for 'Aalbrovej21', in all: 149\n",
      "Saving values for 'he61', in all: 92\n",
      "Saving values for 'He131', in all: 435\n",
      "Saving values for 'He131', in all: 56\n",
      "Saving values for 'He115', in all: 1076\n",
      "Saving values for 'He171', in all: 115\n",
      "Saving values for 'He171', in all: 61\n",
      "Saving values for 'He111', in all: 78\n",
      "Saving values for 'He111', in all: 6\n",
      "Saving values for 'He113', in all: 847\n",
      "Saving values for 'He113', in all: 157\n",
      "Saving values for 'ho72', in all: 210\n",
      "Saving values for 'ho72', in all: 210\n",
      "Saving values for 'he87', in all: 151\n",
      "Saving values for 'He59', in all: 646\n",
      "Saving values for 'He59', in all: 267\n",
      "Saving values for 'He13', in all: 219\n",
      "Saving values for 'He13', in all: 99\n",
      "Saving values for 'he201', in all: 163\n",
      "Saving values for 'he9', in all: 557\n",
      "Saving values for 'He93', in all: 305\n",
      "Saving values for 'Ho20', in all: 158\n",
      "Saving values for 'He25', in all: 290\n",
      "Saving values for 'He25', in all: 49\n",
      "Saving values for 'he117', in all: 113\n",
      "Saving values for 'He35', in all: 373\n",
      "Saving values for 'he57', in all: 84\n",
      "Saving values for 'he57', in all: 52\n",
      "\n",
      "--- Execution time: 9.27300000191 seconds ---\n"
     ]
    }
   ],
   "source": [
    "# Clock time spent on execution\n",
    "start_time = time.time()\n",
    "\n",
    "# If directory path does not exist - create it\n",
    "if not path.exists(datapath):\n",
    "    makedirs(datapath)\n",
    "chdir(datapath)\n",
    "    \n",
    "# Merge correct files based on content type\n",
    "for alias in list(set(pir_reed_merge['bolig'])):\n",
    "    # Get data for specific home\n",
    "    current_home = (pir_reed_merge.loc[pir_reed_merge['bolig'].isin([alias])]).sort_values(by=['submitDate','submitTime'])\n",
    "    # Entrance\n",
    "    saveDataToFile(alias, \"-PIRReed_entrance.xlsx\", current_home, 'tagName', entre_pattern)\n",
    "    # Living room\n",
    "    saveDataToFile(alias, \"-PIRReed_livingroom.xlsx\", current_home, 'tagName', livingroom_pattern)\n",
    "\n",
    "#    saveDataToFile(directory, alias, \"-PIRReed_bathroom.xlsx\", current_home, 'tagName', missing_pattern)\n",
    "print(\"\\n--- Execution time: %s seconds ---\" % (time.time() - start_time))"
   ]
  },
  {
   "cell_type": "markdown",
   "metadata": {},
   "source": [
    "### Find files PIR/Reed \n",
    "Use for calculating time home/CO2 level"
   ]
  },
  {
   "cell_type": "code",
   "execution_count": 143,
   "metadata": {
    "collapsed": false
   },
   "outputs": [
    {
     "name": "stdout",
     "output_type": "stream",
     "text": [
      "Files:  ['Aalbrovej21-PIRReed_entrance.xlsx', 'Aalbrovej21-PIRReed_livingroom.xlsx', 'Aalbrovej21He59-PIRReed_entrance.xlsx', 'he103-PIRReed_entrance.xlsx', 'he103-PIRReed_livingroom.xlsx', 'He104-PIRReed_entrance.xlsx', 'He104-PIRReed_livingroom.xlsx', 'He107-PIRReed_entrance.xlsx', 'He107-PIRReed_livingroom.xlsx', 'he109-PIRReed_entrance.xlsx', 'he109-PIRReed_livingroom.xlsx', 'He111-PIRReed_entrance.xlsx', 'He111-PIRReed_livingroom.xlsx', 'He113-PIRReed_entrance.xlsx', 'He113-PIRReed_livingroom.xlsx', 'He115-PIRReed_entrance.xlsx', 'he117-PIRReed_entrance.xlsx', 'He13-PIRReed_entrance.xlsx', 'He13-PIRReed_livingroom.xlsx', 'He131-PIRReed_entrance.xlsx', 'He131-PIRReed_livingroom.xlsx', 'he139-PIRReed_entrance.xlsx', 'he143-PIRReed_entrance.xlsx', 'He145-PIRReed_entrance.xlsx', 'he147-PIRReed_livingroom.xlsx', 'He171-PIRReed_entrance.xlsx', 'He171-PIRReed_livingroom.xlsx', 'He175-PIRReed_entrance.xlsx', 'He183-PIRReed_entrance.xlsx', 'He183-PIRReed_livingroom.xlsx', 'He197-PIRReed_entrance.xlsx', 'He197-PIRReed_livingroom.xlsx', 'he201-PIRReed_entrance.xlsx', 'He211-PIRReed_entrance.xlsx', 'He213-PIRReed_entrance.xlsx', 'he213-PIRReed_livingroom.xlsx', 'He221-PIRReed_livingroom.xlsx', 'He25-PIRReed_entrance.xlsx', 'He25-PIRReed_livingroom.xlsx', 'He27-PIRReed_entrance.xlsx', 'He27-PIRReed_livingroom.xlsx', 'He35-PIRReed_entrance.xlsx', 'He41-PIRReed_entrance.xlsx', 'He41-PIRReed_livingroom.xlsx', 'He57-PIRReed_entrance.xlsx', 'he57-PIRReed_livingroom.xlsx', 'He59-PIRReed_entrance.xlsx', 'He59-PIRReed_livingroom.xlsx', 'He61-PIRReed_entrance.xlsx', 'He61-PIRReed_livingroom.xlsx', 'He69-PIRReed_entrance.xlsx', 'He69-PIRReed_livingroom.xlsx', 'He87-PIRReed_entrance.xlsx', 'he9-PIRReed_entrance.xlsx', 'He93-PIRReed_entrance.xlsx', 'He99-PIRReed_entrance.xlsx', 'Ho102-PIRReed_entrance.xlsx', 'Ho102-PIRReed_livingroom.xlsx', 'Ho20-PIRReed_entrance.xlsx', 'ho24-PIRReed_entrance.xlsx', 'ho24-PIRReed_livingroom.xlsx', 'Ho46-PIRReed_entrance.xlsx', 'Ho48-PIRReed_entrance.xlsx', 'ho48-PIRReed_livingroom.xlsx', 'Ho70-PIRReed_entrance.xlsx', 'ho72-PIRReed_entrance.xlsx', 'ho72-PIRReed_livingroom.xlsx', 'Ho92-PIRReed_entrance.xlsx', 'ho98-PIRReed_entrance.xlsx', 'ho98-PIRReed_livingroom.xlsx', 'Klakkebjerg-Tasnim-PIRReed_entrance.xlsx']\n",
      "\n",
      "Files in all:  71\n"
     ]
    }
   ],
   "source": [
    "pirReed_files = []\n",
    "# Change directory to \n",
    "chdir(datapath)\n",
    "\n",
    "pirReed_files += [file for file in listdir('.') if not file.startswith('netatmo')]\n",
    "\n",
    "print \"Files: \", pirReed_files\n",
    "print \"\\nFiles in all: \", len(pirReed_files)\n"
   ]
  },
  {
   "cell_type": "code",
   "execution_count": 142,
   "metadata": {
    "collapsed": false
   },
   "outputs": [
    {
     "name": "stdout",
     "output_type": "stream",
     "text": [
      "Reading file He139 f 1st floor living room\n",
      "Reading file He211 f Bedroom downstairs\n",
      "Reading file He187 Bedroom\n",
      "Reading file He117 f Bedroom\n",
      "Reading file He87 f Bedroom\n",
      "Reading file Ho98 f bedroom\n",
      "Reading file He221 f bedroom\n",
      "Reading file Ho20 f Bedroom\n",
      "Reading file He113 f Bedroom\n",
      "Reading file He197 f bedroom\n",
      "Reading file He13 f Bedroom\n",
      "Reading file He99 f Bedroom\n",
      "Reading file Ho24 f Bedroom\n",
      "Reading file He9 f Bedroom\n",
      "Reading file He139 f Bedroom\n",
      "Reading file He115 f Bedroom\n",
      "Reading file Ho66 f Bedroom\n",
      "Reading file He143 f Bedroom\n",
      "Reading file He41 f Bedroom\n",
      "Reading file He211 f Kitchen/livingroom\n",
      "Reading file He99 f Living room\n",
      "Reading file He9 f Living room\n",
      "Reading file He115 f Living room\n",
      "Reading file He183 f Living room\n",
      "Reading file He41 f Living room\n",
      "Reading file HE141 f living room/bedriom/kitchen\n",
      "Reading file Ho24 f Living room/kitchen\n",
      "Reading file Ho66 f Living room/kitchen\n",
      "Reading file He143 f Living room/kitchen\n",
      "Reading file He187 Living room/kitchen\n",
      "Reading file He13 f Livingroom/kitchen\n",
      "Reading file He61 f Soveværelse\n",
      "Reading file He171 f Soveværelse\n",
      "Reading file He183 f Soveværelse\n",
      "Reading file He87 f Stue\n",
      "Reading file Ho98 f Stue\n",
      "Reading file He221 f Stue\n",
      "Reading file Ho20 f Stue\n",
      "Reading file He113 f Stue\n",
      "Reading file He107 Stue\n",
      "Reading file He197 f Stue\n",
      "Reading file He61 f Stue\n",
      "Reading file He171 f Stue\n",
      "Reading file He117 f Stue\n",
      "Reading file HE141 f Uptairs \n"
     ]
    }
   ],
   "source": [
    "for room_file in netatmo_files:\n",
    "    # If directory path does not exist - create it\n",
    "    if not path.exists(datapath):\n",
    "        makedirs(datapath)\n",
    "    chdir(datapath)\n",
    "    # Read in file\n",
    "    netatmo_data = pd.read_excel(room_file) \n",
    "    # Get name for output file\n",
    "    location_name = netatmo_data.iloc[0,0]\n",
    "    # Get room for output file\n",
    "    room_name = netatmo_data.iloc[0,3]\n",
    "    print \"Reading file\", location_name, room_name\n",
    "    \n",
    "    # Change range of data and give new column names\n",
    "    netatmo_data.columns = netatmo_data.iloc[1,:]\n",
    "    netatmo_data = netatmo_data.drop(netatmo_data.index[[0,1]])\n",
    "    \n",
    "    # Save netatmo data for use with co2\n",
    "    name = \"netatmo_\" + location_name + room_name.encode(\"ascii\", \"ignore\").replace(\"/\", \"\") + '.xlsx'\n",
    "    writer = pd.ExcelWriter(name, engine='xlsxwriter')\n",
    "    netatmo_data.to_excel(writer)\n",
    "    writer.save()        "
   ]
  },
  {
   "cell_type": "code",
   "execution_count": 122,
   "metadata": {
    "collapsed": false
   },
   "outputs": [],
   "source": [
    "#current_home"
   ]
  },
  {
   "cell_type": "code",
   "execution_count": 120,
   "metadata": {
    "collapsed": false
   },
   "outputs": [],
   "source": [
    "#current_home.submitTime = pd.to_datetime(current_home.submitTime)\n",
    "time_home = datetime.timedelta()\n",
    "closedLast = False\n",
    "current_home['yes'] = zeros(len(current_home))\n",
    "\n",
    "# find time at home per day\n",
    "for row in range(0,len(current_home)):\n",
    "    if current_home.iloc[row,3] == 'closed' and not closedLast: # we only look at movement between door closes and door open again\n",
    "        close_row = row\n",
    "        closedLast = True\n",
    "        current_home[row,11] = 1.0\n",
    "    elif current_home.iloc[row,3] == 'open' and closedLast:\n",
    "        open_row = row\n",
    "        time_elapsed = pd.to_datetime(current_home.iloc[open_row,9], format='%H:%M:%S') - pd.to_datetime(current_home.iloc[close_row,9], format='%H:%M:%S')\n",
    "        time_home += time_elapsed\n",
    "        closedLast = False\n",
    "        current_home[row,11] = 1.0\n",
    "    elif row == len(current_home)-1:\n",
    "        open_row = row\n",
    "        time_elapsed = pd.to_datetime(current_home.iloc[open_row,9], format='%H:%M:%S') - pd.to_datetime(current_home.iloc[close_row,9], format='%H:%M:%S')\n",
    "        time_home += time_elapsed\n",
    "        current_home[row,11] = 1.0"
   ]
  },
  {
   "cell_type": "code",
   "execution_count": 70,
   "metadata": {
    "collapsed": false
   },
   "outputs": [
    {
     "data": {
      "text/plain": [
       "Timedelta('-1 days +22:19:24')"
      ]
     },
     "execution_count": 70,
     "metadata": {},
     "output_type": "execute_result"
    }
   ],
   "source": [
    "#home_data\n",
    "timeHomeOfDay = time_home\n",
    "timeHomeOfDay"
   ]
  },
  {
   "cell_type": "markdown",
   "metadata": {},
   "source": [
    "### Get days in current week\n",
    "#### Extract number of movements (open/close of window) per week day"
   ]
  },
  {
   "cell_type": "code",
   "execution_count": 67,
   "metadata": {
    "collapsed": false
   },
   "outputs": [
    {
     "data": {
      "text/plain": [
       "[0, 0, 0, 0, 0, 0, 0]"
      ]
     },
     "execution_count": 67,
     "metadata": {},
     "output_type": "execute_result"
    }
   ],
   "source": [
    "dates = []\n",
    "listMovements = []\n",
    "\n",
    "# ----- Update for each week! ------- #\n",
    "d1 = date(2017, 2, 20)  # start date\n",
    "d2 = date(2017, 2, 26)  # end date\n",
    "\n",
    "delta = d2 - d1         # timedelta\n",
    "\n",
    "for i in range(delta.days + 1):\n",
    "    dates.append(d1 + timedelta(days=i))\n",
    "    \n",
    "for date in dates:\n",
    "    day_movement = current_home.loc[current_home['submitDate'].isin([date])]\n",
    "    noOfMovements = len(day_movement.loc[day_movement['code'].isin(['movement'])])\n",
    "    listMovements.append(noOfMovements)\n",
    "\n",
    "listMovements"
   ]
  },
  {
   "cell_type": "markdown",
   "metadata": {},
   "source": [
    "### Getting number of times door has been opened per room ``while`` movement indoor\n",
    "Homes can be extracted from folder ``PIRReed``, open/close per days is not interesting it is the overall weekly picture that is taken into account."
   ]
  },
  {
   "cell_type": "code",
   "execution_count": null,
   "metadata": {
    "collapsed": true
   },
   "outputs": [],
   "source": []
  },
  {
   "cell_type": "markdown",
   "metadata": {},
   "source": [
    "#### Find all files with certain extension (something with \"door\" in data directory for processed data)"
   ]
  },
  {
   "cell_type": "markdown",
   "metadata": {},
   "source": [
    "### Save Acc/Compas information to file"
   ]
  },
  {
   "cell_type": "code",
   "execution_count": 128,
   "metadata": {
    "collapsed": false
   },
   "outputs": [
    {
     "name": "stdout",
     "output_type": "stream",
     "text": [
      "Number of observations (temperature included): 26220\n",
      "Number of observations (temperature excluded): 6147 \n",
      "\n",
      "Saving values for 'Ho46', in all: 3\n",
      "Saving values for 'Ho46', in all: 11\n",
      "Saving values for 'He145', in all: 3\n",
      "Saving values for 'He145', in all: 31\n",
      "Saving values for 'He41', in all: 42\n",
      "Saving values for 'He41', in all: 167\n",
      "Saving values for 'He183', in all: 3\n",
      "Saving values for 'He183', in all: 18\n",
      "Saving values for 'he187', in all: 1\n",
      "Saving values for 'he187', in all: 26\n",
      "Saving values for 'Ho66', in all: 10\n",
      "Saving values for 'Ho66', in all: 6\n",
      "Saving values for 'He213', in all: 6\n",
      "Saving values for 'He213', in all: 57\n",
      "Saving values for 'He211', in all: 5\n",
      "Saving values for 'Ho48', in all: 96\n",
      "Saving values for 'He103', in all: 52\n",
      "Saving values for 'He107', in all: 7\n",
      "Saving values for 'He107', in all: 10\n",
      "Saving values for 'ho24', in all: 2\n",
      "Saving values for 'ho24', in all: 122\n",
      "Saving values for 'He104', in all: 1\n",
      "Saving values for 'he147', in all: 96\n",
      "Saving values for 'Ho92', in all: 1\n",
      "Saving values for 'he143', in all: 47\n",
      "Saving values for 'he143', in all: 304\n",
      "Saving values for 'he141', in all: 2\n",
      "Saving values for 'he141', in all: 13\n",
      "Saving values for 'he213', in all: 10\n",
      "Saving values for 'he213', in all: 226\n",
      "Saving values for 'ho48', in all: 52\n",
      "Saving values for 'he103', in all: 88\n",
      "Saving values for 'he103', in all: 89\n",
      "Saving values for 'He197', in all: 1\n",
      "Saving values for 'He197', in all: 8\n",
      "Saving values for 'He61', in all: 26\n",
      "Saving values for 'He61', in all: 41\n",
      "Saving values for 'he109', in all: 48\n",
      "Saving values for 'he109', in all: 207\n",
      "Saving values for 'He113', in all: 4\n",
      "Saving values for 'He113', in all: 14\n",
      "Saving values for 'He27', in all: 13\n",
      "Saving values for 'He69', in all: 12\n",
      "Saving values for 'He69', in all: 11\n",
      "Saving values for 'Ho70', in all: 16\n",
      "Saving values for 'ho98', in all: 10\n",
      "Saving values for 'Ho102', in all: 24\n",
      "Saving values for 'Ho102', in all: 63\n",
      "Saving values for 'he61', in all: 47\n",
      "Saving values for 'he61', in all: 81\n",
      "Saving values for 'He115', in all: 88\n",
      "Saving values for 'He115', in all: 6\n",
      "Saving values for 'He171', in all: 24\n",
      "Saving values for 'He171', in all: 33\n",
      "Saving values for 'He93', in all: 17\n",
      "Saving values for 'He93', in all: 22\n",
      "Saving values for 'He175', in all: 3\n",
      "Saving values for 'He175', in all: 254\n",
      "Saving values for 'ho72', in all: 46\n",
      "Saving values for 'ho72', in all: 74\n",
      "Saving values for 'he117', in all: 5\n",
      "Saving values for 'He13', in all: 26\n",
      "Saving values for 'He13', in all: 27\n",
      "Saving values for 'he201', in all: 31\n",
      "Saving values for 'he9', in all: 163\n",
      "Saving values for 'he9', in all: 144\n",
      "Saving values for 'Ho20', in all: 14\n",
      "Saving values for 'He99', in all: 175\n",
      "Saving values for 'He25', in all: 18\n",
      "Saving values for 'He59', in all: 24\n",
      "Saving values for 'He59', in all: 45\n",
      "Saving values for 'He35', in all: 10\n",
      "Saving values for 'he139', in all: 24\n",
      "Saving values for 'he139', in all: 137\n",
      "\n",
      "--- Execution time: 6.89600014687 seconds ---\n"
     ]
    }
   ],
   "source": [
    "# Clock time spent on execution\n",
    "start_time = time.time()\n",
    "\n",
    "# Initialize dataframe\n",
    "acc_compas_merge = pd.DataFrame()\n",
    "fileNames        = ['Compas', 'Acc']\n",
    "\n",
    "# If directory path does not exist - create it\n",
    "if not path.exists(datapath):\n",
    "    makedirs(datapath)\n",
    "chdir(datapath)\n",
    "\n",
    "# Read in files for Compas / Acc - merge to one \n",
    "for name in fileNames:\n",
    "    # Only read in needed columns\n",
    "    data = pd.read_excel(name+\".xlsx\", name)# usecols=['tagName','tagID','code','bolig','temp','rh','submitDate','submitTime'])\n",
    "    acc_compas_merge = acc_compas_merge.append(data)\n",
    "\n",
    "# Count initial number of observations\n",
    "#old_obs = len(acc_compas_merge)\n",
    "#print old_obs\n",
    "\n",
    "# Keep only code value 'moved'\n",
    "acc_compas = acc_compas_merge.loc[acc_compas_merge['code'].isin(['moved'])]\n",
    "# Removed unused columns (for a smaller file size to save)\n",
    "acc_compas = acc_compas.drop(['temp','lastContact','threshold','battVoltage','ID','rh'], axis=1)\n",
    "\n",
    "print \"Number of observations (temperature included):\", old_obs\n",
    "print \"Number of observations (temperature excluded):\", len(acc_compas), \"\\n\"\n",
    "\n",
    "# Sort values from each room into separate files\n",
    "chdir(datapath)\n",
    "for alias in list(set(acc_compas['bolig'])):\n",
    "    # Get data for specific home\n",
    "    current_home = (acc_compas.loc[acc_compas['bolig'].isin([alias])]).sort_values(by=['submitDate','submitTime'])\n",
    "    # save bedroom info to file     #wayprettiercode (dir_, alias, string, df, dfcol, pattern)\n",
    "    saveDataToFile(alias, \"-AccCompas_bedroom.xlsx\", current_home, 'tagName', bedroom_pattern)\n",
    "    # Save kitchen info to file\n",
    "    saveDataToFile(alias, \"-AccCompas_livKitchen.xlsx\", current_home, 'tagName', livingroom_pattern)\n",
    "\n",
    "print(\"\\n--- Execution time: %s seconds ---\" % (time.time() - start_time))"
   ]
  },
  {
   "cell_type": "markdown",
   "metadata": {},
   "source": [
    "### CO2 pie chart"
   ]
  },
  {
   "cell_type": "markdown",
   "metadata": {},
   "source": [
    "Missing: automatize the reading of files"
   ]
  },
  {
   "cell_type": "code",
   "execution_count": 197,
   "metadata": {
    "collapsed": false
   },
   "outputs": [],
   "source": [
    "weekNumber = 14"
   ]
  },
  {
   "cell_type": "code",
   "execution_count": 198,
   "metadata": {
    "collapsed": true
   },
   "outputs": [],
   "source": [
    "co2_files = []\n",
    "chdir(datapath)\n",
    "\n",
    "co2_files += [file for file in listdir('.') if file.startswith('netatmo')]\n"
   ]
  },
  {
   "cell_type": "code",
   "execution_count": 199,
   "metadata": {
    "collapsed": false
   },
   "outputs": [
    {
     "data": {
      "text/plain": [
       "['netatmo_He107 fbedroom.xlsx',\n",
       " 'netatmo_He107 fStue.xlsx',\n",
       " 'netatmo_He113 fBedroom.xlsx',\n",
       " 'netatmo_He113 fStue.xlsx',\n",
       " 'netatmo_He115 fBedroom.xlsx',\n",
       " 'netatmo_He115 fLiving room.xlsx',\n",
       " 'netatmo_He117 fBedroom.xlsx',\n",
       " 'netatmo_He117 fStue.xlsx',\n",
       " 'netatmo_He13 fBedroom.xlsx',\n",
       " 'netatmo_He13 fLivingroomkitchen.xlsx',\n",
       " 'netatmo_He139 f1st floor living room.xlsx',\n",
       " 'netatmo_He139 fBedroom.xlsx',\n",
       " 'netatmo_HE141 fliving roombedriomkitchen.xlsx',\n",
       " 'netatmo_HE141 fUptairs .xlsx',\n",
       " 'netatmo_He143 fBedroom.xlsx',\n",
       " 'netatmo_He143 fLiving roomkitchen.xlsx',\n",
       " 'netatmo_He171 fSovevrelse.xlsx',\n",
       " 'netatmo_He171 fStue.xlsx',\n",
       " 'netatmo_He183 fLiving room.xlsx',\n",
       " 'netatmo_He183 fSovevrelse.xlsx',\n",
       " 'netatmo_He187 fBedroom.xlsx',\n",
       " 'netatmo_He187 fLiving roomkitchen.xlsx',\n",
       " 'netatmo_He197 fbedroom.xlsx',\n",
       " 'netatmo_He197 fStue.xlsx',\n",
       " 'netatmo_He211 fBedroom downstairs.xlsx',\n",
       " 'netatmo_He211 fKitchenlivingroom.xlsx',\n",
       " 'netatmo_He221 fbedroom.xlsx',\n",
       " 'netatmo_He221 fStue.xlsx',\n",
       " 'netatmo_He41 fBedroom.xlsx',\n",
       " 'netatmo_He41 fLiving room.xlsx',\n",
       " 'netatmo_He61 fSovevrelse.xlsx',\n",
       " 'netatmo_He61 fStue.xlsx',\n",
       " 'netatmo_He87 fBedroom.xlsx',\n",
       " 'netatmo_He87 fStue.xlsx',\n",
       " 'netatmo_He9 fBedroom.xlsx',\n",
       " 'netatmo_He9 fLiving room.xlsx',\n",
       " 'netatmo_He99 fBedroom.xlsx',\n",
       " 'netatmo_He99 fLiving room.xlsx',\n",
       " 'netatmo_Ho20 fBedroom.xlsx',\n",
       " 'netatmo_Ho20 fStue.xlsx',\n",
       " 'netatmo_Ho24 fBedroom.xlsx',\n",
       " 'netatmo_Ho24 fLiving roomkitchen.xlsx',\n",
       " 'netatmo_Ho66 fBedroom.xlsx',\n",
       " 'netatmo_Ho66 fLiving roomkitchen.xlsx',\n",
       " 'netatmo_Ho98 fbedroom.xlsx',\n",
       " 'netatmo_Ho98 fStue.xlsx']"
      ]
     },
     "execution_count": 199,
     "metadata": {},
     "output_type": "execute_result"
    }
   ],
   "source": [
    "co2_files"
   ]
  },
  {
   "cell_type": "code",
   "execution_count": 200,
   "metadata": {
    "collapsed": false
   },
   "outputs": [
    {
     "name": "stdout",
     "output_type": "stream",
     "text": [
      "1476 175 361 2012\n",
      "1766 225 21 2012\n",
      "1403 282 319 2004\n",
      "1872 92 41 2006\n",
      "1412 507 82 2001\n",
      "1357 565 77 1999\n",
      "1417 406 179 2002\n",
      "1637 364 0 2002\n",
      "1636 356 0 1992\n",
      "1808 156 28 1992\n",
      "1174 627 214 2017\n",
      "1217 150 30 1397\n",
      "1481 191 340 2013\n",
      "1283 316 414 2013\n",
      "1362 131 515 2008\n",
      "1801 214 0 2016\n",
      "1690 309 0 1999\n",
      "1999 0 0 1999\n",
      "1993 5 0 1998\n",
      "1998 0 0 1998\n",
      "1244 443 293 1980\n",
      "1506 488 6 2000\n",
      "877 772 309 1958\n",
      "1605 402 0 2007\n",
      "393 228 208 829\n",
      "692 141 0 834\n",
      "2001 0 0 2001\n",
      "2001 0 0 2001\n",
      "985 199 829 2013\n",
      "1532 299 184 2015\n",
      "1062 835 100 1997\n",
      "1334 437 226 1997\n",
      "1721 284 1 2006\n",
      "1507 408 92 2007\n",
      "1646 271 60 1978\n",
      "1408 569 2 1981\n",
      "1330 376 250 1956\n",
      "1354 346 309 2009\n",
      "1671 185 18 1875\n",
      "2000 2 1 2005\n",
      "484 26 0 510\n",
      "510 0 0 510\n",
      "1718 251 43 2012\n",
      "1763 154 96 2015\n",
      "1254 517 241 2012\n",
      "1812 127 73 2012\n",
      "All plots generated\n"
     ]
    }
   ],
   "source": [
    "val = []\n",
    "getcwd()\n",
    "\n",
    "for filee in co2_files:\n",
    "    data   = pd.read_excel(filee)\n",
    "    perc_u = data.loc[data['CO2'] < 1000]\n",
    "    perc_b = data.loc[data['CO2'] >= 1000]\n",
    "    prcb2  = perc_b.loc[perc_b['CO2'] < 1500]\n",
    "    perc_o = data.loc[data['CO2'] >= 1500]\n",
    "    print len(perc_u), len(prcb2), len(perc_o), len(data)\n",
    "    \n",
    "    val.append(float(len(perc_u)) / float(len(data)) * 100)\n",
    "    val.append(float(len(prcb2))  / float(len(data)) * 100)\n",
    "    val.append(float(len(perc_o)) / float(len(data)) * 100)\n",
    "    val\n",
    "    \n",
    "    # Save plot to proper location\n",
    "    plotType = '-fa'          # type: fresh air\n",
    "    # week number and home alias from earlier variables\n",
    "\n",
    "    # Plot of air \n",
    "    fig = {\n",
    "        'data': [{'labels': ['Indenfor anbefaling', 'Lidt over anbefaling', 'Over anbefaling'],\n",
    "                  'values': val,\n",
    "                  'type': 'pie',\n",
    "                  'marker': {'colors': [pieGreen,\n",
    "                                        pieOrange,\n",
    "                                        pieRed]},\n",
    "                  'textinfo': 'none'}],              \n",
    "        'layout': { 'autosize': False,\n",
    "                    'width': 350,\n",
    "                    'height': 350,\n",
    "                    \"paper_bgcolor\": \"rgba(0, 0, 0, 0)\",\n",
    "                    \"plot_bgcolor\": \"rgba(0, 0, 0, 0)\",\n",
    "                    'showlegend': False}\n",
    "         }\n",
    "\n",
    "    # Save to folder\n",
    "    fullPathToPlot = filee[8:16] + plotType + \".png\"\n",
    "    py.image.save_as(fig, filename=fullPathToPlot)\n",
    "    #Image(fullPathToPlot) # Display static image\n",
    "    # Reset plotting array\n",
    "    val = []\n",
    "print \"All plots generated\""
   ]
  },
  {
   "cell_type": "markdown",
   "metadata": {},
   "source": [
    "----\n",
    "## <span style=\"color:darkred\">Netatmo arbejde</span> "
   ]
  },
  {
   "cell_type": "markdown",
   "metadata": {},
   "source": [
    "### Create list of all Netatmo files\n",
    "All room data and have fil (outdoor temperature) separately"
   ]
  },
  {
   "cell_type": "code",
   "execution_count": 14,
   "metadata": {
    "collapsed": true
   },
   "outputs": [],
   "source": [
    "# Functions for extracting data\n",
    "def calculateHourlyTemp(dataFrame, hourName, tempName):\n",
    "    hour_cnt = {}\n",
    "    for hour in list(set(dataFrame[hourName])):\n",
    "        hourly = dataFrame.loc[dataFrame[hourName].isin([hour])]\n",
    "        hour_cnt[hour] = hourly[tempName].sum(axis=0)/(len(hourly))\n",
    "    return hour_cnt"
   ]
  },
  {
   "cell_type": "code",
   "execution_count": 131,
   "metadata": {
    "collapsed": false
   },
   "outputs": [
    {
     "name": "stdout",
     "output_type": "stream",
     "text": [
      "Data path C:\\Users\\frksteenhoff\\Dropbox\\Data eksempel til Henriette\\Data week 13\\Netatmo\n",
      "Files:\n",
      "['1st floor living room_3_4_2017.xls', 'Bedroom downstairs_3_4_2017.xls', 'Bedroom_3_4_2017(1).xls', 'Bedroom_3_4_2017(10).xls', 'Bedroom_3_4_2017(11).xls', 'bedroom_3_4_2017(12).xls', 'bedroom_3_4_2017(13).xls', 'Bedroom_3_4_2017(14).xls', 'Bedroom_3_4_2017(15).xls', 'bedroom_3_4_2017(16).xls', 'Bedroom_3_4_2017(2).xls', 'Bedroom_3_4_2017(3).xls', 'Bedroom_3_4_2017(4).xls', 'Bedroom_3_4_2017(5).xls', 'Bedroom_3_4_2017(6).xls', 'Bedroom_3_4_2017(7).xls', 'Bedroom_3_4_2017(8).xls', 'Bedroom_3_4_2017(9).xls', 'Bedroom_3_4_2017.xls', 'Kitchen_livingroom_3_4_2017.xls', 'Living room_3_4_2017(1).xls', 'Living room_3_4_2017(2).xls', 'Living room_3_4_2017(3).xls', 'Living room_3_4_2017(4).xls', 'Living room_3_4_2017.xls', 'living room_bedriom_kitchen_3_4_2017.xls', 'Living room_kitchen_3_4_2017(1).xls', 'Living room_kitchen_3_4_2017(2).xls', 'Living room_kitchen_3_4_2017(3).xls', 'Living room_kitchen_3_4_2017.xls', 'Livingroom_kitchen_3_4_2017.xls', 'Sovev\\xe6relse_3_4_2017(1).xls', 'Sovev\\xe6relse_3_4_2017(2).xls', 'Sovev\\xe6relse_3_4_2017.xls', 'Stue_3_4_2017(1).xls', 'Stue_3_4_2017(2).xls', 'Stue_3_4_2017(3).xls', 'Stue_3_4_2017(4).xls', 'Stue_3_4_2017(5).xls', 'Stue_3_4_2017(6).xls', 'Stue_3_4_2017(7).xls', 'Stue_3_4_2017(8).xls', 'Stue_3_4_2017(9).xls', 'Stue_3_4_2017.xls', 'Uptairs _3_4_2017.xls'] \n",
      "\n",
      "Number of files: 45\n",
      "\n",
      "Out door temperatures from have_3_4_2017.xls read\n"
     ]
    }
   ],
   "source": [
    "# Find all files in folder\n",
    "# Keep all files with extension .xls (the Netatmo files)\n",
    "netatmo_files = []\n",
    "\n",
    "chdir(datapath)\n",
    "netatmo_files += [file for file in listdir('.') if not file.startswith('have') and file.endswith('.xls')]\n",
    "# Print list of files\n",
    "print \"Data path\", getcwd()\n",
    "print \"Files:\\n\", netatmo_files, \"\\n\\nNumber of files: %d\" % len(netatmo_files)\n",
    "\n",
    "# Get have fil - REMOVE LAST COLUMN BEFORE RUNNING\n",
    "have_ = [file for file in listdir('.') if file.startswith('have')]\n",
    "# Read netatmo outdoor temp\n",
    "have_fil = pd.read_excel(have_[0],sheetname='Worksheet')\n",
    "print \"\\nOut door temperatures from\", have_[0], \"read\"\n",
    "\n",
    "# Clean-up: remove header and first 2 rows\n",
    "have_fil.columns = have_fil.iloc[1,:]\n",
    "have_fil = have_fil.drop(have_fil.index[[0,1]])\n",
    "\n",
    "# Add hour label, vector t_u\n",
    "have_fil['Hour'] = pd.to_datetime(have_fil['Timezone : Europe/Copenhagen']).dt.hour\n",
    "hour_cnt_have    = calculateHourlyTemp(have_fil, 'Hour', 'Temperature')\n"
   ]
  },
  {
   "cell_type": "markdown",
   "metadata": {},
   "source": [
    "### Read Netatmo files\n",
    "#### Extract overall temperature for all homes - per room file"
   ]
  },
  {
   "cell_type": "code",
   "execution_count": 132,
   "metadata": {
    "collapsed": false
   },
   "outputs": [],
   "source": [
    "# files for room data\n",
    "all_time_liv = pd.DataFrame()\n",
    "all_time_bed = pd.DataFrame()\n",
    "\n",
    "livingroom_pattern = (re.compile(livingroom_pattern))\n",
    "bed_pattern = (re.compile(bedroom_pattern))\n",
    "\n",
    "# Merge all files for given room (living room (+ kitchen/upstairs), bedroom)\n",
    "for room_file in netatmo_files:\n",
    "    if livingroom_pattern.match(room_file):\n",
    "        # read file\n",
    "        liv_data = pd.read_excel(room_file) \n",
    "        # Change range of data and give new column names\n",
    "        liv_data.columns = liv_data.iloc[1,:]\n",
    "        liv_data = liv_data.drop(liv_data.index[[0,1]])\n",
    "        \n",
    "        # Add content to all time data file\n",
    "        all_time_liv = all_time_liv.append([liv_data])\n",
    "        \n",
    "    elif bed_pattern.match(room_file):\n",
    "        # read file\n",
    "        bed_data = pd.read_excel(room_file) \n",
    "        # Change range of data and give new column names\n",
    "        bed_data.columns = bed_data.iloc[1,:]\n",
    "        bed_data = bed_data.drop(bed_data.index[[0,1]])\n",
    "        \n",
    "        # Add content to all time data file\n",
    "        all_time_bed = all_time_bed.append([bed_data])\n",
    "        \n",
    "    else: \n",
    "        # It is okay that \"have\"-file is missing!\n",
    "         print \"Error! File: %s missing room classification!\" % room_file"
   ]
  },
  {
   "cell_type": "markdown",
   "metadata": {},
   "source": [
    "### Calculate mean temperature for each time slot of each weekday\n",
    "Plot against each households' temperatures during week"
   ]
  },
  {
   "cell_type": "code",
   "execution_count": 78,
   "metadata": {
    "collapsed": true
   },
   "outputs": [],
   "source": [
    "def createMeanTempForRoom(dataFrame):\n",
    "    if len(dataFrame.columns) > 5:\n",
    "        dataFrame.iloc[:,7] = pd.to_datetime(dataFrame.iloc[:,7])\n",
    "        # Append our to existing dataframe\n",
    "        dataFrame['Hour'] = dataFrame.iloc[:,7].dt.hour\n",
    "        dataFrame['Day'] = dataFrame.iloc[:,7].dt.weekday\n",
    "        dataFrame['newTemp'] = zeros(len(dataFrame))\n",
    "    else:\n",
    "        dataFrame.iloc[:,1] = pd.to_datetime(dataFrame.iloc[:,1])\n",
    "        # Append our to existing dataframe\n",
    "        dataFrame['Hour'] = dataFrame.iloc[:,1].dt.hour\n",
    "        dataFrame['Day'] = dataFrame.iloc[:,1].dt.weekday\n",
    "        dataFrame['newTemp'] = zeros(len(dataFrame))\n",
    "\n",
    "    # New dataframe for weekly time series\n",
    "    uniq_hour = pd.DataFrame()\n",
    "\n",
    "    # Calculate mean temperature per hour of each weekday\n",
    "    for day in list(set(dataFrame['Day'])):\n",
    "        # Get all values from current day\n",
    "        days = dataFrame.loc[dataFrame['Day'].isin([day])]\n",
    "\n",
    "        for hour in list(set(days.Hour)):\n",
    "            # Get all temp for each hours within days \n",
    "            hours = days.loc[days['Hour'].isin([np.int64(hour)])]\n",
    "\n",
    "            # Add mean temperature\n",
    "            temp = hours.iloc[[0]]\n",
    "            temp.newTemp = hours['Temperature'].sum(axis=0)/len(hours)\n",
    "            if not temp.empty:\n",
    "                # Add the temperatures to dataframe with one entry per hour of day\n",
    "                uniq_hour = uniq_hour.append([temp])\n",
    "    return uniq_hour"
   ]
  },
  {
   "cell_type": "markdown",
   "metadata": {},
   "source": [
    "### Plot temperatures for each room against overall temp\n",
    "Encoding documentation in Python, [here](https://docs.python.org/2/howto/unicode.html)"
   ]
  },
  {
   "cell_type": "code",
   "execution_count": 162,
   "metadata": {
    "collapsed": false
   },
   "outputs": [],
   "source": [
    "def createTempPlot(dataFrame, tempLiv, tempBed, dir_, location_n, room_n, tAxes, bgBorder):\n",
    "    #Change back to correct working directory\n",
    "    # If directory path does not exist - create it\n",
    "    if not path.exists(viz_path):\n",
    "        makedirs(viz_path)\n",
    "    chdir(viz_path)\n",
    "    \n",
    "    # Save plot to proper location\n",
    "    name = \"\"\n",
    "    room = \"\"\n",
    "    plotType       = '-temp'          # type: temperature\n",
    "        \n",
    "    # Plotting weekly temperature overview - single home\n",
    "    trace1 = go.Scatter(\n",
    "              x = pd.to_datetime(dataFrame.iloc[:,1]),\n",
    "              y = list(dataFrame.Temperature),\n",
    "        name = 'Din bolig', # Style name/legend entry with html tags\n",
    "        connectgaps=False\n",
    "    )\n",
    "\n",
    "    # Choose whether to use living room/kitchen temp or bedroom temp - overall\n",
    "    if livingroom_pattern.match(room_n):\n",
    "        trace2 = go.Scatter(\n",
    "              x = pd.to_datetime(tempLiv.iloc[:,7]),\n",
    "              y = list(tempLiv.newTemp),\n",
    "        name = 'Hedelyngen',\n",
    "        connectgaps = False\n",
    "        )\n",
    "    else:\n",
    "        trace2 = go.Scatter(\n",
    "              x = pd.to_datetime(tempBed.iloc[:,7]),\n",
    "              y = list(tempBed.newTemp),\n",
    "        name = 'Hedelyngen',\n",
    "        connectgaps = False\n",
    "    )\n",
    "        \n",
    "    data = [trace1, trace2]\n",
    "\n",
    "    # Setting layout details for plot\n",
    "    layout = go.Layout(\n",
    "        autosize = False,\n",
    "        width = 600,\n",
    "        height = 350,\n",
    "        paper_bgcolor = 'rgba(0, 0, 0, 0)',\n",
    "        plot_bgcolor = \"rgba(0, 0, 0, 0)\",\n",
    "        showlegend = False,\n",
    "\n",
    "        xaxis=dict(\n",
    "            tickfont=dict(\n",
    "                size=14,\n",
    "                color=tAxes\n",
    "            )\n",
    "        ),\n",
    "\n",
    "        yaxis=dict(\n",
    "            range=[min(list(dataFrame.Temperature))-1,max(list(dataFrame.Temperature))+1],\n",
    "            zeroline=True,\n",
    "            titlefont=dict(\n",
    "                size=16,\n",
    "                color=tAxes\n",
    "            ),\n",
    "            tickfont=dict(\n",
    "                size=16,\n",
    "                color=tAxes\n",
    "            )\n",
    "        ),\n",
    "\n",
    "        legend=dict(\n",
    "            x=0,\n",
    "            y=1.0,\n",
    "            bgcolor=bgBorder,\n",
    "            bordercolor=bgBorder\n",
    "        )\n",
    "    )\n",
    "\n",
    "    # Give name for plot to be saved\n",
    "    room = room_n.encode(\"ascii\", \"ignore\").replace(\"/\", \"\")\n",
    "    filen = location_n + plotType + \"-\" + room + \".png\"\n",
    "    filen = filen.replace(\" \", \"\")\n",
    "\n",
    "    # Create and save figure\n",
    "    fig = go.Figure(data=data, layout=layout)\n",
    "    py.image.save_as(fig, filename=filen)\n",
    "    #Image(fullPathToPlot) # Display a static image"
   ]
  },
  {
   "cell_type": "markdown",
   "metadata": {},
   "source": [
    "### Plot humidity for each room\n",
    "#### Extract ``have`` file information -- outdoor temperature"
   ]
  },
  {
   "cell_type": "code",
   "execution_count": 161,
   "metadata": {
    "collapsed": false
   },
   "outputs": [],
   "source": [
    "def createHumidityPlot(dataFrame, hour_cnt_netatmo, hour_cnt_have, dir_, room_n, location_n, col1, col2, col3):\n",
    "    # initialize arrays for limit values rh_gul and rh_roed\n",
    "    # If directory path does not exist - create it\n",
    "    if not path.exists(viz_path):\n",
    "        makedirs(viz_path)\n",
    "    chdir(viz_path)\n",
    "    \n",
    "    name = \"\"\n",
    "    room = \"\"\n",
    "    rh_gul = []\n",
    "    rh_roed = []\n",
    "\n",
    "    # Calculations for humidity equation\n",
    "    # Constants\n",
    "    for i in range(0,24):\n",
    "        calc = dataFrame.loc[dataFrame['Hour'].isin([i])]\n",
    "        t_i     = np.asarray(hour_cnt_netatmo.values())\n",
    "        t_ude   = np.asarray(hour_cnt_have.values())\n",
    "\n",
    "        t_v     = np.add(Fraction(1,3)*t_ude[i], Fraction(2,3)*t_i[i])\n",
    "\n",
    "        # Limit equations\n",
    "        p_mv = (math.exp(77.3450 + 0.0057*t_v) - (7235.0 / t_v) / t_v**8.2)\n",
    "        p_mi = (math.exp(77.3450 + 0.0057*t_i[i]) - (7235.0 / t_i)[i] / t_i[i]**8.2)\n",
    "\n",
    "        # Equation for upper and lower bound\n",
    "        rh_gul.append(100*0.6*p_mv/p_mi)\n",
    "        rh_roed.append(100*0.75*p_mv/p_mi)\n",
    "\n",
    "\n",
    "    # Humidity\n",
    "    # Only for rooms with humidity measure\n",
    "    hr_data    = dataFrame[['Humidity', 'Temperature', 'Hour']]\n",
    "    rh_dict = dict.fromkeys(['middleValue', 'lowValue', 'highValue'], 0)\n",
    "\n",
    "    # Check netatmo data against humidity boundaries for each hour of day\n",
    "    for i in range(0, len(hr_data['Humidity'])):\n",
    "\n",
    "        # if humidity value are between rh_gul and rh_roed \n",
    "        if hr_data.iloc[i,0] > rh_gul[hr_data.iloc[i,2]] and hr_data.iloc[i,0] < rh_roed[hr_data.iloc[i,2]]:\n",
    "            rh_dict['middleValue'] += 1\n",
    "        # If humidity is less than rh_gul\n",
    "        elif hr_data.iloc[i,0] < rh_gul[hr_data.iloc[i,2]]:\n",
    "            rh_dict['lowValue'] += 1\n",
    "        # If humidity is greater than rh_roed \n",
    "        elif hr_data.iloc[i,0] > rh_roed[hr_data.iloc[i,2]]:\n",
    "            rh_dict['highValue'] += 1\n",
    "        else:\n",
    "            print 'Something fails'\n",
    "\n",
    "    # Save plot to proper location\n",
    "    plotType = '-hr'           # type: humidity rate\n",
    "\n",
    "    room = room_n.encode(\"ascii\", \"ignore\").replace(\"/\", \"\")\n",
    "    filen = location_n + plotType + \"-\" + room + \".png\"\n",
    "    filen = filen.replace(\" \", \"\")\n",
    "\n",
    "    # Plot over fresh air \n",
    "    fig = {\n",
    "        'data': [{'labels': ['Under anbefaling', 'Indenfor anbefaling', 'Over anbefaling'],\n",
    "                  'values': [rh_dict['lowValue']   / len(hr_data)*100,\n",
    "                             rh_dict['middleValue']/ len(hr_data)*100,\n",
    "                             rh_dict['highValue']  / len(hr_data)*100],\n",
    "                  'type': 'pie', \n",
    "                  'marker': {'colors': [col1,\n",
    "                                        col2,\n",
    "                                        col3]},\n",
    "                  'textinfo': 'none'}],\n",
    "        'layout': { 'autosize': False,\n",
    "                    'width': 350,\n",
    "                    'height': 350,\n",
    "                    \"paper_bgcolor\": \"rgba(0, 0, 0, 0)\",\n",
    "                    \"plot_bgcolor\": \"rgba(0, 0, 0, 0)\",\n",
    "                    'showlegend': False}\n",
    "         }\n",
    "\n",
    "    # Save to folder\n",
    "    py.image.save_as(fig, filename=filen)\n",
    "    # Plot result\n",
    "    #Image(fullPathToPlot) # Display a static image\n",
    "    #py.iplot(fig)"
   ]
  },
  {
   "cell_type": "markdown",
   "metadata": {},
   "source": [
    "### Calculate temperature per hour"
   ]
  },
  {
   "cell_type": "code",
   "execution_count": 133,
   "metadata": {
    "collapsed": false
   },
   "outputs": [
    {
     "name": "stdout",
     "output_type": "stream",
     "text": [
      "All time temperatures created\n"
     ]
    }
   ],
   "source": [
    "# For households in list of households, plot temperature agains mean temperature\n",
    "uniq_hour_liv = {}\n",
    "uniq_hour_bed = {}\n",
    "uniq_hour_liv = createMeanTempForRoom(all_time_liv)\n",
    "uniq_hour_bed = createMeanTempForRoom(all_time_bed)\n",
    "\n",
    "print \"All time temperatures created\""
   ]
  },
  {
   "cell_type": "code",
   "execution_count": 113,
   "metadata": {
    "collapsed": false
   },
   "outputs": [],
   "source": [
    "#uniq_hour_bed"
   ]
  },
  {
   "cell_type": "markdown",
   "metadata": {},
   "source": [
    "### Create figures (pie chart + temperatures) for all netatmo data"
   ]
  },
  {
   "cell_type": "code",
   "execution_count": 159,
   "metadata": {
    "collapsed": false
   },
   "outputs": [
    {
     "name": "stdout",
     "output_type": "stream",
     "text": [
      "Reading file He41 f Bedroom\n",
      "He41f-temp-Bedroom.png\n",
      "He41f-hr-Bedroom.png\n",
      "Reading file He211 f Kitchen/livingroom\n",
      "He211f-temp-Kitchenlivingroom.png\n",
      "He211f-hr-Kitchenlivingroom.png\n",
      "Reading file He99 f Living room\n",
      "He99f-temp-Livingroom.png\n",
      "He99f-hr-Livingroom.png\n",
      "Reading file He9 f Living room\n",
      "He9f-temp-Livingroom.png\n",
      "He9f-hr-Livingroom.png\n",
      "Reading file He115 f Living room\n",
      "He115f-temp-Livingroom.png\n",
      "He115f-hr-Livingroom.png\n",
      "Reading file He183 f Living room\n",
      "He183f-temp-Livingroom.png\n",
      "He183f-hr-Livingroom.png\n",
      "Reading file He41 f Living room\n",
      "He41f-temp-Livingroom.png\n",
      "He41f-hr-Livingroom.png\n",
      "Reading file HE141 f living room/bedriom/kitchen\n",
      "HE141f-temp-livingroombedriomkitchen.png\n",
      "HE141f-hr-livingroombedriomkitchen.png\n",
      "Reading file Ho24 f Living room/kitchen\n",
      "Ho24f-temp-Livingroomkitchen.png\n",
      "Ho24f-hr-Livingroomkitchen.png\n",
      "Reading file Ho66 f Living room/kitchen\n",
      "Ho66f-temp-Livingroomkitchen.png\n",
      "Ho66f-hr-Livingroomkitchen.png\n",
      "Reading file He143 f Living room/kitchen\n",
      "He143f-temp-Livingroomkitchen.png\n",
      "He143f-hr-Livingroomkitchen.png\n",
      "Reading file He187 Living room/kitchen\n",
      "He187-temp-Livingroomkitchen.png\n",
      "He187-hr-Livingroomkitchen.png\n",
      "Reading file He13 f Livingroom/kitchen\n",
      "He13f-temp-Livingroomkitchen.png\n",
      "He13f-hr-Livingroomkitchen.png\n",
      "Reading file He61 f Soveværelse\n",
      "He61f-temp-Sovevrelse.png\n",
      "He61f-hr-Sovevrelse.png\n",
      "Reading file He171 f Soveværelse\n",
      "He171f-temp-Sovevrelse.png\n",
      "He171f-hr-Sovevrelse.png\n",
      "Reading file He183 f Soveværelse\n",
      "He183f-temp-Sovevrelse.png\n",
      "He183f-hr-Sovevrelse.png\n",
      "Reading file He87 f Stue\n",
      "He87f-temp-Stue.png\n",
      "He87f-hr-Stue.png\n",
      "Reading file Ho98 f Stue\n",
      "Ho98f-temp-Stue.png\n",
      "Ho98f-hr-Stue.png\n",
      "Reading file He221 f Stue\n",
      "He221f-temp-Stue.png\n",
      "He221f-hr-Stue.png\n",
      "Reading file Ho20 f Stue\n",
      "Ho20f-temp-Stue.png\n",
      "Ho20f-hr-Stue.png\n",
      "Reading file He113 f Stue\n",
      "He113f-temp-Stue.png\n",
      "He113f-hr-Stue.png\n",
      "Reading file He107 Stue\n",
      "He107-temp-Stue.png\n",
      "He107-hr-Stue.png\n",
      "Reading file He197 f Stue\n",
      "He197f-temp-Stue.png\n",
      "He197f-hr-Stue.png\n",
      "Reading file He61 f Stue\n",
      "He61f-temp-Stue.png\n",
      "He61f-hr-Stue.png\n",
      "Reading file He171 f Stue\n",
      "He171f-temp-Stue.png\n",
      "He171f-hr-Stue.png\n",
      "Reading file He117 f Stue\n",
      "He117f-temp-Stue.png\n",
      "He117f-hr-Stue.png\n",
      "Reading file HE141 f Uptairs \n",
      "HE141f-temp-Uptairs.png\n",
      "HE141f-hr-Uptairs.png\n",
      "\n",
      "All plots created and saved to Week_13\n",
      "\n",
      "--- Execution time: 129.082000017 seconds ---\n"
     ]
    }
   ],
   "source": [
    "# Clock time spent on execution\n",
    "start_time = time.time()\n",
    "\n",
    "# For each netatmo file, except the \"have\" file, create humidity and temperature plot\n",
    "#chdir(savepath)\n",
    "for room_file in netatmo_files[18:]:\n",
    "    # If directory path does not exist - create it\n",
    "    if not path.exists(datapath):\n",
    "        makedirs(datapath)\n",
    "    chdir(datapath)\n",
    "    # Read in file\n",
    "    netatmo_data = pd.read_excel(room_file) \n",
    "    # Get name for output file\n",
    "    location_name = netatmo_data.iloc[0,0]\n",
    "    # Get room for output file\n",
    "    room_name = netatmo_data.iloc[0,3]\n",
    "    print \"Reading file\", location_name, room_name\n",
    "    \n",
    "    # Change range of data and give new column names\n",
    "    netatmo_data.columns = netatmo_data.iloc[1,:]\n",
    "    netatmo_data = netatmo_data.drop(netatmo_data.index[[0,1]])\n",
    "    \n",
    "    # Make TimeSeries from Timestamp\n",
    "    netatmo_data.iloc[:,1] = pd.to_datetime(netatmo_data.iloc[:,1])\n",
    "    netatmo_data['Hour'] = netatmo_data.iloc[:,1].dt.hour\n",
    "    netatmo_data['Day'] = netatmo_data.iloc[:,1].dt.weekday\n",
    "    hour_cnt = calculateHourlyTemp(netatmo_data, 'Hour', 'Temperature')\n",
    "    \n",
    "    # createTempPlot(dataFrame, tempLiv, tempBed, dir_, location_n, room_n, tAxes, bgBorder):\n",
    "    createTempPlot(netatmo_data, uniq_hour_liv, uniq_hour_bed, dir_name, location_name, room_name, ticksAxes, bgBorder)\n",
    "    # createHumidityPlot(dataFrame, dir_, room_n, location_n):\n",
    "    createHumidityPlot(netatmo_data, hour_cnt, hour_cnt_have, dir_name, room_name, location_name, pieGreen, pieOrange, pieRed)\n",
    "\n",
    "print \"\\nAll plots created and saved to %s\" % dir_name\n",
    "print(\"\\n--- Execution time: %s seconds ---\" % (time.time() - start_time))"
   ]
  },
  {
   "cell_type": "markdown",
   "metadata": {},
   "source": [
    "----\n",
    "\n",
    "## <span style=\"color:darkred\">Things that can wait</span>\n",
    "### heat consumption"
   ]
  },
  {
   "cell_type": "code",
   "execution_count": 275,
   "metadata": {
    "collapsed": false
   },
   "outputs": [
    {
     "data": {
      "image/png": "[encoded data removed]",
      "text/plain": [
       "<IPython.core.display.Image object>"
      ]
     },
     "execution_count": 275,
     "metadata": {},
     "output_type": "execute_result"
    }
   ],
   "source": [
    "# Save plot to proper location\n",
    "folder = 'Visualization'  # put all in folder: visualization\n",
    "plotType = '-hc'           # type: heat consumption\n",
    "# week number and home alias from earlier variables\n",
    "fullPathToPlot = dir_name + \"/\" + folder + \"/\" + alias + plotType + \".png\"\n",
    "\n",
    "# Plot of heat consumption, your home vs. all \n",
    "data = [go.Bar(\n",
    "            x=['Din bolig', 'Hedelyngen'],\n",
    "            y=[500, 400],\n",
    "            marker=dict(\n",
    "                  color= [homeGreen,hedeBlue]\n",
    "        )\n",
    "    )]\n",
    "\n",
    "layout = go.Layout(\n",
    "    title='Varmeforbrug, ' + location_name,\n",
    "    autosize=False,\n",
    "    width=300,\n",
    "    height=500,\n",
    "    paper_bgcolor = 'rgba(0, 0, 0, 0)',\n",
    "    plot_bgcolor = \"rgba(0, 0, 0, 0)\",\n",
    "    showlegend = False,\n",
    "    xaxis=dict(\n",
    "        tickfont=dict(\n",
    "            size=14,\n",
    "            color=ticksAxes\n",
    "        )\n",
    "    ),\n",
    "    yaxis=dict(\n",
    "        title='kWh',\n",
    "        titlefont=dict(\n",
    "            size=16,\n",
    "            color=ticksAxes\n",
    "        ),\n",
    "        tickfont=dict(\n",
    "            size=14,\n",
    "            color=ticksAxes\n",
    "        )\n",
    "    ),\n",
    "    legend=dict(\n",
    "        x=0,\n",
    "        y=1.0,\n",
    "        bgcolor=bgBorder,\n",
    "        bordercolor=bgBorder\n",
    "    )\n",
    ")\n",
    "\n",
    "fig = go.Figure(data=data, layout=layout)\n",
    "# Save static image\n",
    "py.image.save_as(fig, filename=fullPathToPlot)\n",
    "Image(fullPathToPlot) # Display a static image\n",
    "\n",
    "#py.iplot(fig, filename='style-bar')"
   ]
  },
  {
   "cell_type": "markdown",
   "metadata": {},
   "source": [
    "## <span style=\"color:darkred\">Accessing Netatmo from their API</span>\n",
    "* [API description on GitHub](https://github.com/philippelt/netatmo-api-python)"
   ]
  },
  {
   "cell_type": "code",
   "execution_count": 116,
   "metadata": {
    "collapsed": true
   },
   "outputs": [],
   "source": [
    "import lnetatmo"
   ]
  },
  {
   "cell_type": "code",
   "execution_count": 176,
   "metadata": {
    "collapsed": true
   },
   "outputs": [],
   "source": [
    "# 'indeklima.forsog@gmail.com'"
   ]
  }
 ],
 "metadata": {
  "anaconda-cloud": {},
  "kernelspec": {
   "display_name": "Python [Root]",
   "language": "python",
   "name": "Python [Root]"
  },
  "language_info": {
   "codemirror_mode": {
    "name": "ipython",
    "version": 2
   },
   "file_extension": ".py",
   "mimetype": "text/x-python",
   "name": "python",
   "nbconvert_exporter": "python",
   "pygments_lexer": "ipython2",
   "version": "2.7.12"
  }
 },
 "nbformat": 4,
 "nbformat_minor": 0
}
