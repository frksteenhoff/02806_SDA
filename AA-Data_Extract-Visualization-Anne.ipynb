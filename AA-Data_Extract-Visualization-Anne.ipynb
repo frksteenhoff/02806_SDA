{
 "cells": [
  {
   "cell_type": "markdown",
   "metadata": {},
   "source": [
    "#  <span style=\"color:darkred\">Data extraction and visualization</span>\n",
    "The below scripts are made by Henriette Steenhoff, s134869, to help visualize the sampling of different indoor climate measures for the master thesis of Anne Sloth Bidstrup, s112862 at The Technical University of Denmark (DTU) anno 2017.\n",
    "\n",
    "----"
   ]
  },
  {
   "cell_type": "markdown",
   "metadata": {},
   "source": [
    "##  <span style=\"color:darkred\">Information about the different data sources</span>\n",
    "### Structure data in weekly batches\n",
    "* Processed data for each week (all time)\n",
    " * Such that it can be used for all time analysis\n",
    "* Processed data hourly (maybe)\n",
    "* Different diagrams/plots/visualizations\n",
    "*\n",
    "\n",
    "#### For hver bolig\n",
    "* State number of rooms and names\n",
    "\n",
    "### De forskellige datakilder\n",
    "* CO2 + varme + fugtighed fra netatmo - kun 3 rum, 3 forksellige ark\n",
    " * Luftfugtighed - for hvert rum - brug al data, lav inddeling som i feedback brev\n",
    " * CO2 -- vigtig ifm. ``PIR`` og ``reed``- for stue/køkken og soveværelse\n",
    "* Temp fra Bygweb - sorteres fra\n",
    "\n",
    "### Different measures, what to use\n",
    "``Pir`` and ``reed`` -- merge tables!\n",
    "\n",
    "#### ``PIR`` - bevægelsescensor\n",
    "* Det spændende, tegn på hjemme hvis mellem ``close`` og ``open``\n",
    "* ``Timed out`` - ikke movement længere, **kan sorteres fra**\n",
    "\n",
    "#### ``Reed`` - dør\n",
    "* Present/home values ``open/close``\n",
    "\n",
    "#### ``Compas/Acc`` - moved, mangler lidt på \n",
    "* ONLY ``moved``\n",
    "* Sorted by room\n",
    "* *Number of entities*\n",
    "* % of time one has been at home\n",
    "\n",
    "Heat consumption - average\n",
    "\n",
    "``Hedelyngen`` - avg of all homes - kommer et andet sted fra"
   ]
  },
  {
   "cell_type": "markdown",
   "metadata": {},
   "source": [
    "----\n",
    "### Documentation\n",
    "Some references for help on different coding solutions\n",
    "\n",
    "* [Panda Docs](http://pandaproject.net/docs/importing-access-files.html)\n",
    "* [Plotly Docs](https://plot.ly/python/ipython-notebook-tutorial/)\n",
    "\n",
    "### To-do:\n",
    "- Look into possibilities for making transparent background on plots to save $\\checkmark$ - *given as argument in plot* [see here](http://stackoverflow.com/questions/29968152/python-setting-background-color-to-transparent-in-plotly-plots)\n",
    "- Find target group in need of feedback\n",
    "- Separate processed datasets from raw data (in folders)\n",
    "- Make system to distinguish between weeks and different users $\\checkmark$ - *weekly folders, alias and room identifiers*\n",
    "\n",
    "----"
   ]
  },
  {
   "cell_type": "markdown",
   "metadata": {},
   "source": [
    "## <span style=\"color:darkred\">Explanation of how to run the code</span>"
   ]
  },
  {
   "cell_type": "markdown",
   "metadata": {},
   "source": [
    "This section will give a brief introduction on how to\n",
    " * name the different files to be read\n",
    " * structure the raw data in order to be loaded into the program\n",
    " * find the different plots and output files\n",
    " \n",
    "### I/O description\n",
    "All input files must be put in the root of the directory. As this is done, the files used the week before (if any) needs to be moved to the weekly folder associated with the data. I.e. data from week 10 is still in root directory, move this to the folder ``Week_10`` - otherwise the data will not be read correctly.\n",
    "\n",
    "#### Folder structure\n",
    "This information is used for organizing files into right folders in the working directory.\n",
    "\n",
    "* For each week there will be a folder named ``Week_x``, where ``x`` denotes the week. \n",
    " * In the weekly folder there are two subfolders: ``Visualizations`` and ``ProcessedData``.\n",
    "   * ``Visualizations`` contains bar charts, pie chart and plots for each week generated with the code below. Each home is uniquely identified by it's ``ID``.\n",
    "   * ``ProcessedData`` contains all data used in that week sorted into files for each room in the house, this is the data extracted below. The different homes can be identified by the aliases made by Anne and a room identifier $\\{stue, værelse\\}$ etc. \n",
    "\n",
    "Since the data from Netatmo and Wireless will be interdependent, there will be no separate folder for the data sources. *Some data (unused fields and observations) has been removed to improve performance.*\n",
    "\n",
    "#### Naming convention\n",
    "#### Data files\n",
    "Can all be found on dropbox in weekly folders in '``Program - filudtræk og arbejde``' in folder '``ProcessedData``' and subfolder '``AccCompas``' or '``PIRReed``'. There will be one file for each room.\n",
    "\n",
    "**PIR/Reed**\n",
    "\n",
    "Name: '``alias``-**PIRReed**``_room``.xlsx'\n",
    "\n",
    "i.e ``he117-PIRReed_livingroom.xlsx``\n",
    "\n",
    "**AccCompas**\n",
    "\n",
    "Name: '``alias``-**AccCompas**``_room``.xlsx'\n",
    "\n",
    "i.e ``he117-AccCompas_kitchen.xlsx``\n",
    "#### PLOTS\n",
    "All the visualizations are found in folder ``ProcessedData`` in subfolder ``Visualizations``. Filenames will start with the ``alias`` for the home at hand and be followed by an indication of which output we have $\\{temp, co2, AccCompas, HR\\}$ and what room the measurements belong to: $\\{stue, værelse, entrance\\}$.\n",
    "\n",
    "\n",
    "**CO2 plot** \n",
    "\n",
    "Name: '``alias``-**co2**-``room``.png'\n",
    "\n",
    "**Temperature plot** \n",
    "\n",
    "Name: '``alias``-**temp**-``room``.png'\n",
    "\n",
    "**Movement** \n",
    "\n",
    "Name: '``alias``-**AccCompas**-``room``.png'\n",
    "\n",
    "**Humidity rate** \n",
    "\n",
    "Name: '``alias``-**HR**-``room``.png'\n",
    "\n",
    "\n",
    "### Running the code\n",
    "<span style=\"color:darkred\">Will be added shortly</span>"
   ]
  },
  {
   "cell_type": "markdown",
   "metadata": {},
   "source": [
    "----\n",
    "## <span style=\"color:darkred\">Data Preprocessing</span>"
   ]
  },
  {
   "cell_type": "code",
   "execution_count": 2,
   "metadata": {
    "collapsed": false
   },
   "outputs": [],
   "source": [
    "# Imports - getting relevant libraries\n",
    "import pandas as pd\n",
    "import matplotlib.pyplot as plt\n",
    "%matplotlib inline\n",
    "import urllib2\n",
    "from collections import Counter \n",
    "import numpy as np\n",
    "from operator import itemgetter\n",
    "from scipy import linalg\n",
    "from os import *\n",
    "from os.path import isfile, join\n",
    "from datetime import date\n",
    "import datetime\n",
    "from pylab import *\n",
    "\n",
    "import plotly \n",
    "from IPython.display import Image\n",
    "plotly.tools.set_credentials_file(username='frksteenhoff2', api_key='duu8hsfRmuI5rF2EU8o5')\n",
    "import plotly.plotly as py\n",
    "import plotly.graph_objs as go\n",
    "import re\n",
    "import time"
   ]
  },
  {
   "cell_type": "markdown",
   "metadata": {},
   "source": [
    "### Extracting basic information for the data"
   ]
  },
  {
   "cell_type": "markdown",
   "metadata": {},
   "source": [
    "**Get currect week of year ($weekOfYear - 1$)**"
   ]
  },
  {
   "cell_type": "code",
   "execution_count": 3,
   "metadata": {
    "collapsed": false
   },
   "outputs": [
    {
     "name": "stdout",
     "output_type": "stream",
     "text": [
      "Week number: 13\n"
     ]
    }
   ],
   "source": [
    "# Minus one to indicate work on last week's data\n",
    "weekNumber = date.today().isocalendar()[1]-1\n",
    "print 'Week number:', weekNumber"
   ]
  },
  {
   "cell_type": "markdown",
   "metadata": {},
   "source": [
    "**Create new week folder in directory**"
   ]
  },
  {
   "cell_type": "code",
   "execution_count": 4,
   "metadata": {
    "collapsed": false
   },
   "outputs": [
    {
     "name": "stdout",
     "output_type": "stream",
     "text": [
      "A new folder named 'Week_13' have been created for data from week 13.\n"
     ]
    }
   ],
   "source": [
    "# Adding new folder Week_'x' to directory \n",
    "dir_name = \"Week_\"+str(weekNumber)\n",
    "if not path.exists(dir_name):\n",
    "    makedirs(dir_name)\n",
    "print \"A new folder named '%s' have been created for data from week %d.\" % (dir_name, weekNumber)"
   ]
  },
  {
   "cell_type": "markdown",
   "metadata": {},
   "source": [
    "#### Methods for saving files correctly\n",
    "This function is used when saving files to a certain directory. It is used when the data has been processed such that only the needed data is left. This is being done when merging **Acc/Compas** and **PIR/Reed**. "
   ]
  },
  {
   "cell_type": "code",
   "execution_count": 135,
   "metadata": {
    "collapsed": false
   },
   "outputs": [],
   "source": [
    "def saveDataToFile(dir_, alias, string, df, dfcol, pattern): # string: concatenation of: censortype, room and file format (xlsx)\n",
    "    # Taking care of aaaaall the different spellings of the rooms... adding to different files\n",
    "    temp = df.loc[df[dfcol].str.contains(pattern)]\n",
    "    # Only save file if it actually contains something\n",
    "    if not temp.empty:\n",
    "        full_path_filename = (dir_+alias+string).strip(' ') \n",
    "        writer = pd.ExcelWriter(full_path_filename, engine='xlsxwriter')\n",
    "        print \"Saving values for '%s', in all: %d\" % (alias, len(temp))\n",
    "        temp.to_excel(writer)\n",
    "        writer.save()        "
   ]
  },
  {
   "cell_type": "markdown",
   "metadata": {},
   "source": [
    "#### Patterns - taking care of different spellings and naming conventions for the rooms\n",
    "\n",
    "*Can be optimised but is not a priority right now*"
   ]
  },
  {
   "cell_type": "code",
   "execution_count": 99,
   "metadata": {
    "collapsed": true
   },
   "outputs": [],
   "source": [
    "# LISTS OF DIFFERENT NAMES GIVEN FOR EACH ROOM.....\n",
    "# Entrance\n",
    "entre_pattern = '|'.join(['Entre PIR', 'EntrÃ© PIR', \n",
    "                            'PirÂ upstairsÂ hallway',\n",
    "                            'pirÂ entrance/kitchen', 'PirÂ hallway',\n",
    "                            'pirÂ hallwayÂ upstairs', 'PIR entrance',\n",
    "                            'pirÂ entrance','PIR gang', 'PIR stairs',\n",
    "                            'Reed main enterance', 'reed main enterance',\n",
    "                            'Reed main entrance', 'PIR Entre', 'Â pirÂ hallwayÂ upstairs',\n",
    "                            'Â pirÂ entrance', 'PIR trapper', 'Pir stairs',\n",
    "                            'Reed Main door', 'main entrance reed north',\n",
    "                            'pir entrance', 'pir stairs', 'main enterance', 'Reed entrance', 'Main door Reed',\n",
    "                            'entrance', 'entre', 'main entrance reed', 'Reed'])\n",
    "# Living room\n",
    "livingroom_pattern = '|'.join(['Stue PIR', 'PIR stue', 'PIR livingroom','PIR upstairs office/livingroom',\n",
    "                               'PIRÂ livingÂ roomÂ new', 'PIR 1st floor living room', 'PIR uostairs living room', \n",
    "                               'PIRÂ livingÂ room/kitchen', 'living room', 'livingroom', 'stue'])\n",
    "\n",
    "kitchen_pattern = '|'.join(['kitchen south', 'kitchen', 'kitchen South', 'kitchen'])\n",
    "\n",
    "bedroom_pattern = '|'.join(['Bedroom', 'bedroom', 'bed room'])\n",
    "\n",
    "# what about office and bath room + entre???"
   ]
  },
  {
   "cell_type": "markdown",
   "metadata": {},
   "source": [
    "----\n",
    "## <span style=\"color:darkred\">Wireless work</span>"
   ]
  },
  {
   "cell_type": "markdown",
   "metadata": {
    "collapsed": true
   },
   "source": [
    "### Merge ``PIR`` and ``Reed``"
   ]
  },
  {
   "cell_type": "code",
   "execution_count": 119,
   "metadata": {
    "collapsed": false
   },
   "outputs": [],
   "source": [
    "# TABLE WITH ALL HOMES (for current week)\n",
    "# Initialize dataframe\n",
    "pir_reed_merge = pd.DataFrame()\n",
    "fileNames = ['PIR', 'Reed']\n",
    "\n",
    "# Read in files for PIR and Reed and merge to one \n",
    "for name in fileNames:\n",
    "    data = pd.read_excel(name+\".xlsx\", name)\n",
    "    pir_reed_merge = pir_reed_merge.append(data)"
   ]
  },
  {
   "cell_type": "code",
   "execution_count": 120,
   "metadata": {
    "collapsed": false
   },
   "outputs": [],
   "source": [
    "#pir_reed_merge"
   ]
  },
  {
   "cell_type": "markdown",
   "metadata": {},
   "source": [
    "#### Remove all codes with values ``tempUpdate, TimeOut, ReEstablishedLink`` and ``LostLink``"
   ]
  },
  {
   "cell_type": "code",
   "execution_count": 121,
   "metadata": {
    "collapsed": false
   },
   "outputs": [
    {
     "name": "stdout",
     "output_type": "stream",
     "text": [
      "Number of observations (temperature included): 27895\n",
      "Number of observations (temperature excluded): 16213\n"
     ]
    }
   ],
   "source": [
    "# Remove unwanted temperature measuresold_obs = len(pir_reed_merge)\n",
    "old_obs = len(pir_reed_merge)\n",
    "pir_reed_merge = pir_reed_merge.loc[pir_reed_merge['code'].isin(['movement','open','closed'])]\n",
    "\n",
    "# Remove unnecessary features (duration, lastContact, threshold, batVoltage, ID, time)\n",
    "pir_reed_merge.drop(['duration','lastContact','threshold','battVoltage','ID','time_', 'rh', 'temp'], axis=1)\n",
    "\n",
    "new_obs = len(pir_reed_merge)\n",
    "print \"Number of observations (temperature included):\", old_obs\n",
    "print \"Number of observations (temperature excluded):\", new_obs"
   ]
  },
  {
   "cell_type": "markdown",
   "metadata": {},
   "source": [
    "### Saving Wireless data to files\n",
    "\n",
    "The different naming conventions are handled by the different patterns in the preprocessing section.\n",
    "\n",
    "Be advised! Due to lacking consistency in naming convention **some devices may not be included here**. Please make sure that running the code in section *Merging files containing same type of information* include the same room names as the ones  commented out below. -- otherwise contact Henriette."
   ]
  },
  {
   "cell_type": "markdown",
   "metadata": {},
   "source": [
    "#### Create individual files for each home"
   ]
  },
  {
   "cell_type": "code",
   "execution_count": 136,
   "metadata": {
    "collapsed": false
   },
   "outputs": [
    {
     "name": "stdout",
     "output_type": "stream",
     "text": [
      "Saving values for 'Ho46', in all: 94\n",
      "Saving values for 'He145', in all: 46\n",
      "Saving values for 'Aalbrovej21He59', in all: 156\n",
      "Saving values for 'He183', in all: 149\n",
      "Saving values for 'He99', in all: 14\n",
      "Saving values for 'Ho48', in all: 114\n",
      "Saving values for 'He107', in all: 284\n",
      "Saving values for 'He107', in all: 78\n",
      "Saving values for 'ho24', in all: 140\n",
      "Saving values for 'ho24', in all: 80\n",
      "Saving values for 'He104', in all: 146\n",
      "Saving values for 'He87', in all: 180\n",
      "Saving values for 'he147', in all: 71\n",
      "Saving values for 'Ho92', in all: 90\n",
      "Saving values for 'he143', in all: 153\n",
      "Saving values for 'he141', in all: 133\n",
      "Saving values for 'he103', in all: 70\n",
      "Saving values for 'He197', in all: 76\n",
      "Saving values for 'He197', in all: 176\n",
      "Saving values for 'He61', in all: 412\n",
      "Saving values for 'He61', in all: 98\n",
      "Saving values for 'he109', in all: 73\n",
      "Saving values for 'He27', in all: 60\n",
      "Saving values for 'He27', in all: 40\n",
      "Saving values for 'He69', in all: 300\n",
      "Saving values for 'He69', in all: 120\n",
      "Saving values for 'He57', in all: 121\n",
      "Saving values for 'Ho70', in all: 62\n",
      "Saving values for 'He221', in all: 37\n",
      "Saving values for 'ho98', in all: 323\n",
      "Saving values for 'ho98', in all: 105\n",
      "Saving values for 'Aalbrovej21', in all: 320\n",
      "Saving values for 'Aalbrovej21', in all: 1203\n",
      "Saving values for 'he61', in all: 71\n",
      "Saving values for 'He131', in all: 189\n",
      "Saving values for 'He131', in all: 91\n",
      "Saving values for 'He115', in all: 748\n",
      "Saving values for 'He171', in all: 258\n",
      "Saving values for 'He171', in all: 78\n",
      "Saving values for 'He111', in all: 436\n",
      "Saving values for 'He113', in all: 910\n",
      "Saving values for 'ho72', in all: 93\n",
      "Saving values for 'he87', in all: 155\n",
      "Saving values for 'he117', in all: 124\n",
      "Saving values for 'Klakkebjerg-Tasnim', in all: 7\n",
      "Saving values for 'he9', in all: 279\n",
      "Saving values for 'He93', in all: 400\n",
      "Saving values for 'Ho20', in all: 165\n",
      "Saving values for 'He25', in all: 143\n",
      "Saving values for 'He25', in all: 11\n",
      "Saving values for 'He59', in all: 794\n",
      "Saving values for 'He59', in all: 2044\n",
      "Saving values for 'He35', in all: 686\n",
      "Saving values for 'he139', in all: 67\n",
      "Saving values for 'he139', in all: 74\n",
      "\n",
      "--- Execution time: 10.8629999161 seconds ---\n"
     ]
    }
   ],
   "source": [
    "# Clock time spent on execution\n",
    "start_time = time.time()\n",
    "\n",
    "# Produces the path Weekx/ProcessedData/Hexxx-'room'.xlsx\n",
    "directory = dir_name + \"/ProcessedData/PIRReed/\"\n",
    "\n",
    "# If directory path does not exist - create it\n",
    "if not path.exists(directory):\n",
    "    makedirs(directory)\n",
    "\n",
    "# Merge correct files based on content type\n",
    "for alias in list(set(pir_reed_merge['bolig'])):\n",
    "    # Get data for specific home\n",
    "    current_home = (pir_reed_merge.loc[pir_reed_merge['bolig'].isin([alias])]).sort_values(by=['submitDate','submitTime'])\n",
    "\n",
    "    # Entrance\n",
    "    saveDataToFile(directory, alias, \"-PIRReed_entrance.xlsx\", current_home, 'tagName', entre_pattern)\n",
    "    # Living room\n",
    "    saveDataToFile(directory, alias, \"-PIRReed_livingroom.xlsx\", current_home, 'tagName', livingroom_pattern)\n",
    "\n",
    "#    not all have both pir + reed?\n",
    "#    # nothing on bedroom?\n",
    "#    # Bathroom - NOT NEEDED??\n",
    "#    saveDataToFile(directory, alias, \"-PIRReed_bathroom.xlsx\", current_home, 'tagName', missing_pattern)\n",
    "print(\"\\n--- Execution time: %s seconds ---\" % (time.time() - start_time))"
   ]
  },
  {
   "cell_type": "code",
   "execution_count": 165,
   "metadata": {
    "collapsed": false
   },
   "outputs": [],
   "source": [
    "from datetime import date, timedelta\n",
    "\n",
    "dates = []\n",
    "d1 = date(2017, 2, 20)  # start date\n",
    "d2 = date(2017, 2, 26)  # end date\n",
    "\n",
    "delta = d2 - d1         # timedelta\n",
    "\n",
    "for i in range(delta.days + 1):\n",
    "    dates.append(d1 + timedelta(days=i))"
   ]
  },
  {
   "cell_type": "code",
   "execution_count": 166,
   "metadata": {
    "collapsed": false
   },
   "outputs": [
    {
     "name": "stdout",
     "output_type": "stream",
     "text": [
      "[0, 0, 27, 32, 25, 19, 33]\n"
     ]
    }
   ],
   "source": [
    "listMovements = []\n",
    "\n",
    "for date in dates:\n",
    "    day_movement = current_home.loc[current_home['submitDate'].isin([date])]\n",
    "    noOfMovements = len(day_movement.loc[day_movement['code'].isin(['movement'])])\n",
    "    listMovements.append(noOfMovements)\n",
    "print listMovements"
   ]
  },
  {
   "cell_type": "code",
   "execution_count": 163,
   "metadata": {
    "collapsed": false
   },
   "outputs": [
    {
     "data": {
      "text/plain": [
       "32"
      ]
     },
     "execution_count": 163,
     "metadata": {},
     "output_type": "execute_result"
    }
   ],
   "source": [
    "#dates\n",
    "len(current_home.loc[current_home['submitDate'].isin(['2017-02-22'])])"
   ]
  },
  {
   "cell_type": "markdown",
   "metadata": {},
   "source": [
    "### Getting number of times door has been opened per room ``while`` movement indoor\n",
    "Homes can be extracted from folder ``PIRReed``, open/close per days is not interesting it is the overall weekly picture that is taken into account."
   ]
  },
  {
   "cell_type": "code",
   "execution_count": null,
   "metadata": {
    "collapsed": true
   },
   "outputs": [],
   "source": []
  },
  {
   "cell_type": "markdown",
   "metadata": {},
   "source": [
    "#### Find all files with certain extension (something with \"door\" in data directory for processed data)"
   ]
  },
  {
   "cell_type": "code",
   "execution_count": 23,
   "metadata": {
    "collapsed": false
   },
   "outputs": [
    {
     "name": "stdout",
     "output_type": "stream",
     "text": [
      "Number of observations (temperature included): 27895\n",
      "Number of observations (temperature excluded): 2088\n",
      "Saving values for 'Ho46', in all: 6\n",
      "Saving values for 'Ho46', in all: 10\n",
      "Saving values for 'He145', in all: 106\n",
      "Saving values for 'He183', in all: 1\n",
      "Saving values for 'Ho48', in all: 7\n",
      "Saving values for 'He107', in all: 18\n",
      "Saving values for 'He107', in all: 10\n",
      "Saving values for 'He104', in all: 4\n",
      "Saving values for 'ho48', in all: 4\n",
      "Saving values for 'He87', in all: 10\n",
      "Saving values for 'Ho92', in all: 1\n",
      "Saving values for 'he143', in all: 5\n",
      "Saving values for 'he143', in all: 6\n",
      "Saving values for 'he103', in all: 18\n",
      "Saving values for 'He197', in all: 4\n",
      "Saving values for 'He61', in all: 7\n",
      "Saving values for 'he109', in all: 3\n",
      "Saving values for 'He27', in all: 13\n",
      "Saving values for 'He69', in all: 21\n",
      "Saving values for 'He221', in all: 2\n",
      "Saving values for 'he9', in all: 3\n",
      "Saving values for 'ho98', in all: 36\n",
      "Saving values for 'he61', in all: 2\n",
      "Saving values for 'he61', in all: 4\n",
      "Saving values for 'He115', in all: 1\n",
      "Saving values for 'He93', in all: 17\n",
      "Saving values for 'He113', in all: 17\n",
      "Saving values for 'he117', in all: 17\n",
      "Saving values for 'he141', in all: 112\n",
      "Saving values for 'He57', in all: 2\n",
      "Saving values for 'He59', in all: 4\n",
      "\n",
      "--- Execution time: 4.57300019264 seconds ---\n"
     ]
    }
   ],
   "source": [
    "# Clock time spent on execution\n",
    "start_time = time.time()\n",
    "\n",
    "# Initialize dataframe\n",
    "acc_compas_merge = pd.DataFrame()\n",
    "fileNames = ['Compas', 'Acc']\n",
    "directory = dir_name + \"/ProcessedData/AccCompas/\"\n",
    "\n",
    "# If directory path does not exist - create it\n",
    "if not path.exists(directory):\n",
    "    makedirs(directory)\n",
    "\n",
    "# Read in files for Compas / Acc merge to one \n",
    "for name in fileNames:\n",
    "    # Only read in needed columns\n",
    "    data = pd.read_excel(name+\".xlsx\", name)# usecols=['tagName','tagID','code','bolig','temp','rh','submitDate','submitTime'])\n",
    "    acc_compas_merge = acc_compas_merge.append(data)\n",
    "\n",
    "# Count initial number of observations\n",
    "#old_obs = len(acc_compas_merge)\n",
    "#print old_obs\n",
    "\n",
    "# Keep only code value 'moved'\n",
    "acc_compas = acc_compas_merge.loc[acc_compas_merge['code'].isin(['moved'])]\n",
    "# Removed unused columns (for a smaller file size to save)\n",
    "acc_compas = acc_compas.drop(['temp','lastContact','threshold','battVoltage','ID','rh'], axis=1)\n",
    "\n",
    "print \"Number of observations (temperature included):\", old_obs\n",
    "print \"Number of observations (temperature excluded):\", len(acc_compas), \"\\n\"\n",
    "\n",
    "# Sort values from each room into separate files\n",
    "for alias in list(set(acc_compas['bolig'])):\n",
    "    # Get data for specific home\n",
    "    current_home = (acc_compas.loc[acc_compas['bolig'].isin([alias])]).sort_values(by=['submitDate','submitTime'])\n",
    "    # save bedroom info to file     #wayprettiercode (dir_, alias, string, df, dfcol, pattern)\n",
    "    saveDataToFile(directory, alias, \"-AccCompas_bedroom.xlsx\", current_home, 'tagName', livingroom_pattern)\n",
    "    # Save kitchen info to file\n",
    "    saveDataToFile(directory, alias, \"-AccCompas_kitchen.xlsx\", current_home, 'tagName', kitchen_pattern)\n",
    "\n",
    "print(\"\\n--- Execution time: %s seconds ---\" % (time.time() - start_time))"
   ]
  },
  {
   "cell_type": "markdown",
   "metadata": {
    "collapsed": false
   },
   "source": [
    "#### Merging moved data with PIR/Reed?"
   ]
  },
  {
   "cell_type": "code",
   "execution_count": null,
   "metadata": {
    "collapsed": false
   },
   "outputs": [],
   "source": []
  },
  {
   "cell_type": "markdown",
   "metadata": {},
   "source": [
    "### Getting data for pie charts"
   ]
  },
  {
   "cell_type": "markdown",
   "metadata": {
    "collapsed": true
   },
   "source": [
    "* [Pie chart Docs](https://plot.ly/python/pie-charts/)"
   ]
  },
  {
   "cell_type": "markdown",
   "metadata": {},
   "source": [
    "#### Plotting variables"
   ]
  },
  {
   "cell_type": "code",
   "execution_count": 52,
   "metadata": {
    "collapsed": true
   },
   "outputs": [],
   "source": [
    "# Setting the colors for the different plots, \n",
    "# such that all plots get the same colors\n",
    "homeGreen = 'rgb(0, 204, 0)'\n",
    "hedeBlue  = 'rgb(0, 0, 255)'\n",
    "pieGreen  = homeGreen\n",
    "pieOrange = 'rgb(255, 128, 0)'\n",
    "pieRed    = 'rgb(204, 0, 0)'\n",
    "ticksAxes = 'rgb(107, 107, 107)'\n",
    "bgBorder  = 'rgba(255, 255, 255, 0)'"
   ]
  },
  {
   "cell_type": "markdown",
   "metadata": {},
   "source": [
    "#### Creating pie chart"
   ]
  },
  {
   "cell_type": "markdown",
   "metadata": {},
   "source": [
    "Missing: automatize the reading of files\n",
    "\n",
    "**Need to know whether to use only kictchen or living room and when to include both in roder to get the logic right** - can be seen from netatmo data."
   ]
  },
  {
   "cell_type": "code",
   "execution_count": 57,
   "metadata": {
    "collapsed": false
   },
   "outputs": [
    {
     "data": {
      "image/png": "[encoded data removed]",
      "text/plain": [
       "<IPython.core.display.Image object>"
      ]
     },
     "execution_count": 57,
     "metadata": {},
     "output_type": "execute_result"
    }
   ],
   "source": [
    "# Save plot to proper location\n",
    "folder = 'Visualization' # put all in folder: visualization\n",
    "plotType = '-fa'          # type: fresh air\n",
    "# week number and home alias from earlier variables\n",
    "directory = dir_name + \"/\" + folder + \"/\"\n",
    "\n",
    "# If directory path does not exist - create it\n",
    "if not path.exists(directory):\n",
    "    makedirs(directory)\n",
    "\n",
    "fullPathToPlot = directory + str(alias + plotType + \".png\")\n",
    "    \n",
    "val = [50, 20, 30]\n",
    "# Plot of air \n",
    "fig = {\n",
    "    'data': [{'labels': ['Indenfor anbefaling', 'Lidt over anbefaling', 'Over anbefaling'],\n",
    "              'values': val,\n",
    "              'type': 'pie',\n",
    "              'marker': {'colors': [pieGreen,\n",
    "                                    pieOrange,\n",
    "                                    pieRed]},\n",
    "              'textinfo': 'none'}],              \n",
    "    'layout': {'title': 'Frisk luft',\n",
    "                'autosize': False,\n",
    "                'width': 500,\n",
    "                'height': 500}\n",
    "     }\n",
    "\n",
    "# Save to folder\n",
    "py.image.save_as(fig, filename=fullPathToPlot)\n",
    "Image(fullPathToPlot) # Display static image\n",
    "# Plot result\n",
    "#py.iplot(fig)"
   ]
  },
  {
   "cell_type": "code",
   "execution_count": 62,
   "metadata": {
    "collapsed": false
   },
   "outputs": [
    {
     "data": {
      "image/png": "[encoded data removed]",
      "text/plain": [
       "<IPython.core.display.Image object>"
      ]
     },
     "execution_count": 62,
     "metadata": {},
     "output_type": "execute_result"
    }
   ],
   "source": [
    "# Save plot to proper location\n",
    "folder = 'Visualization'  # put all in folder: visualization\n",
    "plotType = '-hr'           # type: humidity rate\n",
    "# week number and home alias from earlier variables\n",
    "directory = dir_name + \"/\" + folder + \"/\"\n",
    "\n",
    "# If directory path does not exist - create it\n",
    "if not path.exists(directory):\n",
    "    makedirs(directory)\n",
    "\n",
    "fullPathToPlot = directory + str(alias + plotType + \".png\")\n",
    "    \n",
    "# Plot over fresh air \n",
    "fig = {\n",
    "    'data': [{'labels': ['Indenfor anbefaling', 'Lidt over anbefaling', 'Over anbefaling'],\n",
    "              'values': [40, 30, 30],\n",
    "              'type': 'pie', \n",
    "              'marker': {'colors': [pieGreen,\n",
    "                                    pieOrange,\n",
    "                                    pieRed]},\n",
    "              'textinfo': 'none'}],\n",
    "    'layout': {'title': 'Luftfugtighed',\n",
    "                'autosize': False,\n",
    "                'width': 500,\n",
    "                'height': 500},\n",
    "                \"paper_bgcolor\": \"rgba(0, 0, 0, 0)\",\n",
    "                \"plot_bgcolor\": \"rgba(0, 0, 0, 0)\",\n",
    "                \"opacity\": 0\n",
    "     }\n",
    "\n",
    "# Save to folder\n",
    "py.image.save_as(fig, filename=fullPathToPlot)\n",
    "# Plot result\n",
    "Image(fullPathToPlot) # Display a static image\n",
    "#py.iplot(fig)"
   ]
  },
  {
   "cell_type": "code",
   "execution_count": 165,
   "metadata": {
    "collapsed": false
   },
   "outputs": [
    {
     "data": {
      "text/plain": [
       "'Week_11/Visualization/testhr.png'"
      ]
     },
     "execution_count": 165,
     "metadata": {},
     "output_type": "execute_result"
    }
   ],
   "source": [
    "fullPathToPlot"
   ]
  },
  {
   "cell_type": "code",
   "execution_count": null,
   "metadata": {
    "collapsed": true
   },
   "outputs": [],
   "source": []
  },
  {
   "cell_type": "markdown",
   "metadata": {},
   "source": [
    "----\n",
    "## <span style=\"color:darkred\">Netatmo arbejde</span> "
   ]
  },
  {
   "cell_type": "markdown",
   "metadata": {},
   "source": [
    "### Find alle Netatmo filer"
   ]
  },
  {
   "cell_type": "code",
   "execution_count": 70,
   "metadata": {
    "collapsed": false
   },
   "outputs": [
    {
     "name": "stdout",
     "output_type": "stream",
     "text": [
      "Files:\n",
      "['K\\xf8kken_3_3_2017.xls', 'Sovev\\xe6relse_3_3_2017.xls', 'Stue_3_3_2017.xls'] \n",
      "\n",
      "Number of files: 3\n"
     ]
    }
   ],
   "source": [
    "# Find all files in folder\n",
    "# Keep all files with extension .xls (the Netatmo files)\n",
    "netatmo_files = []\n",
    "netatmo_files += [file for file in listdir('.') if file.endswith('.xls')]\n",
    "# Print list of files\n",
    "print \"Files:\\n\", netatmo_files, \"\\n\\nNumber of files: %d\" % len(netatmo_files)"
   ]
  },
  {
   "cell_type": "markdown",
   "metadata": {},
   "source": [
    "### Read Netatmo files"
   ]
  },
  {
   "cell_type": "markdown",
   "metadata": {},
   "source": [
    "#### Extract overall temperature for all homes - per room file"
   ]
  },
  {
   "cell_type": "code",
   "execution_count": 68,
   "metadata": {
    "collapsed": true
   },
   "outputs": [],
   "source": [
    "# use full file for extraction before splitting on home level\n",
    "#for files in netatmo_files:\n",
    "#    netatmo_data = pd.read_excel('Sovev\\xe6relse_3_3_2017.xls') \n"
   ]
  },
  {
   "cell_type": "markdown",
   "metadata": {},
   "source": [
    "#### Read data per home"
   ]
  },
  {
   "cell_type": "code",
   "execution_count": 97,
   "metadata": {
    "collapsed": false
   },
   "outputs": [
    {
     "name": "stdout",
     "output_type": "stream",
     "text": [
      "File:          K�kken_3_3_2017.xls\n",
      "Location name: He171, Køkken\n",
      "Max temp       22.8 \n",
      "Min temp       20.9 \n",
      "\n",
      "File:          Sovev�relse_3_3_2017.xls\n",
      "Location name: He171, Soveværelse\n",
      "Max temp       22.2 \n",
      "Min temp       18.2 \n",
      "\n",
      "File:          Stue_3_3_2017.xls\n",
      "Location name: He171, Stue\n",
      "Max temp       22.3 \n",
      "Min temp       19.8 \n",
      "\n"
     ]
    }
   ],
   "source": [
    "# Indlæs netatmo data -- this will need to extract data based on home\n",
    "for room_file in netatmo_files:\n",
    "    netatmo_data = pd.read_excel(room_file) \n",
    "    # Get name for output file\n",
    "    location_name = netatmo_data.iloc[0,0]\n",
    "\n",
    "    # Get room for output file\n",
    "    room_name = netatmo_data.iloc[0,3]\n",
    "    \n",
    "    # Change range of data and give new column names\n",
    "    netatmo_data.columns = netatmo_data.iloc[1,:]\n",
    "    netatmo_data = netatmo_data.drop(netatmo_data.index[[0,1]])\n",
    "    \n",
    "    # Make TimeSearies from Timestamp\n",
    "    netatmo_data[\"Timezone : Europe/Stockholm\"] = pd.to_datetime(netatmo_data[\"Timezone : Europe/Stockholm\"] )\n",
    "    # Print sheet values\n",
    "    print \"File:         \", room_file\n",
    "    print \"Location name:\", location_name + \",\", room_name\n",
    "    print \"Max temp      \", max(netatmo_data.Temperature), \"\\nMin temp      \", min(netatmo_data.Temperature), \"\\n\""
   ]
  },
  {
   "cell_type": "markdown",
   "metadata": {},
   "source": [
    "#### Extract CO2 and humidity data - separate files"
   ]
  },
  {
   "cell_type": "code",
   "execution_count": 64,
   "metadata": {
    "collapsed": false
   },
   "outputs": [],
   "source": [
    "# CO2\n",
    "# for each location\n",
    "# up to 1000     - greeen\n",
    "# 1000-1500      - gul\n",
    "# 1500 and above - red\n",
    "co2_1000 = netatmo_data.loc[netatmo_data['CO2'] < 1000]\n",
    "co2_1500 = co2_1000.loc[co2_1000['CO2'] > 1500]       \n",
    "co2_2000 = co2_1500.loc[co2_1500['CO2'] > 2000] \n",
    "# Need more info -- should the data be between 1000 and 1500, 1500 and 2000 and all above?\n",
    "\n",
    "# Should only run on data within present times.."
   ]
  },
  {
   "cell_type": "code",
   "execution_count": 89,
   "metadata": {
    "collapsed": false
   },
   "outputs": [],
   "source": [
    "# Humidity\n",
    "# Missing outdoor temp\n",
    "# Only for rooms with humidity measure\n",
    "hr_data = np.asarray(netatmo_data['Humidity'])\n",
    "t_i     = hr_data\n",
    "#hr_between = netatmo_data.loc[netatmo_data['CO2'] > 1500]       \n",
    "#hr_over    = netatmo_data.loc[netatmo_data['CO2'] > 2000] \n"
   ]
  },
  {
   "cell_type": "code",
   "execution_count": null,
   "metadata": {
    "collapsed": true
   },
   "outputs": [],
   "source": [
    "t_ude = ?\n",
    "t_v = np.add(np.multiply((1/3),t_ude), np.multiply((2/3)*t_i))"
   ]
  },
  {
   "cell_type": "code",
   "execution_count": null,
   "metadata": {
    "collapsed": true
   },
   "outputs": [],
   "source": [
    "p_mv = (exp(77.3450+0.0057*t_v)-7235/t_v)/t_v^8.2\n",
    "\n",
    "p_mi = (exp(np.multiply(77.3450+0.0057*t_i)-7235/t_i)/t_i^8.2"
   ]
  },
  {
   "cell_type": "code",
   "execution_count": 81,
   "metadata": {
    "collapsed": false
   },
   "outputs": [
    {
     "ename": "NameError",
     "evalue": "name 'rh_gul' is not defined",
     "output_type": "error",
     "traceback": [
      "\u001b[1;31m---------------------------------------------------------------------------\u001b[0m",
      "\u001b[1;31mNameError\u001b[0m                                 Traceback (most recent call last)",
      "\u001b[1;32m<ipython-input-81-7bc4f8489002>\u001b[0m in \u001b[0;36m<module>\u001b[1;34m()\u001b[0m\n\u001b[1;32m----> 1\u001b[1;33m \u001b[0mrh_gul\u001b[0m\u001b[1;33m\u001b[0m\u001b[0m\n\u001b[0m",
      "\u001b[1;31mNameError\u001b[0m: name 'rh_gul' is not defined"
     ]
    }
   ],
   "source": [
    "rh_gul  = 0.6*p_mv/p_mi\n",
    "rh_roed = 0.75*p_mv/p_mi"
   ]
  },
  {
   "cell_type": "code",
   "execution_count": 78,
   "metadata": {
    "collapsed": false
   },
   "outputs": [],
   "source": [
    "# Humidity\n",
    "# Missing outdoor temp\n",
    "# Only for rooms with humidity measure\n",
    "hr_data    = np.asarray(netatmo_data['Humidity'])\n",
    "#hr_between = netatmo_data.loc[netatmo_data['CO2'] > 1500]       \n",
    "#hr_over    = netatmo_data.loc[netatmo_data['CO2'] > 2000] "
   ]
  },
  {
   "cell_type": "code",
   "execution_count": 80,
   "metadata": {
    "collapsed": false
   },
   "outputs": [
    {
     "data": {
      "text/plain": [
       "array([42, 42, 42, ..., 44, 44, 44], dtype=object)"
      ]
     },
     "execution_count": 80,
     "metadata": {},
     "output_type": "execute_result"
    }
   ],
   "source": [
    "hr_"
   ]
  },
  {
   "cell_type": "markdown",
   "metadata": {},
   "source": [
    "### Temperature plot"
   ]
  },
  {
   "cell_type": "code",
   "execution_count": null,
   "metadata": {
    "collapsed": true
   },
   "outputs": [],
   "source": [
    "# Avg temp for all homes\n",
    "# When full dataset is present"
   ]
  },
  {
   "cell_type": "code",
   "execution_count": 77,
   "metadata": {
    "collapsed": false
   },
   "outputs": [
    {
     "data": {
      "image/png": "[encoded data removed]",
      "text/plain": [
       "<IPython.core.display.Image object>"
      ]
     },
     "execution_count": 77,
     "metadata": {},
     "output_type": "execute_result"
    }
   ],
   "source": [
    "# Save plot to proper location\n",
    "folder         = 'Visualization' # put all in folder: visualization\n",
    "plotType       = '-temp'          # type: temperature\n",
    "# Week number and home alias from earlier variables\n",
    "directory = dir_name + \"/\" + folder + \"/\"\n",
    "\n",
    "# If directory path does not exist - create it\n",
    "if not path.exists(directory):\n",
    "    makedirs(directory)\n",
    "\n",
    "fullPathToPlot = directory + str(alias + plotType + \".png\")\n",
    "\n",
    "# Plotting weekly temperature overview\n",
    "# Users comsumption\n",
    "trace1 = go.Scatter(\n",
    "          x = pd.to_datetime(netatmo_data[\"Timezone : Europe/Stockholm\"]),\n",
    "          y = list(netatmo_data.Temperature),\n",
    "    name = 'Din bolig', # Style name/legend entry with html tags\n",
    "    connectgaps=False\n",
    ")\n",
    "\n",
    "# Overall consumption mean for hedelyngen\n",
    "# To create mean of all homes -- read in full file and calculate mean per hour per day of week, data from what?\n",
    "\"\"\"trace2 = go.Scatter(\n",
    "    x=[1, 2, 3, 4, 5,\n",
    "       6, 7, 8, 9, 10,\n",
    "       11, 12, 13, 14, 15],\n",
    "    y=[5, 15, None, 10, 5,\n",
    "       0, 10, None, 15, 5,\n",
    "       5, 10, 20, 15, 5],\n",
    "    name = 'Hedelyngen',\n",
    ")\"\"\"\n",
    "\n",
    "data = [trace1]\n",
    "\n",
    "# Setting layout details for plot\n",
    "layout = go.Layout(\n",
    "    title='Ugentlig temperaturoversigt (Celcius), ' + location_name,\n",
    "    autosize=False,\n",
    "    width=900,\n",
    "    height=300,\n",
    "\n",
    "    xaxis=dict(\n",
    "        title='Dato',\n",
    "        tickfont=dict(\n",
    "            size=14,\n",
    "            color=ticksAxes\n",
    "        )\n",
    "    ),\n",
    "    \n",
    "    yaxis=dict(\n",
    "        range=[min(list(netatmo_data.Temperature))-1,max(list(netatmo_data.Temperature))+1],\n",
    "        title='Temperatur',\n",
    "        zeroline=True,\n",
    "        titlefont=dict(\n",
    "            size=16,\n",
    "            color=ticksAxes\n",
    "        ),\n",
    "        tickfont=dict(\n",
    "            size=16,\n",
    "            color=ticksAxes\n",
    "        )\n",
    "    ),\n",
    "    \n",
    "    legend=dict(\n",
    "        x=0,\n",
    "        y=1.0,\n",
    "        bgcolor=bgBorder,\n",
    "        bordercolor=bgBorder\n",
    "    )\n",
    ")\n",
    "\n",
    "fig = go.Figure(data=data, layout=layout)\n",
    "py.image.save_as(fig, filename=fullPathToPlot)\n",
    "Image(fullPathToPlot) # Display a static image"
   ]
  },
  {
   "cell_type": "markdown",
   "metadata": {},
   "source": [
    "### Heat consumption plot"
   ]
  },
  {
   "cell_type": "code",
   "execution_count": 180,
   "metadata": {
    "collapsed": false
   },
   "outputs": [
    {
     "data": {
      "image/png": "[encoded data removed]",
      "text/plain": [
       "<IPython.core.display.Image object>"
      ]
     },
     "execution_count": 180,
     "metadata": {},
     "output_type": "execute_result"
    }
   ],
   "source": [
    "# Save plot to proper location\n",
    "folder = 'Visualization'  # put all in folder: visualization\n",
    "plotType = '-hc'           # type: heat consumption\n",
    "# week number and home alias from earlier variables\n",
    "fullPathToPlot = dir_name + \"/\" + folder + \"/\" + alias + plotType + \".png\"\n",
    "\n",
    "# Plot of heat consumption, your home vs. all \n",
    "data = [go.Bar(\n",
    "            x=['Din bolig', 'Hedelyngen'],\n",
    "            y=[500, 400],\n",
    "            marker=dict(\n",
    "                  color= [homeGreen,hedeBlue]\n",
    "        )\n",
    "    )]\n",
    "\n",
    "layout = go.Layout(\n",
    "    title='Varmeforbrug, ' + location_name,\n",
    "    autosize=False,\n",
    "    width=300,\n",
    "    height=500,\n",
    "    xaxis=dict(\n",
    "        tickfont=dict(\n",
    "            size=14,\n",
    "            color=ticksAxes\n",
    "        )\n",
    "    ),\n",
    "    yaxis=dict(\n",
    "        title='kWh',\n",
    "        titlefont=dict(\n",
    "            size=16,\n",
    "            color=ticksAxes\n",
    "        ),\n",
    "        tickfont=dict(\n",
    "            size=14,\n",
    "            color=ticksAxes\n",
    "        )\n",
    "    ),\n",
    "    legend=dict(\n",
    "        x=0,\n",
    "        y=1.0,\n",
    "        bgcolor=bgBorder,\n",
    "        bordercolor=bgBorder\n",
    "    )\n",
    ")\n",
    "\n",
    "fig = go.Figure(data=data, layout=layout)\n",
    "# Save static image\n",
    "py.image.save_as(fig, filename=fullPathToPlot)\n",
    "Image(fullPathToPlot) # Display a static image\n",
    "\n",
    "#py.iplot(fig, filename='style-bar')"
   ]
  },
  {
   "cell_type": "markdown",
   "metadata": {},
   "source": []
  },
  {
   "cell_type": "markdown",
   "metadata": {},
   "source": [
    "### CO2 plot"
   ]
  },
  {
   "cell_type": "code",
   "execution_count": null,
   "metadata": {
    "collapsed": false
   },
   "outputs": [],
   "source": []
  },
  {
   "cell_type": "markdown",
   "metadata": {},
   "source": [
    "### Humidity plot"
   ]
  },
  {
   "cell_type": "code",
   "execution_count": null,
   "metadata": {
    "collapsed": true
   },
   "outputs": [],
   "source": []
  },
  {
   "cell_type": "code",
   "execution_count": null,
   "metadata": {
    "collapsed": true
   },
   "outputs": [],
   "source": []
  },
  {
   "cell_type": "code",
   "execution_count": null,
   "metadata": {
    "collapsed": true
   },
   "outputs": [],
   "source": []
  },
  {
   "cell_type": "markdown",
   "metadata": {},
   "source": [
    "## <span style=\"color:darkred\">Accessing Netatmo from their API</span>\n",
    "* [API description on GitHub](https://github.com/philippelt/netatmo-api-python)"
   ]
  },
  {
   "cell_type": "code",
   "execution_count": 116,
   "metadata": {
    "collapsed": true
   },
   "outputs": [],
   "source": [
    "import lnetatmo"
   ]
  },
  {
   "cell_type": "code",
   "execution_count": 176,
   "metadata": {
    "collapsed": true
   },
   "outputs": [],
   "source": [
    "# 'indeklima.forsog@gmail.com'"
   ]
  },
  {
   "cell_type": "code",
   "execution_count": null,
   "metadata": {
    "collapsed": true
   },
   "outputs": [],
   "source": []
  }
 ],
 "metadata": {
  "anaconda-cloud": {},
  "kernelspec": {
   "display_name": "Python [Root]",
   "language": "python",
   "name": "Python [Root]"
  },
  "language_info": {
   "codemirror_mode": {
    "name": "ipython",
    "version": 2
   },
   "file_extension": ".py",
   "mimetype": "text/x-python",
   "name": "python",
   "nbconvert_exporter": "python",
   "pygments_lexer": "ipython2",
   "version": "2.7.12"
  }
 },
 "nbformat": 4,
 "nbformat_minor": 0
}
