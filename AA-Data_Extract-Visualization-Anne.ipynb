{
 "cells": [
  {
   "cell_type": "markdown",
   "metadata": {},
   "source": [
    "#  <span style=\"color:darkred\">Data extraction and visualization</span>\n",
    "The below scripts are made by Henriette Steenhoff, s134869, to help visualize the sampling of different indoor climate measures for the master thesis of Anne Sloth Bidstrup, s112862 at The Technical University of Denmark (DTU) anno 2017.\n",
    "\n",
    "----"
   ]
  },
  {
   "cell_type": "markdown",
   "metadata": {},
   "source": [
    "##  <span style=\"color:darkred\">Information about the different data sources</span>\n",
    "### Structure data in weekly batches\n",
    "* Processed data for each week (all time)\n",
    " * Such that it can be used for all time analysis\n",
    "* Processed data hourly (maybe)\n",
    "* Different diagrams/plots/visualizations\n",
    "*\n",
    "\n",
    "#### For hver bolig\n",
    "* State number of rooms and names\n",
    "\n",
    "### De forskellige datakilder\n",
    "* CO2 + varme + fugtighed fra netatmo - kun 3 rum, 3 forksellige ark\n",
    " * Luftfugtighed - for hvert rum - brug al data, lav inddeling som i feedback brev\n",
    " * CO2 -- vigtig ifm. ``PIR`` og ``reed``- for stue/køkken og soveværelse\n",
    "* Temp fra Bygweb - sorteres fra\n",
    "\n",
    "### Different measures, what to use\n",
    "``Pir`` and ``reed`` -- merge tables!\n",
    "\n",
    "#### ``PIR`` - bevægelsescensor\n",
    "* Det spændende, tegn på hjemme hvis mellem ``close`` og ``open``\n",
    "* ``Timed out`` - no more move, **kan sorteres fra**\n",
    "\n",
    "#### ``Reed`` - dør\n",
    "* Present/home values ``open/close``\n",
    "\n",
    "#### ``Compas/Acc`` - moved, mangler lidt på \n",
    "* ONLY ``moved``\n",
    "* Sorted by room\n",
    "* *Number of entities*\n",
    "* % of time one has been at home\n",
    "\n",
    "Heat consumption - average\n",
    "\n",
    "``Hedelyngen`` - avg of all homes - kommer et andet sted fra"
   ]
  },
  {
   "cell_type": "markdown",
   "metadata": {},
   "source": [
    "----\n",
    "### Documentation\n",
    "Some references for help on different coding solutions\n",
    "\n",
    "* [Panda Docs](http://pandaproject.net/docs/importing-access-files.html)\n",
    "* [Plotly Docs](https://plot.ly/python/ipython-notebook-tutorial/)\n",
    "\n",
    "### To-do:\n",
    "- Look into possibilities for making transparent background on plots to save $\\checkmark$ - *given as argument in plot* [see here](http://stackoverflow.com/questions/29968152/python-setting-background-color-to-transparent-in-plotly-plots)\n",
    "- Find target group in need of feedback $\\checkmark$ - Anne has list\n",
    "- Separate processed datasets from raw data (in folders) $\\checkmark$ - done ultimo March\n",
    "- Make system to distinguish between weeks and different users $\\checkmark$ - *weekly folders, alias and room identifiers*\n",
    "\n",
    "----"
   ]
  },
  {
   "cell_type": "markdown",
   "metadata": {},
   "source": [
    "## <span style=\"color:darkred\">Explanation of how to run the code</span>"
   ]
  },
  {
   "cell_type": "markdown",
   "metadata": {},
   "source": [
    "This section will give a brief introduction on how to\n",
    " * name the different files to be read\n",
    " * structure the raw data in order to be loaded into the program\n",
    " * find the different plots and output files\n",
    " \n",
    "### I/O description\n",
    "All input files must be put in the root of the directory. As this is done, the files used the week before (if any) needs to be moved to the weekly folder associated with the data. I.e. data from week 10 is still in root directory, move this to the folder ``Week_10`` - otherwise the data will not be read correctly.\n",
    "\n",
    "#### Folder structure\n",
    "This information is used for organizing files into right folders in the working directory.\n",
    "\n",
    "* For each week there will be a folder named ``Week_x``, where ``x`` denotes the week. \n",
    " * In the weekly folder there are two subfolders: ``Visualizations`` and ``ProcessedData``.\n",
    "   * ``Visualizations`` contains bar charts, pie chart and plots for each week generated with the code below. Each home is uniquely identified by it's ``ID``.\n",
    "   * ``ProcessedData`` contains all data used in that week sorted into files for each room in the house, this is the data extracted below. The different homes can be identified by the aliases made by Anne and a room identifier $\\{stue, værelse\\}$ etc. \n",
    "\n",
    "Since the data from Netatmo and Wireless will be interdependent, there will be no separate folder for the data sources. *Some data (unused fields and observations) has been removed to improve performance.*\n",
    "\n",
    "#### Naming convention\n",
    "#### Data files\n",
    "Can all be found on dropbox in weekly folders in '``Program - filudtræk og arbejde``' in folder '``ProcessedData``' and subfolder '``AccCompas``' or '``PIRReed``'. There will be one file for each room.\n",
    "\n",
    "**PIR/Reed**\n",
    "\n",
    "Name: '``alias``-**PIRReed**``_room``.xlsx'\n",
    "\n",
    "i.e ``he117-PIRReed_livingroom.xlsx``\n",
    "\n",
    "**AccCompas**\n",
    "\n",
    "Name: '``alias``-**AccCompas**``_room``.xlsx'\n",
    "\n",
    "i.e ``he117-AccCompas_kitchen.xlsx``\n",
    "#### PLOTS\n",
    "All the visualizations are found in folder ``ProcessedData`` in subfolder ``Visualizations``. Filenames will start with the ``alias`` for the home at hand and be followed by an indication of which output we have $\\{temp, co2, AccCompas, HR\\}$ and what room the measurements belong to: $\\{stue, værelse, entrance\\}$.\n",
    "\n",
    "\n",
    "**CO2 plot** \n",
    "\n",
    "Name: '``alias``-**co2**-``room``.png'\n",
    "\n",
    "**Temperature plot** \n",
    "\n",
    "Name: '``alias``-**temp**-``room``.png'\n",
    "\n",
    "**Movement** \n",
    "\n",
    "Name: '``alias``-**AccCompas**-``room``.png'\n",
    "\n",
    "**Humidity rate** \n",
    "\n",
    "Name: '``alias``-**HR**-``room``.png'\n",
    "\n",
    "\n",
    "### Running the code\n",
    "<span style=\"color:darkred\">Description will be added shortly</span>"
   ]
  },
  {
   "cell_type": "markdown",
   "metadata": {},
   "source": [
    "----\n",
    "## <span style=\"color:darkred\">Data Preprocessing</span>"
   ]
  },
  {
   "cell_type": "code",
   "execution_count": 248,
   "metadata": {
    "collapsed": false
   },
   "outputs": [],
   "source": [
    "# Imports - getting relevant libraries\n",
    "import pandas as pd\n",
    "import matplotlib.pyplot as plt\n",
    "%matplotlib inline\n",
    "import urllib2\n",
    "from collections import Counter \n",
    "import numpy as np\n",
    "from operator import itemgetter\n",
    "from scipy import linalg\n",
    "from os import *\n",
    "from os.path import isfile, join\n",
    "import time\n",
    "from datetime import date, timedelta\n",
    "import datetime\n",
    "from pylab import *\n",
    "\n",
    "import plotly \n",
    "from IPython.display import Image\n",
    "plotly.tools.set_credentials_file(username='frksteenhoff2', api_key='duu8hsfRmuI5rF2EU8o5')\n",
    "import plotly.plotly as py\n",
    "import plotly.plotly as py\n",
    "from plotly.graph_objs import *\n",
    "import plotly.graph_objs as go\n",
    "import re\n",
    "from fractions import Fraction"
   ]
  },
  {
   "cell_type": "markdown",
   "metadata": {},
   "source": [
    "### Extracting basic information for the data"
   ]
  },
  {
   "cell_type": "markdown",
   "metadata": {},
   "source": [
    "**Get currect week of year ($weekOfYear - 1$)**"
   ]
  },
  {
   "cell_type": "code",
   "execution_count": 3,
   "metadata": {
    "collapsed": false
   },
   "outputs": [
    {
     "name": "stdout",
     "output_type": "stream",
     "text": [
      "Week number: 13\n"
     ]
    }
   ],
   "source": [
    "# Minus one to indicate work on last week's data\n",
    "weekNumber = date.today().isocalendar()[1]-1\n",
    "print 'Week number:', weekNumber"
   ]
  },
  {
   "cell_type": "markdown",
   "metadata": {},
   "source": [
    "**Create new week folder in directory**"
   ]
  },
  {
   "cell_type": "code",
   "execution_count": 282,
   "metadata": {
    "collapsed": false
   },
   "outputs": [
    {
     "name": "stdout",
     "output_type": "stream",
     "text": [
      "An existing folder named 'Week_13' was used\n"
     ]
    }
   ],
   "source": [
    "# Adding new folder Week_'x' to directory \n",
    "dir_name = \"Week_\"+str(weekNumber)\n",
    "if not path.exists(dir_name):\n",
    "    makedirs(dir_name)\n",
    "    print \"A new folder named '%s' have been created for data from week %d.\" % (dir_name, weekNumber)\n",
    "else:\n",
    "    print \"An existing folder named '%s' was used\" % dir_name"
   ]
  },
  {
   "cell_type": "markdown",
   "metadata": {},
   "source": [
    "#### Methods for saving files correctly\n",
    "This function is used when saving files to a certain directory. It is used when the data has been processed such that only the needed data is left. This is being done when merging **Acc/Compas** and **PIR/Reed**. "
   ]
  },
  {
   "cell_type": "code",
   "execution_count": 283,
   "metadata": {
    "collapsed": false
   },
   "outputs": [],
   "source": [
    "def saveDataToFile(dir_, alias, string, df, dfcol, pattern): # string: concatenation of: censortype, room and file format (xlsx)\n",
    "    # Taking care of aaaaall the different spellings of the rooms... adding to different files\n",
    "    temp = df.loc[df[dfcol].str.contains(pattern)]\n",
    "    \n",
    "    # Only save file if it actually contains something\n",
    "    if not temp.empty:\n",
    "        full_path_filename = (dir_+alias+string).strip(' ') \n",
    "        writer = pd.ExcelWriter(full_path_filename, engine='xlsxwriter')\n",
    "        print \"Saving values for '%s', in all: %d\" % (alias, len(temp))\n",
    "        temp.to_excel(writer)\n",
    "        writer.save()        "
   ]
  },
  {
   "cell_type": "markdown",
   "metadata": {},
   "source": [
    "#### Patterns - taking care of different spellings and naming conventions for the rooms\n",
    "\n",
    "*Can be optimised but is not a priority right now*"
   ]
  },
  {
   "cell_type": "code",
   "execution_count": 284,
   "metadata": {
    "collapsed": false
   },
   "outputs": [],
   "source": [
    "# LISTS OF DIFFERENT NAMES GIVEN FOR EACH ROOM.....\n",
    "# Entrance\n",
    "entre_pattern = '|'.join(['Entre PIR', 'EntrÃ© PIR', 'upstairs', \n",
    "                          'entrance/kitchen', 'hallway', 'PIR entrance',\n",
    "                          'entrance','PIR gang', 'PIR stairs',\n",
    "                          'Reed main enterance', 'reed main enterance',\n",
    "                          'Reed main entrance', 'PIR Entre', 'Reed Main door',\n",
    "                          'PIR trapper', 'Pir stairs', 'main entrance reed north',\n",
    "                          'pir entrance', 'pir stairs', 'main enterance', 'Reed entrance', 'Main door Reed',\n",
    "                          'entrance', 'entre', 'main entrance reed', 'Reed'])\n",
    "# Living room\n",
    "livingroom_pattern = '|'.join(['Stue PIR', 'PIR stue', 'PIR livingroom','PIR upstairs office/livingroom',\n",
    "                               'PIR 1st floor living room', 'PIR uostairs living room', \n",
    "                               'living room', 'livingroom', 'stue', 'Stue',\n",
    "                               'kitchen south', 'kitchen', 'kitchen South', 'livingroom/bedroom/kitchen', 'kken'])\n",
    "\n",
    "bedroom_pattern = '|'.join(['Bedroom', 'bedroom', 'bed room', 'sove', 'Sove', 'uptairs'])"
   ]
  },
  {
   "cell_type": "markdown",
   "metadata": {},
   "source": [
    "----\n",
    "## <span style=\"color:darkred\">Wireless work</span>"
   ]
  },
  {
   "cell_type": "markdown",
   "metadata": {
    "collapsed": true
   },
   "source": [
    "### Merge ``PIR`` and ``Reed``"
   ]
  },
  {
   "cell_type": "code",
   "execution_count": 285,
   "metadata": {
    "collapsed": false
   },
   "outputs": [],
   "source": [
    "# TABLE WITH ALL HOMES (for current week)\n",
    "# Initialize dataframe\n",
    "pir_reed_merge = pd.DataFrame()\n",
    "fileNames = ['PIR', 'Reed']\n",
    "\n",
    "# Read in files for PIR and Reed and merge to one \n",
    "for name in fileNames:\n",
    "    data = pd.read_excel(name+\".xlsx\", name)\n",
    "    pir_reed_merge = pir_reed_merge.append(data)"
   ]
  },
  {
   "cell_type": "code",
   "execution_count": 286,
   "metadata": {
    "collapsed": false
   },
   "outputs": [],
   "source": [
    "#pir_reed_merge"
   ]
  },
  {
   "cell_type": "markdown",
   "metadata": {},
   "source": [
    "#### Remove all codes with values ``tempUpdate, TimeOut, ReEstablishedLink`` and ``LostLink``"
   ]
  },
  {
   "cell_type": "code",
   "execution_count": 287,
   "metadata": {
    "collapsed": false
   },
   "outputs": [
    {
     "name": "stdout",
     "output_type": "stream",
     "text": [
      "Number of observations (temperature included): 27895\n",
      "Number of observations (temperature excluded): 16213\n"
     ]
    }
   ],
   "source": [
    "# Remove unwanted temperature measuresold_obs = len(pir_reed_merge)\n",
    "old_obs = len(pir_reed_merge)\n",
    "pir_reed_merge = pir_reed_merge.loc[pir_reed_merge['code'].isin(['movement','open','closed'])]\n",
    "\n",
    "# Remove unnecessary features (duration, lastContact, threshold, batVoltage, ID, time)\n",
    "pir_reed_merge.drop(['duration','lastContact','threshold','battVoltage','ID','time_', 'rh', 'temp'], axis=1)\n",
    "\n",
    "new_obs = len(pir_reed_merge)\n",
    "print \"Number of observations (temperature included):\", old_obs\n",
    "print \"Number of observations (temperature excluded):\", new_obs"
   ]
  },
  {
   "cell_type": "markdown",
   "metadata": {},
   "source": [
    "### Saving Wireless data to files\n",
    "\n",
    "The different naming conventions are handled by the different patterns in the preprocessing section.\n",
    "\n",
    "Be advised! Due to lacking consistency in naming convention **some devices may not be included here**. Please make sure that running the code in section *Merging files containing same type of information* include the same room names as the ones  commented out below. -- otherwise contact Henriette."
   ]
  },
  {
   "cell_type": "markdown",
   "metadata": {},
   "source": [
    "#### Create individual files for each home\n",
    "Containing merged PIR/Reed samples sorted by timestamp"
   ]
  },
  {
   "cell_type": "code",
   "execution_count": 288,
   "metadata": {
    "collapsed": false
   },
   "outputs": [
    {
     "name": "stdout",
     "output_type": "stream",
     "text": [
      "Saving values for 'Ho46', in all: 94\n",
      "Saving values for 'He145', in all: 46\n",
      "Saving values for 'Aalbrovej21He59', in all: 156\n",
      "Saving values for 'He183', in all: 149\n",
      "Saving values for 'He99', in all: 14\n",
      "Saving values for 'Ho48', in all: 114\n",
      "Saving values for 'He107', in all: 284\n",
      "Saving values for 'He107', in all: 78\n",
      "Saving values for 'ho24', in all: 140\n",
      "Saving values for 'ho24', in all: 80\n",
      "Saving values for 'He104', in all: 146\n",
      "Saving values for 'He87', in all: 180\n",
      "Saving values for 'he147', in all: 71\n",
      "Saving values for 'Ho92', in all: 90\n",
      "Saving values for 'he143', in all: 153\n",
      "Saving values for 'he141', in all: 133\n",
      "Saving values for 'he103', in all: 70\n",
      "Saving values for 'he103', in all: 47\n",
      "Saving values for 'He197', in all: 76\n",
      "Saving values for 'He197', in all: 176\n",
      "Saving values for 'He61', in all: 412\n",
      "Saving values for 'He61', in all: 98\n",
      "Saving values for 'he109', in all: 73\n",
      "Saving values for 'he109', in all: 38\n",
      "Saving values for 'He27', in all: 60\n",
      "Saving values for 'He27', in all: 40\n",
      "Saving values for 'He69', in all: 300\n",
      "Saving values for 'He69', in all: 120\n",
      "Saving values for 'He57', in all: 121\n",
      "Saving values for 'Ho70', in all: 62\n",
      "Saving values for 'He221', in all: 37\n",
      "Saving values for 'ho98', in all: 323\n",
      "Saving values for 'ho98', in all: 105\n",
      "Saving values for 'Aalbrovej21', in all: 320\n",
      "Saving values for 'Aalbrovej21', in all: 1203\n",
      "Saving values for 'he61', in all: 71\n",
      "Saving values for 'He131', in all: 189\n",
      "Saving values for 'He131', in all: 91\n",
      "Saving values for 'He115', in all: 748\n",
      "Saving values for 'He171', in all: 258\n",
      "Saving values for 'He171', in all: 78\n",
      "Saving values for 'He111', in all: 436\n",
      "Saving values for 'He113', in all: 910\n",
      "Saving values for 'ho72', in all: 157\n",
      "Saving values for 'ho72', in all: 93\n",
      "Saving values for 'he87', in all: 155\n",
      "Saving values for 'he117', in all: 290\n",
      "Saving values for 'Klakkebjerg-Tasnim', in all: 7\n",
      "Saving values for 'he9', in all: 327\n",
      "Saving values for 'He93', in all: 400\n",
      "Saving values for 'Ho20', in all: 165\n",
      "Saving values for 'He25', in all: 154\n",
      "Saving values for 'He25', in all: 11\n",
      "Saving values for 'He59', in all: 794\n",
      "Saving values for 'He59', in all: 2044\n",
      "Saving values for 'He35', in all: 686\n",
      "Saving values for 'he139', in all: 67\n",
      "Saving values for 'he139', in all: 74\n",
      "\n",
      "--- Execution time: 9.20499992371 seconds ---\n"
     ]
    }
   ],
   "source": [
    "# Clock time spent on execution\n",
    "start_time = time.time()\n",
    "\n",
    "# Produces the path Weekx/ProcessedData/Hexxx-'room'.xlsx\n",
    "directory = dir_name + \"/ProcessedData/PIRReed/\"\n",
    "\n",
    "# If directory path does not exist - create it\n",
    "if not path.exists(directory):\n",
    "    makedirs(directory)\n",
    "\n",
    "# Merge correct files based on content type\n",
    "for alias in list(set(pir_reed_merge['bolig'])):\n",
    "    # Get data for specific home\n",
    "    current_home = (pir_reed_merge.loc[pir_reed_merge['bolig'].isin([alias])]).sort_values(by=['submitDate','submitTime'])\n",
    "\n",
    "    # Entrance\n",
    "    saveDataToFile(directory, alias, \"-PIRReed_entrance.xlsx\", current_home, 'tagName', entre_pattern)\n",
    "    # Living room\n",
    "    saveDataToFile(directory, alias, \"-PIRReed_livingroom.xlsx\", current_home, 'tagName', livingroom_pattern)\n",
    "\n",
    "    \n",
    "\n",
    "\n",
    "#    not all have both pir + reed?\n",
    "#    # nothing on bedroom?\n",
    "#    # Bathroom - NOT NEEDED??\n",
    "#    saveDataToFile(directory, alias, \"-PIRReed_bathroom.xlsx\", current_home, 'tagName', missing_pattern)\n",
    "print(\"\\n--- Execution time: %s seconds ---\" % (time.time() - start_time))"
   ]
  },
  {
   "cell_type": "code",
   "execution_count": 289,
   "metadata": {
    "collapsed": false
   },
   "outputs": [
    {
     "name": "stdout",
     "output_type": "stream",
     "text": [
      "nothing\n",
      "nothing\n",
      "nothing\n",
      "nothing\n",
      "nothing\n",
      "nothing\n",
      "nothing\n",
      "nothing\n",
      "nothing\n",
      "nothing\n",
      "nothing\n",
      "nothing\n",
      "nothing\n",
      "nothing\n",
      "nothing\n",
      "nothing\n",
      "nothing\n",
      "nothing\n",
      "nothing\n",
      "nothing\n",
      "nothing\n",
      "nothing\n",
      "nothing\n",
      "nothing\n",
      "nothing\n",
      "nothing\n",
      "nothing\n",
      "nothing\n",
      "nothing\n",
      "nothing\n",
      "nothing\n",
      "nothing\n",
      "nothing\n",
      "nothing\n",
      "nothing\n",
      "nothing\n",
      "nothing\n",
      "nothing\n",
      "nothing\n",
      "nothing\n",
      "nothing\n",
      "nothing\n",
      "nothing\n",
      "nothing\n",
      "nothing\n",
      "nothing\n",
      "nothing\n",
      "nothing\n",
      "nothing\n",
      "nothing\n",
      "nothing\n",
      "nothing\n",
      "nothing\n",
      "nothing\n",
      "nothing\n",
      "nothing\n",
      "nothing\n",
      "nothing\n",
      "nothing\n",
      "nothing\n",
      "nothing\n",
      "nothing\n",
      "nothing\n",
      "nothing\n",
      "nothing\n",
      "nothing\n",
      "nothing\n",
      "nothing\n",
      "nothing\n",
      "nothing\n",
      "nothing\n",
      "nothing\n",
      "nothing\n",
      "nothing\n",
      "nothing\n",
      "nothing\n",
      "nothing\n",
      "nothing\n",
      "nothing\n",
      "nothing\n",
      "nothing\n",
      "nothing\n",
      "nothing\n",
      "nothing\n",
      "nothing\n",
      "nothing\n",
      "nothing\n",
      "nothing\n",
      "nothing\n",
      "nothing\n",
      "nothing\n",
      "nothing\n",
      "nothing\n",
      "nothing\n",
      "nothing\n",
      "nothing\n",
      "nothing\n",
      "nothing\n",
      "nothing\n",
      "nothing\n",
      "nothing\n",
      "nothing\n",
      "nothing\n",
      "nothing\n",
      "nothing\n",
      "nothing\n",
      "nothing\n",
      "nothing\n",
      "nothing\n",
      "nothing\n",
      "nothing\n",
      "nothing\n",
      "nothing\n",
      "nothing\n",
      "nothing\n",
      "nothing\n",
      "nothing\n",
      "nothing\n",
      "nothing\n",
      "nothing\n",
      "nothing\n",
      "nothing\n",
      "nothing\n",
      "nothing\n",
      "nothing\n",
      "nothing\n",
      "nothing\n",
      "nothing\n",
      "nothing\n",
      "nothing\n",
      "nothing\n",
      "nothing\n",
      "nothing\n",
      "nothing\n",
      "nothing\n"
     ]
    }
   ],
   "source": [
    "#current_home.submitTime = pd.to_datetime(current_home.submitTime)\n",
    "time_home = datetime.timedelta()\n",
    "closedLast = False;\n",
    "\n",
    "# find time home a day per home\n",
    "for row in range(0,len(current_home)):\n",
    "    if current_home.iloc[row,3] == 'closed' and not closedLast: # we only look at movement between door closes and door open again\n",
    "        close_row = row\n",
    "        closedLast = True\n",
    "    elif current_home.iloc[row,3] == 'open' and closedLast:\n",
    "        open_row = row\n",
    "        time_elapsed = pd.to_datetime(current_home.iloc[open_row,9], format='%H:%M:%S') - pd.to_datetime(current_home.iloc[close_row,9], format='%H:%M:%S')\n",
    "        time_home += time_elapsed\n",
    "        closedLast = False\n",
    "    elif row == len(current_home)-1:\n",
    "        open_row = row\n",
    "        time_elapsed = pd.to_datetime(current_home.iloc[open_row,9], format='%H:%M:%S') - pd.to_datetime(current_home.iloc[close_row,9], format='%H:%M:%S')\n",
    "        time_home += time_elapsed\n",
    "    else:\n",
    "        print 'nothing'\n",
    "        # TODO: take care of values when start !open and !close\n",
    "        "
   ]
  },
  {
   "cell_type": "code",
   "execution_count": 290,
   "metadata": {
    "collapsed": false
   },
   "outputs": [
    {
     "data": {
      "text/plain": [
       "Timedelta('0 days 13:42:38')"
      ]
     },
     "execution_count": 290,
     "metadata": {},
     "output_type": "execute_result"
    }
   ],
   "source": [
    "#home_data\n",
    "timeHomeOfDay = time_home\n",
    "timeHomeOfDay"
   ]
  },
  {
   "cell_type": "markdown",
   "metadata": {},
   "source": [
    "### Get days in week"
   ]
  },
  {
   "cell_type": "code",
   "execution_count": 291,
   "metadata": {
    "collapsed": false
   },
   "outputs": [],
   "source": [
    "dates = []\n",
    "# ----- Update for each week! ------- #\n",
    "d1 = date(2017, 2, 20)  # start date\n",
    "d2 = date(2017, 2, 26)  # end date\n",
    "\n",
    "delta = d2 - d1         # timedelta\n",
    "\n",
    "for i in range(delta.days + 1):\n",
    "    dates.append(d1 + timedelta(days=i))"
   ]
  },
  {
   "cell_type": "markdown",
   "metadata": {},
   "source": [
    "#### Extract number of movements (open/close of window) per week day"
   ]
  },
  {
   "cell_type": "code",
   "execution_count": 292,
   "metadata": {
    "collapsed": false
   },
   "outputs": [
    {
     "name": "stdout",
     "output_type": "stream",
     "text": [
      "[0, 0, 27, 32, 25, 19, 33]\n"
     ]
    }
   ],
   "source": [
    "listMovements = []\n",
    "\n",
    "for date in dates:\n",
    "    day_movement = current_home.loc[current_home['submitDate'].isin([date])]\n",
    "    noOfMovements = len(day_movement.loc[day_movement['code'].isin(['movement'])])\n",
    "    listMovements.append(noOfMovements)\n",
    "print listMovements"
   ]
  },
  {
   "cell_type": "code",
   "execution_count": 163,
   "metadata": {
    "collapsed": false
   },
   "outputs": [
    {
     "data": {
      "text/plain": [
       "32"
      ]
     },
     "execution_count": 163,
     "metadata": {},
     "output_type": "execute_result"
    }
   ],
   "source": [
    "#dates\n",
    "len(current_home.loc[current_home['submitDate'].isin(['2017-02-22'])])"
   ]
  },
  {
   "cell_type": "markdown",
   "metadata": {},
   "source": [
    "### Getting number of times door has been opened per room ``while`` movement indoor\n",
    "Homes can be extracted from folder ``PIRReed``, open/close per days is not interesting it is the overall weekly picture that is taken into account."
   ]
  },
  {
   "cell_type": "code",
   "execution_count": null,
   "metadata": {
    "collapsed": true
   },
   "outputs": [],
   "source": []
  },
  {
   "cell_type": "markdown",
   "metadata": {},
   "source": [
    "#### Find all files with certain extension (something with \"door\" in data directory for processed data)"
   ]
  },
  {
   "cell_type": "code",
   "execution_count": 23,
   "metadata": {
    "collapsed": false
   },
   "outputs": [
    {
     "name": "stdout",
     "output_type": "stream",
     "text": [
      "Number of observations (temperature included): 27895\n",
      "Number of observations (temperature excluded): 2088\n",
      "Saving values for 'Ho46', in all: 6\n",
      "Saving values for 'Ho46', in all: 10\n",
      "Saving values for 'He145', in all: 106\n",
      "Saving values for 'He183', in all: 1\n",
      "Saving values for 'Ho48', in all: 7\n",
      "Saving values for 'He107', in all: 18\n",
      "Saving values for 'He107', in all: 10\n",
      "Saving values for 'He104', in all: 4\n",
      "Saving values for 'ho48', in all: 4\n",
      "Saving values for 'He87', in all: 10\n",
      "Saving values for 'Ho92', in all: 1\n",
      "Saving values for 'he143', in all: 5\n",
      "Saving values for 'he143', in all: 6\n",
      "Saving values for 'he103', in all: 18\n",
      "Saving values for 'He197', in all: 4\n",
      "Saving values for 'He61', in all: 7\n",
      "Saving values for 'he109', in all: 3\n",
      "Saving values for 'He27', in all: 13\n",
      "Saving values for 'He69', in all: 21\n",
      "Saving values for 'He221', in all: 2\n",
      "Saving values for 'he9', in all: 3\n",
      "Saving values for 'ho98', in all: 36\n",
      "Saving values for 'he61', in all: 2\n",
      "Saving values for 'he61', in all: 4\n",
      "Saving values for 'He115', in all: 1\n",
      "Saving values for 'He93', in all: 17\n",
      "Saving values for 'He113', in all: 17\n",
      "Saving values for 'he117', in all: 17\n",
      "Saving values for 'he141', in all: 112\n",
      "Saving values for 'He57', in all: 2\n",
      "Saving values for 'He59', in all: 4\n",
      "\n",
      "--- Execution time: 4.57300019264 seconds ---\n"
     ]
    }
   ],
   "source": [
    "# Clock time spent on execution\n",
    "start_time = time.time()\n",
    "\n",
    "# Initialize dataframe\n",
    "acc_compas_merge = pd.DataFrame()\n",
    "fileNames = ['Compas', 'Acc']\n",
    "directory = dir_name + \"/ProcessedData/AccCompas/\"\n",
    "\n",
    "# If directory path does not exist - create it\n",
    "if not path.exists(directory):\n",
    "    makedirs(directory)\n",
    "\n",
    "# Read in files for Compas / Acc merge to one \n",
    "for name in fileNames:\n",
    "    # Only read in needed columns\n",
    "    data = pd.read_excel(name+\".xlsx\", name)# usecols=['tagName','tagID','code','bolig','temp','rh','submitDate','submitTime'])\n",
    "    acc_compas_merge = acc_compas_merge.append(data)\n",
    "\n",
    "# Count initial number of observations\n",
    "#old_obs = len(acc_compas_merge)\n",
    "#print old_obs\n",
    "\n",
    "# Keep only code value 'moved'\n",
    "acc_compas = acc_compas_merge.loc[acc_compas_merge['code'].isin(['moved'])]\n",
    "# Removed unused columns (for a smaller file size to save)\n",
    "acc_compas = acc_compas.drop(['temp','lastContact','threshold','battVoltage','ID','rh'], axis=1)\n",
    "\n",
    "print \"Number of observations (temperature included):\", old_obs\n",
    "print \"Number of observations (temperature excluded):\", len(acc_compas), \"\\n\"\n",
    "\n",
    "# Sort values from each room into separate files\n",
    "for alias in list(set(acc_compas['bolig'])):\n",
    "    # Get data for specific home\n",
    "    current_home = (acc_compas.loc[acc_compas['bolig'].isin([alias])]).sort_values(by=['submitDate','submitTime'])\n",
    "    # save bedroom info to file     #wayprettiercode (dir_, alias, string, df, dfcol, pattern)\n",
    "    saveDataToFile(directory, alias, \"-AccCompas_bedroom.xlsx\", current_home, 'tagName', livingroom_pattern)\n",
    "    # Save kitchen info to file\n",
    "    saveDataToFile(directory, alias, \"-AccCompas_kitchen.xlsx\", current_home, 'tagName', kitchen_pattern)\n",
    "\n",
    "print(\"\\n--- Execution time: %s seconds ---\" % (time.time() - start_time))"
   ]
  },
  {
   "cell_type": "markdown",
   "metadata": {
    "collapsed": false
   },
   "source": [
    "#### Merging moved data with PIR/Reed?"
   ]
  },
  {
   "cell_type": "code",
   "execution_count": null,
   "metadata": {
    "collapsed": false
   },
   "outputs": [],
   "source": []
  },
  {
   "cell_type": "markdown",
   "metadata": {},
   "source": [
    "### Getting data for pie charts"
   ]
  },
  {
   "cell_type": "markdown",
   "metadata": {
    "collapsed": true
   },
   "source": [
    "* [Pie chart Docs](https://plot.ly/python/pie-charts/)"
   ]
  },
  {
   "cell_type": "markdown",
   "metadata": {},
   "source": [
    "#### Plotting variables"
   ]
  },
  {
   "cell_type": "code",
   "execution_count": 245,
   "metadata": {
    "collapsed": true
   },
   "outputs": [],
   "source": [
    "# Setting the colors for the different plots, \n",
    "# such that all plots get the same colors\n",
    "homeGreen = 'rgb(0, 204, 0)'\n",
    "hedeBlue  = 'rgb(0, 0, 255)'\n",
    "pieGreen  = homeGreen\n",
    "pieOrange = 'rgb(246, 214, 56)'\n",
    "pieRed    = 'rgb(204, 0, 0)'\n",
    "ticksAxes = 'rgb(107, 107, 107)'\n",
    "bgBorder  = 'rgba(255, 255, 255, 0)'"
   ]
  },
  {
   "cell_type": "markdown",
   "metadata": {},
   "source": [
    "#### Creating pie chart"
   ]
  },
  {
   "cell_type": "markdown",
   "metadata": {},
   "source": [
    "Missing: automatize the reading of files"
   ]
  },
  {
   "cell_type": "code",
   "execution_count": 281,
   "metadata": {
    "collapsed": false
   },
   "outputs": [
    {
     "data": {
      "image/png": "[encoded data removed]",
      "text/plain": [
       "<IPython.core.display.Image object>"
      ]
     },
     "execution_count": 281,
     "metadata": {},
     "output_type": "execute_result"
    }
   ],
   "source": [
    "# Save plot to proper location\n",
    "folder = 'Visualization' # put all in folder: visualization\n",
    "plotType = '-fa'          # type: fresh air\n",
    "# week number and home alias from earlier variables\n",
    "directory = dir_name + \"/\" + folder + \"/\"\n",
    "\n",
    "# If directory path does not exist - create it\n",
    "if not path.exists(directory):\n",
    "    makedirs(directory)\n",
    "\n",
    "fullPathToPlot = directory + str(alias + plotType + \".png\")\n",
    "    \n",
    "val = [50, 20, 30]\n",
    "# Plot of air \n",
    "fig = {\n",
    "    'data': [{'labels': ['Indenfor anbefaling', 'Lidt over anbefaling', 'Over anbefaling'],\n",
    "              'values': val,\n",
    "              'type': 'pie',\n",
    "              'marker': {'colors': [pieGreen,\n",
    "                                    pieOrange,\n",
    "                                    pieRed]},\n",
    "              'textinfo': 'none'}],              \n",
    "    'layout': { 'autosize': False,\n",
    "                'width': 350,\n",
    "                'height': 350,\n",
    "                \"paper_bgcolor\": \"rgba(0, 0, 0, 0)\",\n",
    "                \"plot_bgcolor\": \"rgba(0, 0, 0, 0)\",\n",
    "                'showlegend': False}\n",
    "     }\n",
    "\n",
    "# Save to folder\n",
    "py.image.save_as(fig, filename=fullPathToPlot)\n",
    "Image(fullPathToPlot) # Display static image\n",
    "# Plot result\n",
    "#py.iplot(fig)"
   ]
  },
  {
   "cell_type": "code",
   "execution_count": null,
   "metadata": {
    "collapsed": false
   },
   "outputs": [],
   "source": []
  },
  {
   "cell_type": "code",
   "execution_count": 165,
   "metadata": {
    "collapsed": false
   },
   "outputs": [
    {
     "data": {
      "text/plain": [
       "'Week_11/Visualization/testhr.png'"
      ]
     },
     "execution_count": 165,
     "metadata": {},
     "output_type": "execute_result"
    }
   ],
   "source": [
    "fullPathToPlot"
   ]
  },
  {
   "cell_type": "code",
   "execution_count": null,
   "metadata": {
    "collapsed": true
   },
   "outputs": [],
   "source": []
  },
  {
   "cell_type": "markdown",
   "metadata": {},
   "source": [
    "----\n",
    "## <span style=\"color:darkred\">Netatmo arbejde</span> "
   ]
  },
  {
   "cell_type": "markdown",
   "metadata": {},
   "source": [
    "### Find alle Netatmo filer"
   ]
  },
  {
   "cell_type": "code",
   "execution_count": 14,
   "metadata": {
    "collapsed": false
   },
   "outputs": [
    {
     "name": "stdout",
     "output_type": "stream",
     "text": [
      "Files:\n",
      "['K\\xf8kken_3_3_2017.xls', 'Sovev\\xe6relse_3_3_2017.xls', 'Stue_3_3_2017.xls'] \n",
      "\n",
      "Number of files: 3\n"
     ]
    }
   ],
   "source": [
    "# Find all files in folder\n",
    "# Keep all files with extension .xls (the Netatmo files)\n",
    "netatmo_files = []\n",
    "netatmo_files += [file for file in listdir('.') if file.endswith('.xls')]\n",
    "# Print list of files\n",
    "print \"Files:\\n\", netatmo_files, \"\\n\\nNumber of files: %d\" % len(netatmo_files)"
   ]
  },
  {
   "cell_type": "markdown",
   "metadata": {},
   "source": [
    "### Read Netatmo files"
   ]
  },
  {
   "cell_type": "markdown",
   "metadata": {},
   "source": [
    "#### Extract overall temperature for all homes - per room file"
   ]
  },
  {
   "cell_type": "code",
   "execution_count": 15,
   "metadata": {
    "collapsed": false
   },
   "outputs": [
    {
     "name": "stdout",
     "output_type": "stream",
     "text": [
      "Error! File: K�kken_3_3_2017.xls missing room classification!\n"
     ]
    }
   ],
   "source": [
    "# files for room data\n",
    "all_time_liv = pd.DataFrame()\n",
    "all_time_bed = pd.DataFrame()\n",
    "\n",
    "liv_pattern = (re.compile(livingroom_pattern))\n",
    "bed_pattern = (re.compile(bedroom_pattern))\n",
    "\n",
    "# Merge all files for given room (living room (+ kitchen/upstairs), bedroom)\n",
    "for room_file in netatmo_files:\n",
    "    if liv_pattern.match(room_file):\n",
    "        # read file\n",
    "        liv_data = pd.read_excel(room_file) \n",
    "        # Change range of data and give new column names\n",
    "        liv_data.columns = liv_data.iloc[1,:]\n",
    "        liv_data = liv_data.drop(liv_data.index[[0,1]])\n",
    "        \n",
    "        # Add content to all time data file\n",
    "        all_time_liv.append([liv_data])\n",
    "        \n",
    "    elif bed_pattern.match(room_file):\n",
    "        # read file\n",
    "        bed_data = pd.read_excel(room_file) \n",
    "        # Change range of data and give new column names\n",
    "        bed_data.columns = bed_data.iloc[1,:]\n",
    "        bed_data = bed_data.drop(bed_data.index[[0,1]])\n",
    "        \n",
    "        # Add content to all time data file\n",
    "        all_time_bed.append([bed_data])\n",
    "        \n",
    "    else: \n",
    "         print \"Error! File: %s missing room classification!\" % room_file"
   ]
  },
  {
   "cell_type": "code",
   "execution_count": 314,
   "metadata": {
    "collapsed": false
   },
   "outputs": [],
   "source": [
    "new = liv_data.groupby([liv_data[\"Timezone : Europe/Stockholm\"].dt.day, liv_data[\"Timezone : Europe/Stockholm\"].dt.hour]).mean()"
   ]
  },
  {
   "cell_type": "code",
   "execution_count": null,
   "metadata": {
    "collapsed": false
   },
   "outputs": [],
   "source": []
  },
  {
   "cell_type": "code",
   "execution_count": 16,
   "metadata": {
    "collapsed": false
   },
   "outputs": [
    {
     "ename": "ZeroDivisionError",
     "evalue": "integer division or modulo by zero",
     "output_type": "error",
     "traceback": [
      "\u001b[1;31m---------------------------------------------------------------------------\u001b[0m",
      "\u001b[1;31mZeroDivisionError\u001b[0m                         Traceback (most recent call last)",
      "\u001b[1;32m<ipython-input-16-3d4120c4de4c>\u001b[0m in \u001b[0;36m<module>\u001b[1;34m()\u001b[0m\n\u001b[0;32m      7\u001b[0m \u001b[1;32mfor\u001b[0m \u001b[0mday\u001b[0m \u001b[1;32min\u001b[0m \u001b[0mliv_data\u001b[0m\u001b[1;33m[\u001b[0m\u001b[1;34m'Timezone : Europe/Stockholm'\u001b[0m\u001b[1;33m]\u001b[0m\u001b[1;33m.\u001b[0m\u001b[0mdt\u001b[0m\u001b[1;33m.\u001b[0m\u001b[0mday\u001b[0m\u001b[1;33m:\u001b[0m\u001b[1;33m\u001b[0m\u001b[0m\n\u001b[0;32m      8\u001b[0m     \u001b[0mdays\u001b[0m \u001b[1;33m=\u001b[0m \u001b[0mliv_data\u001b[0m\u001b[1;33m.\u001b[0m\u001b[0mloc\u001b[0m\u001b[1;33m[\u001b[0m\u001b[0mliv_data\u001b[0m\u001b[1;33m[\u001b[0m\u001b[1;34m'Timezone : Europe/Stockholm'\u001b[0m\u001b[1;33m]\u001b[0m\u001b[1;33m.\u001b[0m\u001b[0mdt\u001b[0m\u001b[1;33m.\u001b[0m\u001b[0mhour\u001b[0m\u001b[1;33m.\u001b[0m\u001b[0misin\u001b[0m\u001b[1;33m(\u001b[0m\u001b[1;33m[\u001b[0m\u001b[0mday\u001b[0m\u001b[1;33m]\u001b[0m\u001b[1;33m)\u001b[0m\u001b[1;33m]\u001b[0m\u001b[1;33m\u001b[0m\u001b[0m\n\u001b[1;32m----> 9\u001b[1;33m     \u001b[0mrunMean\u001b[0m\u001b[1;33m.\u001b[0m\u001b[0mappend\u001b[0m\u001b[1;33m(\u001b[0m\u001b[0mdays\u001b[0m\u001b[1;33m[\u001b[0m\u001b[1;34m'Temperature'\u001b[0m\u001b[1;33m]\u001b[0m\u001b[1;33m.\u001b[0m\u001b[0msum\u001b[0m\u001b[1;33m(\u001b[0m\u001b[0maxis\u001b[0m\u001b[1;33m=\u001b[0m\u001b[1;36m0\u001b[0m\u001b[1;33m)\u001b[0m\u001b[1;33m/\u001b[0m\u001b[0mlen\u001b[0m\u001b[1;33m(\u001b[0m\u001b[0mdays\u001b[0m\u001b[1;33m[\u001b[0m\u001b[1;34m'Temperature'\u001b[0m\u001b[1;33m]\u001b[0m\u001b[1;33m)\u001b[0m\u001b[1;33m)\u001b[0m \u001b[1;31m# selects columns\u001b[0m\u001b[1;33m\u001b[0m\u001b[0m\n\u001b[0m",
      "\u001b[1;31mZeroDivisionError\u001b[0m: integer division or modulo by zero"
     ]
    }
   ],
   "source": [
    "liv_data['Timezone : Europe/Stockholm'] = pd.to_datetime(liv_data['Timezone : Europe/Stockholm'])\n",
    "# Append our to existing dataframe\n",
    "liv_data['Hour'] = liv_data['Timezone : Europe/Stockholm'].dt.hour\n",
    "\n",
    "runMean = []\n",
    "# Create full list\n",
    "for day in liv_data['Timezone : Europe/Stockholm'].dt.day:\n",
    "    days = liv_data.loc[liv_data['Timezone : Europe/Stockholm'].dt.hour.isin([day])]\n",
    "    runMean.append(days['Temperature'].sum(axis=0)/len(days['Temperature'])) # selects columns\n"
   ]
  },
  {
   "cell_type": "code",
   "execution_count": 17,
   "metadata": {
    "collapsed": false
   },
   "outputs": [
    {
     "data": {
      "text/plain": [
       "1997"
      ]
     },
     "execution_count": 17,
     "metadata": {},
     "output_type": "execute_result"
    }
   ],
   "source": [
    "len(liv_data)\n",
    "#liv_data['Timezone : Europe/Stockholm'].dt.day"
   ]
  },
  {
   "cell_type": "code",
   "execution_count": 237,
   "metadata": {
    "collapsed": false
   },
   "outputs": [
    {
     "name": "stdout",
     "output_type": "stream",
     "text": [
      "yes!\n"
     ]
    }
   ],
   "source": [
    "#test \n",
    "import re\n",
    "pattern = re.compile(livingroom_pattern)\n",
    "if pattern.match('kken_luvet'):\n",
    "    print 'yes!'"
   ]
  },
  {
   "cell_type": "markdown",
   "metadata": {},
   "source": [
    "#### Read data per home"
   ]
  },
  {
   "cell_type": "code",
   "execution_count": 25,
   "metadata": {
    "collapsed": false
   },
   "outputs": [
    {
     "name": "stdout",
     "output_type": "stream",
     "text": [
      "File:          K�kken_3_3_2017.xls\n",
      "Location name: He171, Køkken\n",
      "Max temp       22.8 \n",
      "Min temp       20.9 \n",
      "\n",
      "File:          Sovev�relse_3_3_2017.xls\n",
      "Location name: He171, Soveværelse\n",
      "Max temp       22.2 \n",
      "Min temp       18.2 \n",
      "\n",
      "File:          Stue_3_3_2017.xls\n",
      "Location name: He171, Stue\n",
      "Max temp       22.3 \n",
      "Min temp       19.8 \n",
      "\n"
     ]
    }
   ],
   "source": [
    "# Indlæs netatmo data -- this will need to extract data based on home\n",
    "for room_file in netatmo_files:\n",
    "    netatmo_data = pd.read_excel(room_file) \n",
    "    # Get name for output file\n",
    "    location_name = netatmo_data.iloc[0,0]\n",
    "\n",
    "    # Get room for output file\n",
    "    room_name = netatmo_data.iloc[0,3]\n",
    "    \n",
    "    # Change range of data and give new column names\n",
    "    netatmo_data.columns = netatmo_data.iloc[1,:]\n",
    "    netatmo_data = netatmo_data.drop(netatmo_data.index[[0,1]])\n",
    "    \n",
    "    # Make TimeSearies from Timestamp\n",
    "    netatmo_data[\"Timezone : Europe/Stockholm\"] = pd.to_datetime(netatmo_data[\"Timezone : Europe/Stockholm\"] )\n",
    "    # Print sheet values\n",
    "    print \"File:         \", room_file\n",
    "    print \"Location name:\", location_name + \",\", room_name\n",
    "    print \"Max temp      \", max(netatmo_data.Temperature), \"\\nMin temp      \", min(netatmo_data.Temperature), \"\\n\""
   ]
  },
  {
   "cell_type": "markdown",
   "metadata": {},
   "source": [
    "#### Extract CO2 - separate files"
   ]
  },
  {
   "cell_type": "code",
   "execution_count": 64,
   "metadata": {
    "collapsed": false
   },
   "outputs": [],
   "source": [
    "# CO2\n",
    "# for each location\n",
    "# up to 1000     - greeen\n",
    "# 1000-1500      - gul\n",
    "# 1500 and above - red\n",
    "co2_1000 = netatmo_data.loc[netatmo_data['CO2'] < 1000]\n",
    "co2_1500 = co2_1000.loc[co2_1000['CO2'] > 1500]       \n",
    "co2_2000 = co2_1500.loc[co2_1500['CO2'] > 2000] \n",
    "# Need more info -- should the data be between 1000 and 1500, 1500 and 2000 and all above?\n",
    "\n",
    "# Should only run on data within present times.."
   ]
  },
  {
   "cell_type": "markdown",
   "metadata": {},
   "source": [
    "#### Function: Extract humidity data\n",
    "Remember to remove last columns from have data!"
   ]
  },
  {
   "cell_type": "code",
   "execution_count": null,
   "metadata": {
    "collapsed": true
   },
   "outputs": [],
   "source": [
    "# Functions for extracting data\n",
    "def calculateHourlyTemp(dataFrame, hourName, tempName):\n",
    "    hour_cnt = {}\n",
    "    for hour in list(set(dataFrame[hourName])):\n",
    "        hourly = dataFrame.loc[dataFrame[hourName].isin([hour])]\n",
    "        hour_cnt[hour] = hourly[tempName].sum(axis=0)/(len(hourly))\n",
    "    return hour_cnt"
   ]
  },
  {
   "cell_type": "markdown",
   "metadata": {},
   "source": [
    "### Extract ``have`` file information -- outdoor temperature"
   ]
  },
  {
   "cell_type": "code",
   "execution_count": 247,
   "metadata": {
    "collapsed": false
   },
   "outputs": [],
   "source": [
    "# Read netatmo outdoor temp\n",
    "have_fil = pd.read_excel('have_3_4_2017.xls',sheetname='Worksheet')\n",
    "\n",
    "# Clean-up: remove header and first 2 rows\n",
    "have_fil.columns = have_fil.iloc[1,:]\n",
    "have_fil = have_fil.drop(have_fil.index[[0,1]])\n",
    "\n",
    "# Add hour label\n",
    "have_fil['HOUR']     = pd.to_datetime(have_fil['Timezone : Europe/Copenhagen']).dt.hour\n",
    "netatmo_data['HOUR'] = pd.to_datetime(netatmo_data['Timezone : Europe/Stockholm']).dt.hour\n",
    "\n",
    "# Create hourly vectors for t_i and t_u\n",
    "hour_cnt_netatmo = calculateHourlyTemp(netatmo_data, 'HOUR', 'Temperature')\n",
    "hour_cnt_have    = calculateHourlyTemp(have_fil, 'HOUR', 'Temperature')\n",
    "\n",
    "# initialize arrays for limit values rh_gul and rh_roed\n",
    "rh_gul = []\n",
    "rh_roed = []\n",
    "\n",
    "# Calculations for humidity equation\n",
    "# Constants\n",
    "for i in range(0,24):\n",
    "    calc = netatmo_data.loc[netatmo_data['HOUR'].isin([i])]\n",
    "    t_i     = np.asarray(hour_cnt_netatmo.values())\n",
    "    t_ude   = np.asarray(hour_cnt_have.values())\n",
    "    \n",
    "    t_v     = np.add(Fraction(1,3)*t_ude[i], Fraction(2,3)*t_i[i])\n",
    "\n",
    "    # Limit equations\n",
    "    p_mv = (math.exp(77.3450 + 0.0057*t_v) - (7235.0 / t_v) / t_v**8.2)\n",
    "    p_mi = (math.exp(77.3450 + 0.0057*t_i[i]) - (7235.0 / t_i)[i] / t_i[i]**8.2)\n",
    "\n",
    "    # Equation for upper and lower bound\n",
    "    rh_gul.append(100*0.6*p_mv/p_mi)\n",
    "    rh_roed.append(100*0.75*p_mv/p_mi)"
   ]
  },
  {
   "cell_type": "markdown",
   "metadata": {},
   "source": [
    "#### Calculate humidity as fraction of time within the tree boundaries, plot result\n",
    "Save the result to Visualization folder"
   ]
  },
  {
   "cell_type": "code",
   "execution_count": 267,
   "metadata": {
    "collapsed": false
   },
   "outputs": [
    {
     "name": "stdout",
     "output_type": "stream",
     "text": [
      "He171 Stue\n"
     ]
    },
    {
     "data": {
      "image/png": "[encoded data removed]",
      "text/plain": [
       "<IPython.core.display.Image object>"
      ]
     },
     "execution_count": 267,
     "metadata": {},
     "output_type": "execute_result"
    }
   ],
   "source": [
    "# Humidity\n",
    "# Missing outdoor temp\n",
    "# Only for rooms with humidity measure\n",
    "hr_data    = netatmo_data[['Humidity', 'Temperature', 'HOUR']]\n",
    "rh_dict = dict.fromkeys(['middleValue', 'lowValue', 'highValue'], 0)\n",
    "\n",
    "# Check netatmo data against humidity boundaries for each hour of day\n",
    "for i in range(0, len(hr_data['Humidity'])):\n",
    "    \n",
    "    # if humidity value are between rh_gul and rh_roed \n",
    "    if hr_data.iloc[i,0] > rh_gul[hr_data.iloc[i,2]] and hr_data.iloc[i,0] < rh_roed[hr_data.iloc[i,2]]:\n",
    "        rh_dict['middleValue'] += 1\n",
    "    # If humidity is less than rh_gul\n",
    "    elif hr_data.iloc[i,0] < rh_gul[hr_data.iloc[i,2]]:\n",
    "        rh_dict['lowValue'] += 1\n",
    "    # If humidity is greater than rh_roed \n",
    "    elif hr_data.iloc[i,0] > rh_roed[hr_data.iloc[i,2]]:\n",
    "        rh_dict['highValue'] += 1\n",
    "    else:\n",
    "        print 'Something fails'\n",
    "        \n",
    "# percentages for plotting\n",
    "print location_name, room_name\n",
    "\n",
    "\n",
    "# Save plot to proper location\n",
    "folder = 'Visualization'  # put all in folder: visualization\n",
    "plotType = '-hr'           # type: humidity rate\n",
    "# week number and home alias from earlier variables\n",
    "directory = dir_name + \"/\" + folder + \"/\"\n",
    "\n",
    "# If directory path does not exist - create it\n",
    "if not path.exists(directory):\n",
    "    makedirs(directory)\n",
    "\n",
    "fullPathToPlot = directory + str(location_name + room_name + plotType + \".png\")\n",
    "    \n",
    "# Plot over fresh air \n",
    "fig = {\n",
    "    'data': [{'labels': ['Under anbefaling', 'Indenfor anbefaling', 'Over anbefaling'],\n",
    "              'values': [rh_dict['lowValue']   / len(hr_data)*100,\n",
    "                         rh_dict['middleValue']/ len(hr_data)*100,\n",
    "                         rh_dict['highValue']  / len(hr_data)*100],\n",
    "              'type': 'pie', \n",
    "              'marker': {'colors': [pieOrange,\n",
    "                                    pieGreen,\n",
    "                                    pieRed]},\n",
    "              'textinfo': 'none', \n",
    "              'showlegend': False,\n",
    "              \"paper_bgcolor\": \"rgba(0, 0, 0, 0)\",\n",
    "              \"plot_bgcolor\": \"rgba(0, 0, 0, 0)\"}],\n",
    "    'layout': { 'autosize': False,\n",
    "                'width': 350,\n",
    "                'height': 350,\n",
    "                \"paper_bgcolor\": \"rgba(0, 0, 0, 0)\",\n",
    "                \"plot_bgcolor\": \"rgba(0, 0, 0, 0)\",\n",
    "                'showlegend': False}\n",
    "     }\n",
    "\n",
    "# Save to folder\n",
    "py.image.save_as(fig, filename=fullPathToPlot)\n",
    "# Plot result\n",
    "Image(fullPathToPlot) # Display a static image\n",
    "#py.iplot(fig)"
   ]
  },
  {
   "cell_type": "markdown",
   "metadata": {},
   "source": [
    "### Temperature plot"
   ]
  },
  {
   "cell_type": "code",
   "execution_count": null,
   "metadata": {
    "collapsed": true
   },
   "outputs": [],
   "source": [
    "# Avg temp for all homes\n",
    "# When full dataset is present"
   ]
  },
  {
   "cell_type": "code",
   "execution_count": 274,
   "metadata": {
    "collapsed": false
   },
   "outputs": [
    {
     "data": {
      "image/png": "[encoded data removed]",
      "text/plain": [
       "<IPython.core.display.Image object>"
      ]
     },
     "execution_count": 274,
     "metadata": {},
     "output_type": "execute_result"
    }
   ],
   "source": [
    "# Save plot to proper location\n",
    "folder         = 'Visualization' # put all in folder: visualization\n",
    "plotType       = '-temp'          # type: temperature\n",
    "# Week number and home alias from earlier variables\n",
    "directory = dir_name + \"/\" + folder + \"/\"\n",
    "\n",
    "# If directory path does not exist - create it\n",
    "if not path.exists(directory):\n",
    "    makedirs(directory)\n",
    "\n",
    "fullPathToPlot = directory + str(alias + plotType + \".png\")\n",
    "\n",
    "# Plotting weekly temperature overview\n",
    "# Users comsumption\n",
    "trace1 = go.Scatter(\n",
    "          x = pd.to_datetime(netatmo_data[\"Timezone : Europe/Stockholm\"]),\n",
    "          y = list(netatmo_data.Temperature),\n",
    "    name = 'Din bolig', # Style name/legend entry with html tags\n",
    "    connectgaps=False\n",
    ")\n",
    "\n",
    "# Overall consumption mean for hedelyngen\n",
    "# To create mean of all homes -- read in full file and calculate mean per hour per day of week, data from what?\n",
    "\"\"\"trace2 = go.Scatter(\n",
    "    x=[1, 2, 3, 4, 5,\n",
    "       6, 7, 8, 9, 10,\n",
    "       11, 12, 13, 14, 15],\n",
    "    y=[5, 15, None, 10, 5,\n",
    "       0, 10, None, 15, 5,\n",
    "       5, 10, 20, 15, 5],\n",
    "    name = 'Hedelyngen',\n",
    ")\"\"\"\n",
    "\n",
    "data = [trace1]\n",
    "\n",
    "# Setting layout details for plot\n",
    "layout = go.Layout(\n",
    "    autosize = False,\n",
    "    width = 900,\n",
    "    height = 300,\n",
    "    paper_bgcolor = 'rgba(0, 0, 0, 0)',\n",
    "    plot_bgcolor = \"rgba(0, 0, 0, 0)\",\n",
    "    showlegend = False,\n",
    "\n",
    "    xaxis=dict(\n",
    "        tickfont=dict(\n",
    "            size=14,\n",
    "            color=ticksAxes\n",
    "        )\n",
    "    ),\n",
    "    \n",
    "    yaxis=dict(\n",
    "        range=[min(list(netatmo_data.Temperature))-1,max(list(netatmo_data.Temperature))+1],\n",
    "        zeroline=True,\n",
    "        titlefont=dict(\n",
    "            size=16,\n",
    "            color=ticksAxes\n",
    "        ),\n",
    "        tickfont=dict(\n",
    "            size=16,\n",
    "            color=ticksAxes\n",
    "        )\n",
    "    ),\n",
    "    \n",
    "    legend=dict(\n",
    "        x=0,\n",
    "        y=1.0,\n",
    "        bgcolor=bgBorder,\n",
    "        bordercolor=bgBorder\n",
    "    )\n",
    ")\n",
    "\n",
    "fig = go.Figure(data=data, layout=layout)\n",
    "py.image.save_as(fig, filename=fullPathToPlot)\n",
    "Image(fullPathToPlot) # Display a static image"
   ]
  },
  {
   "cell_type": "markdown",
   "metadata": {},
   "source": [
    "### Heat consumption plot"
   ]
  },
  {
   "cell_type": "code",
   "execution_count": 275,
   "metadata": {
    "collapsed": false
   },
   "outputs": [
    {
     "data": {
      "image/png": "[encoded data removed]",
      "text/plain": [
       "<IPython.core.display.Image object>"
      ]
     },
     "execution_count": 275,
     "metadata": {},
     "output_type": "execute_result"
    }
   ],
   "source": [
    "# Save plot to proper location\n",
    "folder = 'Visualization'  # put all in folder: visualization\n",
    "plotType = '-hc'           # type: heat consumption\n",
    "# week number and home alias from earlier variables\n",
    "fullPathToPlot = dir_name + \"/\" + folder + \"/\" + alias + plotType + \".png\"\n",
    "\n",
    "# Plot of heat consumption, your home vs. all \n",
    "data = [go.Bar(\n",
    "            x=['Din bolig', 'Hedelyngen'],\n",
    "            y=[500, 400],\n",
    "            marker=dict(\n",
    "                  color= [homeGreen,hedeBlue]\n",
    "        )\n",
    "    )]\n",
    "\n",
    "layout = go.Layout(\n",
    "    title='Varmeforbrug, ' + location_name,\n",
    "    autosize=False,\n",
    "    width=300,\n",
    "    height=500,\n",
    "    paper_bgcolor = 'rgba(0, 0, 0, 0)',\n",
    "    plot_bgcolor = \"rgba(0, 0, 0, 0)\",\n",
    "    showlegend = False,\n",
    "    xaxis=dict(\n",
    "        tickfont=dict(\n",
    "            size=14,\n",
    "            color=ticksAxes\n",
    "        )\n",
    "    ),\n",
    "    yaxis=dict(\n",
    "        title='kWh',\n",
    "        titlefont=dict(\n",
    "            size=16,\n",
    "            color=ticksAxes\n",
    "        ),\n",
    "        tickfont=dict(\n",
    "            size=14,\n",
    "            color=ticksAxes\n",
    "        )\n",
    "    ),\n",
    "    legend=dict(\n",
    "        x=0,\n",
    "        y=1.0,\n",
    "        bgcolor=bgBorder,\n",
    "        bordercolor=bgBorder\n",
    "    )\n",
    ")\n",
    "\n",
    "fig = go.Figure(data=data, layout=layout)\n",
    "# Save static image\n",
    "py.image.save_as(fig, filename=fullPathToPlot)\n",
    "Image(fullPathToPlot) # Display a static image\n",
    "\n",
    "#py.iplot(fig, filename='style-bar')"
   ]
  },
  {
   "cell_type": "markdown",
   "metadata": {},
   "source": []
  },
  {
   "cell_type": "markdown",
   "metadata": {},
   "source": [
    "### CO2 plot"
   ]
  },
  {
   "cell_type": "code",
   "execution_count": null,
   "metadata": {
    "collapsed": false
   },
   "outputs": [],
   "source": []
  },
  {
   "cell_type": "markdown",
   "metadata": {},
   "source": [
    "### Humidity plot"
   ]
  },
  {
   "cell_type": "code",
   "execution_count": null,
   "metadata": {
    "collapsed": true
   },
   "outputs": [],
   "source": []
  },
  {
   "cell_type": "code",
   "execution_count": null,
   "metadata": {
    "collapsed": true
   },
   "outputs": [],
   "source": []
  },
  {
   "cell_type": "code",
   "execution_count": null,
   "metadata": {
    "collapsed": true
   },
   "outputs": [],
   "source": []
  },
  {
   "cell_type": "markdown",
   "metadata": {},
   "source": [
    "## <span style=\"color:darkred\">Accessing Netatmo from their API</span>\n",
    "* [API description on GitHub](https://github.com/philippelt/netatmo-api-python)"
   ]
  },
  {
   "cell_type": "code",
   "execution_count": 116,
   "metadata": {
    "collapsed": true
   },
   "outputs": [],
   "source": [
    "import lnetatmo"
   ]
  },
  {
   "cell_type": "code",
   "execution_count": 176,
   "metadata": {
    "collapsed": true
   },
   "outputs": [],
   "source": [
    "# 'indeklima.forsog@gmail.com'"
   ]
  },
  {
   "cell_type": "code",
   "execution_count": null,
   "metadata": {
    "collapsed": true
   },
   "outputs": [],
   "source": []
  }
 ],
 "metadata": {
  "anaconda-cloud": {},
  "kernelspec": {
   "display_name": "Python [Root]",
   "language": "python",
   "name": "Python [Root]"
  },
  "language_info": {
   "codemirror_mode": {
    "name": "ipython",
    "version": 2
   },
   "file_extension": ".py",
   "mimetype": "text/x-python",
   "name": "python",
   "nbconvert_exporter": "python",
   "pygments_lexer": "ipython2",
   "version": "2.7.12"
  }
 },
 "nbformat": 4,
 "nbformat_minor": 0
}
