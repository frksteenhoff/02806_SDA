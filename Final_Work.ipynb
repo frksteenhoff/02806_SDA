{
 "cells": [
  {
   "cell_type": "markdown",
   "metadata": {},
   "source": [
    "## Work that might not be included in the final notebook for exam project\n",
    "\n",
    "## Missing values work -- waiting until access is granted to API\n",
    "\n",
    "#### Find missing address (street name) from geolocation"
   ]
  },
  {
   "cell_type": "code",
   "execution_count": 1,
   "metadata": {
    "collapsed": false
   },
   "outputs": [
    {
     "ename": "SyntaxError",
     "evalue": "Non-ASCII character '\\xc3' in file externalFunctions.py on line 1, but no encoding declared; see http://python.org/dev/peps/pep-0263/ for details (externalFunctions.py, line 1)",
     "output_type": "error",
     "traceback": [
      "\u001b[1;36m  File \u001b[1;32m\"externalFunctions.py\"\u001b[1;36m, line \u001b[1;32m1\u001b[0m\n\u001b[1;33m    # Henriette Steenhoff, Jonas Søndergaard Schmidt, DTU May 2017\u001b[0m\n\u001b[1;37m                                                                  ^\u001b[0m\n\u001b[1;31mSyntaxError\u001b[0m\u001b[1;31m:\u001b[0m Non-ASCII character '\\xc3' in file externalFunctions.py on line 1, but no encoding declared; see http://python.org/dev/peps/pep-0263/ for details\n"
     ]
    }
   ],
   "source": [
    "#import urllib2\n",
    "import numpy as np\n",
    "import re\n",
    "import matplotlib.pyplot as plt\n",
    "#from matplotlib.colors import ListedColormap\n",
    "#from mpl_toolkits.mplot3d import Axes3D\n",
    "from plotly import tools\n",
    "%matplotlib inline\n",
    "from scipy import stats, linalg\n",
    "import pandas as pd\n",
    "from collections import Counter \n",
    "from operator import itemgetter\n",
    "import geoplotlib as gpl\n",
    "from geoplotlib.utils import BoundingBox\n",
    "import calendar\n",
    "#from sklearn.preprocessing import LabelEncoder, OneHotEncoder, MinMaxScaler\n",
    "import pylab as pl\n",
    "#from sklearn import neighbors, datasets\n",
    "#from sklearn.neighbors import KNeighborsClassifier\n",
    "import geopy\n",
    "import json\n",
    "\n",
    "# Plotting with plotly\n",
    "import plotly \n",
    "from IPython.display import Image\n",
    "# Henriettes plotly API key og brugernavn -- gemmer plots i skyen\n",
    "plotly.tools.set_credentials_file(username='frksteenhoff2', api_key='duu8hsfRmuI5rF2EU8o5')\n",
    "import plotly.plotly as py\n",
    "import plotly.graph_objs as go\n",
    "import externalFunctions as ex\n",
    "pd.options.mode.chained_assignment = None  # default='warn'\n",
    "\n",
    "# Plotting color variables\n",
    "bgBorder  = 'rgba(255, 255, 255, 0)'\n",
    "ticksAxes = 'rgb(107, 107, 107)'\n",
    "years_of_interest = [2013, 2014, 2015, 2016]"
   ]
  },
  {
   "cell_type": "markdown",
   "metadata": {},
   "source": [
    "## The actual work"
   ]
  },
  {
   "cell_type": "code",
   "execution_count": 3,
   "metadata": {
    "collapsed": false
   },
   "outputs": [
    {
     "ename": "NameError",
     "evalue": "name 'traffic_data' is not defined",
     "output_type": "error",
     "traceback": [
      "\u001b[1;31m---------------------------------------------------------------------------\u001b[0m",
      "\u001b[1;31mNameError\u001b[0m                                 Traceback (most recent call last)",
      "\u001b[1;32m<ipython-input-3-d33115e466a9>\u001b[0m in \u001b[0;36m<module>\u001b[1;34m()\u001b[0m\n\u001b[0;32m      1\u001b[0m \u001b[1;31m# Replce missing borough values with \"unspecified\"\u001b[0m\u001b[1;33m\u001b[0m\u001b[1;33m\u001b[0m\u001b[0m\n\u001b[1;32m----> 2\u001b[1;33m \u001b[0mtraffic_data\u001b[0m\u001b[1;33m[\u001b[0m\u001b[1;34m'BOROUGH'\u001b[0m\u001b[1;33m]\u001b[0m        \u001b[1;33m=\u001b[0m \u001b[0mtraffic_data\u001b[0m\u001b[1;33m[\u001b[0m\u001b[1;34m'BOROUGH'\u001b[0m\u001b[1;33m]\u001b[0m\u001b[1;33m.\u001b[0m\u001b[0mreplace\u001b[0m\u001b[1;33m(\u001b[0m\u001b[0mnp\u001b[0m\u001b[1;33m.\u001b[0m\u001b[0mNaN\u001b[0m\u001b[1;33m,\u001b[0m \u001b[1;34m'Unspecified'\u001b[0m\u001b[1;33m)\u001b[0m\u001b[1;33m\u001b[0m\u001b[0m\n\u001b[0m\u001b[0;32m      3\u001b[0m \u001b[0mtraffic_data\u001b[0m\u001b[1;33m[\u001b[0m\u001b[1;34m'LOCATION'\u001b[0m\u001b[1;33m]\u001b[0m       \u001b[1;33m=\u001b[0m \u001b[0mtraffic_data\u001b[0m\u001b[1;33m[\u001b[0m\u001b[1;34m'LOCATION'\u001b[0m\u001b[1;33m]\u001b[0m\u001b[1;33m.\u001b[0m\u001b[0mreplace\u001b[0m\u001b[1;33m(\u001b[0m\u001b[0mnp\u001b[0m\u001b[1;33m.\u001b[0m\u001b[0mNaN\u001b[0m\u001b[1;33m,\u001b[0m \u001b[1;34m'Unspecified'\u001b[0m\u001b[1;33m)\u001b[0m\u001b[1;33m\u001b[0m\u001b[0m\n\u001b[0;32m      4\u001b[0m \u001b[0mtraffic_data\u001b[0m\u001b[1;33m[\u001b[0m\u001b[1;34m'ON STREET NAME'\u001b[0m\u001b[1;33m]\u001b[0m \u001b[1;33m=\u001b[0m \u001b[0mtraffic_data\u001b[0m\u001b[1;33m[\u001b[0m\u001b[1;34m'ON STREET NAME'\u001b[0m\u001b[1;33m]\u001b[0m\u001b[1;33m.\u001b[0m\u001b[0mreplace\u001b[0m\u001b[1;33m(\u001b[0m\u001b[0mnp\u001b[0m\u001b[1;33m.\u001b[0m\u001b[0mNaN\u001b[0m\u001b[1;33m,\u001b[0m \u001b[1;34m'Unspecified'\u001b[0m\u001b[1;33m)\u001b[0m\u001b[1;33m\u001b[0m\u001b[0m\n\u001b[0;32m      5\u001b[0m \u001b[1;33m\u001b[0m\u001b[0m\n",
      "\u001b[1;31mNameError\u001b[0m: name 'traffic_data' is not defined"
     ]
    }
   ],
   "source": [
    "# Replce missing borough values with \"unspecified\"\n",
    "traffic_data['BOROUGH']        = traffic_data['BOROUGH'].replace(np.NaN, 'Unspecified')\n",
    "traffic_data['LOCATION']       = traffic_data['LOCATION'].replace(np.NaN, 'Unspecified')\n",
    "traffic_data['ON STREET NAME'] = traffic_data['ON STREET NAME'].replace(np.NaN, 'Unspecified')\n",
    "\n",
    "# Extract the unspecified values\n",
    "missing_bor = traffic_data.loc[traffic_data['BOROUGH']        == 'Unspecified']\n",
    "missing_loc = traffic_data.loc[traffic_data['LOCATION']       == 'Unspecified']\n",
    "missing_st  = traffic_data.loc[traffic_data['ON STREET NAME'] == 'Unspecified']"
   ]
  },
  {
   "cell_type": "code",
   "execution_count": 2,
   "metadata": {
    "collapsed": false
   },
   "outputs": [
    {
     "ename": "NameError",
     "evalue": "name 'missing_st' is not defined",
     "output_type": "error",
     "traceback": [
      "\u001b[1;31m---------------------------------------------------------------------------\u001b[0m",
      "\u001b[1;31mNameError\u001b[0m                                 Traceback (most recent call last)",
      "\u001b[1;32m<ipython-input-2-e22e840a1f5b>\u001b[0m in \u001b[0;36m<module>\u001b[1;34m()\u001b[0m\n\u001b[0;32m      1\u001b[0m \u001b[1;31m# Extract all missing addresses that has a geo location\u001b[0m\u001b[1;33m\u001b[0m\u001b[1;33m\u001b[0m\u001b[0m\n\u001b[1;32m----> 2\u001b[1;33m \u001b[0mmis_address_w_geo\u001b[0m \u001b[1;33m=\u001b[0m \u001b[0mmissing_st\u001b[0m\u001b[1;33m.\u001b[0m\u001b[0mloc\u001b[0m\u001b[1;33m[\u001b[0m\u001b[0mmissing_st\u001b[0m\u001b[1;33m[\u001b[0m\u001b[1;34m'LOCATION'\u001b[0m\u001b[1;33m]\u001b[0m \u001b[1;33m!=\u001b[0m \u001b[1;34m'Unspecified'\u001b[0m\u001b[1;33m]\u001b[0m\u001b[1;33m\u001b[0m\u001b[0m\n\u001b[0m\u001b[0;32m      3\u001b[0m \u001b[0mgeo\u001b[0m \u001b[1;33m=\u001b[0m \u001b[0mlist\u001b[0m\u001b[1;33m(\u001b[0m\u001b[0mmis_address_w_geo\u001b[0m\u001b[1;33m[\u001b[0m\u001b[1;34m'LOCATION'\u001b[0m\u001b[1;33m]\u001b[0m\u001b[1;33m.\u001b[0m\u001b[0munique\u001b[0m\u001b[1;33m(\u001b[0m\u001b[1;33m)\u001b[0m\u001b[1;33m)\u001b[0m\u001b[1;33m\u001b[0m\u001b[0m\n\u001b[0;32m      4\u001b[0m \u001b[1;32mprint\u001b[0m \u001b[1;34m\"Number of unique missing addresses\"\u001b[0m\u001b[1;33m,\u001b[0m \u001b[0mlen\u001b[0m\u001b[1;33m(\u001b[0m\u001b[0mgeo\u001b[0m\u001b[1;33m)\u001b[0m\u001b[1;33m\u001b[0m\u001b[0m\n",
      "\u001b[1;31mNameError\u001b[0m: name 'missing_st' is not defined"
     ]
    }
   ],
   "source": [
    "# Extract all missing addresses that has a geo location\n",
    "mis_address_w_geo = missing_st.loc[missing_st['LOCATION'] != 'Unspecified']\n",
    "geo = list(mis_address_w_geo['LOCATION'].unique())\n",
    "print \"Number of unique missing addresses\", len(geo)"
   ]
  },
  {
   "cell_type": "code",
   "execution_count": null,
   "metadata": {
    "collapsed": true
   },
   "outputs": [],
   "source": [
    "from geopy.geocoders import Nominatim\n",
    "geolocator = Nominatim()\n",
    "from random import randint\n",
    "from time import sleep\n",
    "\n",
    "# Initialize list of street names\n",
    "mis_adr = []\n",
    "\n",
    "# Extract lon/lat from location\n",
    "for i in range(0, len(geo)):\n",
    "    lon = geo[0].split(\",\")[0].strip(\"(\")\n",
    "    lat = geo[1].split(\",\")[1].strip(\")\").strip(\" \")\n",
    "    location = geolocator.reverse(lon + \",\" + lat)\n",
    "    mis_adr.append((location.address).split(\",\")[2])\n",
    "    sleep(randint(10,100))\n",
    "    "
   ]
  },
  {
   "cell_type": "code",
   "execution_count": null,
   "metadata": {
    "collapsed": true
   },
   "outputs": [],
   "source": [
    "mis_geo_w_addr = missing_loc.loc[missing_loc['ON STREET NAME'] != 'Unspecified']\n",
    "print len(mis_geo_w_addr)\n",
    "adr = list(mis_geo_w_addr['ON STREET NAME'])"
   ]
  },
  {
   "cell_type": "code",
   "execution_count": null,
   "metadata": {
    "collapsed": true
   },
   "outputs": [],
   "source": [
    "# Find out what can be done by using geopy\n",
    "from geopy.geocoders import Nominatim\n",
    "geolocator = Nominatim()\n",
    "\n",
    "mis_boroughs = []\n",
    "# Find boroughs for as many addresses as possible \n",
    "for i in range(0, len(adr)):\n",
    "    location = geolocator.geocode(adr[i] +  \"New York City\")\n",
    "    \n",
    "    if location != None:\n",
    "        # Show full address\n",
    "        #print(\"\\n\" + location.address)\n",
    "\n",
    "        # Extract borough from address\n",
    "        #print(location.address.split(\",\")[2:3].strip(\" \"))\n",
    "\n",
    "        # Extract basic address from address\n",
    "        #print(location.address.split(\",\")[0].strip(\" \"))\n",
    "        #print((location.latitude, location.longitude))\n",
    "        \n",
    "        mis_boroughs.append(str(location.address.split(\",\")[2:3]).strip(\" \"))\n",
    "    else:\n",
    "        #print \"\\nDamn it! Address at %d not found\" % i\n",
    "        mis_boroughs.append(np.NaN)"
   ]
  },
  {
   "cell_type": "markdown",
   "metadata": {},
   "source": [
    "## Extracting traffic density information\n",
    "This data is fetched from a NYC [Traffic Volume Report](https://l.facebook.com/l.php?u=https%3A%2F%2Fwww.dot.ny.gov%2Fdivisions%2Fengineering%2Ftechnical-services%2Fhds-respository%2FNYSDOT_2015TrafficVolumeReport-LocalRoads.pdf&h=ATOc31eRGO0FZDuZgAKOINQPGALSqJ9PT7XQIf8bpcYoDwuXV9agqxqTWALg0SpIRIQS9wZJaTo28nzTB3_X-P782waRplcXmtqZ1inoSjehe4hdeGV91VjxwLFRswv-tO-6fE13)\n",
    "\n",
    "We have extracted only the information we need for the 5 boroughs we are working on."
   ]
  },
  {
   "cell_type": "code",
   "execution_count": null,
   "metadata": {
    "collapsed": true
   },
   "outputs": [],
   "source": [
    "traffic_density = pd.DataFrame()\n",
    "density_merge = pd.DataFrame()\n",
    "\n",
    "# Reading in all sheets from excel sheet to create one large dataframe of denisty information\n",
    "for i in range(1,112):\n",
    "    traffic_density = pd.read_excel('NYC_traffic_density.xlsx', sheetname=\"Table \"+str(i), skiprows=4, header=1)\n",
    "    density_merge = density_merge.append(traffic_density)\n",
    "\n",
    "# Find columns starting with \"Unnamed\"\n",
    "filter_col = [col for col in list(density_merge) if not col.startswith('Unnamed')]\n",
    "# Keep only columns without \"Unnamed values\"\n",
    "density_merge = density_merge[filter_col]\n",
    "\n",
    "# Save file to excel (only valid columns)\n",
    "writer = pd.ExcelWriter('density.xlsx')\n",
    "density_merge.to_excel(writer,'Sheet1')\n",
    "writer.save()"
   ]
  },
  {
   "cell_type": "code",
   "execution_count": null,
   "metadata": {
    "collapsed": true
   },
   "outputs": [],
   "source": [
    "# reading in the slightly edited file and selecting needed features\n",
    "density = pd.read_excel('density_2.xlsx')\n",
    "# Annual average daily traffic\n",
    "needed_dens = density[['Borough','AADT', 'Beginning Description', 'End Description', 'Road Name']]\n",
    "needed_dens[:10]"
   ]
  },
  {
   "cell_type": "code",
   "execution_count": null,
   "metadata": {
    "collapsed": true
   },
   "outputs": [],
   "source": []
  },
  {
   "cell_type": "code",
   "execution_count": null,
   "metadata": {
    "collapsed": true
   },
   "outputs": [],
   "source": []
  },
  {
   "cell_type": "markdown",
   "metadata": {},
   "source": [
    "## Traffic info"
   ]
  },
  {
   "cell_type": "markdown",
   "metadata": {},
   "source": [
    "**2016 - info**\n",
    "\n",
    "``PASSENGER VEHICLE``\n",
    "* Over the entire map. \n",
    "* Not as much in August/September\n",
    "\n",
    "``NaN``\n",
    "* Nearly none in January/February\n",
    "* lots centered around Lower Manhattan..\n",
    "\n",
    "``STATION WAGON``\n",
    "* Wide spread\n",
    "* High decrease from May to August\n",
    "* Impact on all boroughs\n",
    "\n",
    "\n",
    "``TAXI``\n",
    "* Impact most in Manhattan/Brooklyn area\n",
    "* HIGHLY centered around Times Square\n",
    "* Mostly in fall/spring\n",
    "* April/May/June/July close to no accidents\n",
    "\n",
    "``SCOOTER``\n",
    "* Almost no incidents -- not very exciting\n",
    "\n",
    "``BUS``\n",
    "* Only January to March?\n",
    "\n",
    "``VAN``\n",
    "* Not that interesting\n",
    "* Few incidents from August to December"
   ]
  },
  {
   "cell_type": "markdown",
   "metadata": {},
   "source": [
    "### <span style=\"color:darkred\">Specific vehicle types maybe?</span>\n",
    "<span style=\"color:red\">Should we include this?</span>"
   ]
  },
  {
   "cell_type": "code",
   "execution_count": null,
   "metadata": {
    "collapsed": true
   },
   "outputs": [],
   "source": [
    "# Using killed_inc from extracted above to plot places with fatal accidents\n",
    "yearData = traffic_data.loc[traffic_data['YEAR'].isin([2016])]\n",
    "#plotData1 = plotData.loc[plotData['LONGITUDE'] != 'UNKNOWN']\n",
    "plotData2 = yearData.loc[yearData['VEHICLE TYPE CODE 1'].isin(['VAN'])]\n",
    "#plotData2['LONGITUDE'] = plotData2['LONGITUDE'].replace(np.NaN, 'UNKNOWN')\n",
    "\n",
    "ex.plotGeoData(plotData2, 'MONTH', \"Current month\")"
   ]
  },
  {
   "cell_type": "markdown",
   "metadata": {
    "collapsed": true
   },
   "source": [
    "### <span style=\"color:darkred\">Printing monthly data for specific feature</span>\n",
    "<span style=\"color:red\">Should we include this?</span>"
   ]
  },
  {
   "cell_type": "code",
   "execution_count": null,
   "metadata": {
    "collapsed": true
   },
   "outputs": [],
   "source": [
    "# Using killed_inc from extracted above to plot places with fatal accidents\n",
    "years_of_interest = [2013, 2014, 2015, 2016]\n",
    "#plotData = killed_inc\n",
    "#plotData = killed_inc.loc[killed_inc['NUMBER OF MOTORIST KILLED'] != 0]\n",
    "plotData = traffic_data.loc[traffic_data['YEAR'].isin([2016])]\n",
    "plotData['LONGITUDE'] = plotData['LONGITUDE'].replace(np.NaN, 'UNKNOWN')\n",
    "plotData2 = plotData.loc[plotData['LONGITUDE'] != 'UNKNOWN']\n",
    "\n",
    "ex.plotGeoData(plotData2, 'MONTH', \"Current month\")"
   ]
  },
  {
   "cell_type": "markdown",
   "metadata": {
    "collapsed": true
   },
   "source": [
    "### <span style=\"color:darkred\">Plotting the geolocations where accidents were fatal</span>\n",
    "<span style=\"color:red\">Should we include this? -- should scale down on number of plots..</span>"
   ]
  },
  {
   "cell_type": "code",
   "execution_count": null,
   "metadata": {
    "collapsed": true
   },
   "outputs": [],
   "source": [
    "# Using killed_inc from extracted above to plot places with fatal accidents\n",
    "plot_inc_d = {}\n",
    "#plotData = killed_inc\n",
    "plotData = killed_inc.loc[killed_inc['NUMBER OF PERSONS KILLED'] != 0]\n",
    "\n",
    "for year in years_of_interest:\n",
    "    borough_acc = plotData.loc[plotData['YEAR'].isin([year])]\n",
    "    \n",
    "    plot_inc = {}\n",
    "    plot_inc = borough_acc[['LATITUDE', 'LONGITUDE']]\n",
    "    plot_inc.columns = ['lat','lon']\n",
    "    \n",
    "    for col in plot_inc.columns:\n",
    "        plot_inc_d[col] = plot_inc[col].tolist()\n",
    "    \n",
    "    # Plotting the data w. geoplotlib\n",
    "    print \"Year:\", year\n",
    "    gpl.kde(plot_inc_d, bw=2, cut_below=2e-4)\n",
    "    gpl.set_bbox(BoundingBox(north=40.93, west=-73.85, south=40.53, east=-73.83))\n",
    "    gpl.inline()\n",
    "    gpl.add_layer"
   ]
  },
  {
   "cell_type": "code",
   "execution_count": null,
   "metadata": {
    "collapsed": true
   },
   "outputs": [],
   "source": []
  },
  {
   "cell_type": "markdown",
   "metadata": {},
   "source": [
    "### <span style=\"color:darkred\">Implementation plan</span>\n",
    "|   | Week no. | Task | Comment |\n",
    "|---|---|---|---|---|\n",
    "| **Assignment A** | 1 | Choose dataset |  | \n",
    "| Assignment A | 2 | Initial analysis of data for video presentation | Deadline: 17/04-17  |\n",
    "| **Assignment B** | 3 | Play with data + finding relevant models |  |  \n",
    "| Assignment B | 4 | Implementation of model |  |  \n",
    "| Assignment B | 5 | Webpage set-up + testing | Deadline: 09/05-17 | \n"
   ]
  },
  {
   "cell_type": "code",
   "execution_count": null,
   "metadata": {
    "collapsed": true
   },
   "outputs": [],
   "source": []
  }
 ],
 "metadata": {
  "anaconda-cloud": {},
  "kernelspec": {
   "display_name": "Python [Root]",
   "language": "python",
   "name": "Python [Root]"
  },
  "language_info": {
   "codemirror_mode": {
    "name": "ipython",
    "version": 2
   },
   "file_extension": ".py",
   "mimetype": "text/x-python",
   "name": "python",
   "nbconvert_exporter": "python",
   "pygments_lexer": "ipython2",
   "version": "2.7.12"
  }
 },
 "nbformat": 4,
 "nbformat_minor": 2
}
