{
 "cells": [
  {
   "cell_type": "markdown",
   "metadata": {},
   "source": [
    "## Work that might not be included in the final notebook for exam project\n",
    "\n",
    "## Missing values work -- waiting until access is granted to API\n",
    "\n",
    "#### Find missing address (street name) from geolocation"
   ]
  },
  {
   "cell_type": "code",
   "execution_count": null,
   "metadata": {
    "collapsed": true
   },
   "outputs": [],
   "source": [
    "#import urllib2\n",
    "import numpy as np\n",
    "import re\n",
    "import matplotlib.pyplot as plt\n",
    "#from matplotlib.colors import ListedColormap\n",
    "#from mpl_toolkits.mplot3d import Axes3D\n",
    "from plotly import tools\n",
    "%matplotlib inline\n",
    "from scipy import stats, linalg\n",
    "import pandas as pd\n",
    "from collections import Counter \n",
    "from operator import itemgetter\n",
    "import geoplotlib as gpl\n",
    "from geoplotlib.utils import BoundingBox\n",
    "import calendar\n",
    "#from sklearn.preprocessing import LabelEncoder, OneHotEncoder, MinMaxScaler\n",
    "import pylab as pl\n",
    "#from sklearn import neighbors, datasets\n",
    "#from sklearn.neighbors import KNeighborsClassifier\n",
    "import geopy\n",
    "import json\n",
    "\n",
    "# Plotting with plotly\n",
    "import plotly \n",
    "from IPython.display import Image\n",
    "# Henriettes plotly API key og brugernavn -- gemmer plots i skyen\n",
    "plotly.tools.set_credentials_file(username='frksteenhoff2', api_key='duu8hsfRmuI5rF2EU8o5')\n",
    "import plotly.plotly as py\n",
    "import plotly.graph_objs as go\n",
    "import externalFunctions as ex\n",
    "\n",
    "# Plotting color variables\n",
    "bgBorder  = 'rgba(255, 255, 255, 0)'\n",
    "ticksAxes = 'rgb(107, 107, 107)'\n",
    "years_of_interest = [2013, 2014, 2015, 2016]"
   ]
  },
  {
   "cell_type": "markdown",
   "metadata": {},
   "source": [
    "## The actual work"
   ]
  },
  {
   "cell_type": "code",
   "execution_count": null,
   "metadata": {
    "collapsed": true
   },
   "outputs": [],
   "source": [
    "# Replce missing borough values with \"unspecified\"\n",
    "traffic_data['BOROUGH']        = traffic_data['BOROUGH'].replace(np.NaN, 'Unspecified')\n",
    "traffic_data['LOCATION']       = traffic_data['LOCATION'].replace(np.NaN, 'Unspecified')\n",
    "traffic_data['ON STREET NAME'] = traffic_data['ON STREET NAME'].replace(np.NaN, 'Unspecified')\n",
    "\n",
    "# Extract the unspecified values\n",
    "missing_bor = traffic_data.loc[traffic_data['BOROUGH']        == 'Unspecified']\n",
    "missing_loc = traffic_data.loc[traffic_data['LOCATION']       == 'Unspecified']\n",
    "missing_st  = traffic_data.loc[traffic_data['ON STREET NAME'] == 'Unspecified']"
   ]
  },
  {
   "cell_type": "code",
   "execution_count": null,
   "metadata": {
    "collapsed": true
   },
   "outputs": [],
   "source": [
    "# Extract all missing addresses that has a geo location\n",
    "mis_address_w_geo = missing_st.loc[missing_st['LOCATION'] != 'Unspecified']\n",
    "geo = list(mis_address_w_geo['LOCATION'].unique())\n",
    "print \"Number of unique missing addresses\", len(geo)"
   ]
  },
  {
   "cell_type": "code",
   "execution_count": null,
   "metadata": {
    "collapsed": true
   },
   "outputs": [],
   "source": [
    "from geopy.geocoders import Nominatim\n",
    "geolocator = Nominatim()\n",
    "from random import randint\n",
    "from time import sleep\n",
    "\n",
    "# Initialize list of street names\n",
    "mis_adr = []\n",
    "\n",
    "# Extract lon/lat from location\n",
    "for i in range(0, len(geo)):\n",
    "    lon = geo[0].split(\",\")[0].strip(\"(\")\n",
    "    lat = geo[1].split(\",\")[1].strip(\")\").strip(\" \")\n",
    "    location = geolocator.reverse(lon + \",\" + lat)\n",
    "    mis_adr.append((location.address).split(\",\")[2])\n",
    "    sleep(randint(10,100))\n",
    "    "
   ]
  },
  {
   "cell_type": "code",
   "execution_count": null,
   "metadata": {
    "collapsed": true
   },
   "outputs": [],
   "source": [
    "mis_geo_w_addr = missing_loc.loc[missing_loc['ON STREET NAME'] != 'Unspecified']\n",
    "print len(mis_geo_w_addr)\n",
    "adr = list(mis_geo_w_addr['ON STREET NAME'])"
   ]
  },
  {
   "cell_type": "code",
   "execution_count": null,
   "metadata": {
    "collapsed": true
   },
   "outputs": [],
   "source": [
    "# Find out what can be done by using geopy\n",
    "from geopy.geocoders import Nominatim\n",
    "geolocator = Nominatim()\n",
    "\n",
    "mis_boroughs = []\n",
    "# Find boroughs for as many addresses as possible \n",
    "for i in range(0, len(adr)):\n",
    "    location = geolocator.geocode(adr[i] +  \"New York City\")\n",
    "    \n",
    "    if location != None:\n",
    "        # Show full address\n",
    "        #print(\"\\n\" + location.address)\n",
    "\n",
    "        # Extract borough from address\n",
    "        #print(location.address.split(\",\")[2:3].strip(\" \"))\n",
    "\n",
    "        # Extract basic address from address\n",
    "        #print(location.address.split(\",\")[0].strip(\" \"))\n",
    "        #print((location.latitude, location.longitude))\n",
    "        \n",
    "        mis_boroughs.append(str(location.address.split(\",\")[2:3]).strip(\" \"))\n",
    "    else:\n",
    "        #print \"\\nDamn it! Address at %d not found\" % i\n",
    "        mis_boroughs.append(np.NaN)"
   ]
  },
  {
   "cell_type": "markdown",
   "metadata": {},
   "source": [
    "## Extracting traffic density information\n",
    "This data is fetched from a NYC [Traffic Volume Report](https://l.facebook.com/l.php?u=https%3A%2F%2Fwww.dot.ny.gov%2Fdivisions%2Fengineering%2Ftechnical-services%2Fhds-respository%2FNYSDOT_2015TrafficVolumeReport-LocalRoads.pdf&h=ATOc31eRGO0FZDuZgAKOINQPGALSqJ9PT7XQIf8bpcYoDwuXV9agqxqTWALg0SpIRIQS9wZJaTo28nzTB3_X-P782waRplcXmtqZ1inoSjehe4hdeGV91VjxwLFRswv-tO-6fE13)\n",
    "\n",
    "We have extracted only the information we need for the 5 boroughs we are working on."
   ]
  },
  {
   "cell_type": "code",
   "execution_count": null,
   "metadata": {
    "collapsed": true
   },
   "outputs": [],
   "source": [
    "traffic_density = pd.DataFrame()\n",
    "density_merge = pd.DataFrame()\n",
    "\n",
    "# Reading in all sheets from excel sheet to create one large dataframe of denisty information\n",
    "for i in range(1,112):\n",
    "    traffic_density = pd.read_excel('NYC_traffic_density.xlsx', sheetname=\"Table \"+str(i), skiprows=4, header=1)\n",
    "    density_merge = density_merge.append(traffic_density)\n",
    "\n",
    "# Find columns starting with \"Unnamed\"\n",
    "filter_col = [col for col in list(density_merge) if not col.startswith('Unnamed')]\n",
    "# Keep only columns without \"Unnamed values\"\n",
    "density_merge = density_merge[filter_col]\n",
    "\n",
    "# Save file to excel (only valid columns)\n",
    "writer = pd.ExcelWriter('density.xlsx')\n",
    "density_merge.to_excel(writer,'Sheet1')\n",
    "writer.save()"
   ]
  },
  {
   "cell_type": "code",
   "execution_count": null,
   "metadata": {
    "collapsed": true
   },
   "outputs": [],
   "source": [
    "# reading in the slightly edited file and selecting needed features\n",
    "density = pd.read_excel('density_2.xlsx')\n",
    "# Annual average daily traffic\n",
    "needed_dens = density[['Borough','AADT', 'Beginning Description', 'End Description', 'Road Name']]\n",
    "needed_dens[:10]"
   ]
  },
  {
   "cell_type": "code",
   "execution_count": null,
   "metadata": {
    "collapsed": true
   },
   "outputs": [],
   "source": []
  },
  {
   "cell_type": "code",
   "execution_count": null,
   "metadata": {
    "collapsed": true
   },
   "outputs": [],
   "source": []
  },
  {
   "cell_type": "markdown",
   "metadata": {},
   "source": [
    "## Traffic info"
   ]
  },
  {
   "cell_type": "markdown",
   "metadata": {},
   "source": [
    "**2016 - info**\n",
    "\n",
    "``PASSENGER VEHICLE``\n",
    "* Over the entire map. \n",
    "* Not as much in August/September\n",
    "\n",
    "``NaN``\n",
    "* Nearly none in January/February\n",
    "* lots centered around Lower Manhattan..\n",
    "\n",
    "``STATION WAGON``\n",
    "* Wide spread\n",
    "* High decrease from May to August\n",
    "* Impact on all boroughs\n",
    "\n",
    "\n",
    "``TAXI``\n",
    "* Impact most in Manhattan/Brooklyn area\n",
    "* HIGHLY centered around Times Square\n",
    "* Mostly in fall/spring\n",
    "* April/May/June/July close to no accidents\n",
    "\n",
    "``SCOOTER``\n",
    "* Almost no incidents -- not very exciting\n",
    "\n",
    "``BUS``\n",
    "* Only January to March?\n",
    "\n",
    "``VAN``\n",
    "* Not that interesting\n",
    "* Few incidents from August to December"
   ]
  },
  {
   "cell_type": "code",
   "execution_count": null,
   "metadata": {
    "collapsed": true
   },
   "outputs": [],
   "source": []
  }
 ],
 "metadata": {
  "anaconda-cloud": {},
  "kernelspec": {
   "display_name": "Python [Root]",
   "language": "python",
   "name": "Python [Root]"
  },
  "language_info": {
   "codemirror_mode": {
    "name": "ipython",
    "version": 2
   },
   "file_extension": ".py",
   "mimetype": "text/x-python",
   "name": "python",
   "nbconvert_exporter": "python",
   "pygments_lexer": "ipython2",
   "version": "2.7.12"
  }
 },
 "nbformat": 4,
 "nbformat_minor": 2
}
